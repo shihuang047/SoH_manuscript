{
 "cells": [
  {
   "cell_type": "code",
   "execution_count": 1,
   "metadata": {},
   "outputs": [],
   "source": [
    "p <- c(\"vegan\",\"ade4\",\"reshape2\",\"ggplot2\",\"pheatmap\",\"dplyr\",\"vegan\", \"ape\", \"igraph\",\n",
    "       \"network\", \"sna\", \"corrplot\", \"cowplot\", \"grid\", \"GGally\")\n",
    "usePackage <- function(p) {\n",
    "  if (!is.element(p, installed.packages()[,1]))\n",
    "    install.packages(p, dep=TRUE, repos=\"https://cloud.r-project.org/\")\n",
    "  suppressWarnings(suppressMessages(invisible(require(p, character.only=TRUE))))\n",
    "}\n",
    "invisible(lapply(p, usePackage))\n",
    "library(\"crossRanger\")\n",
    "source(\"metabo_util.R\")\n",
    "#-------------------------------\n",
    "setwd('~/MyProjects/SoH_project/multi-omics')"
   ]
  },
  {
   "cell_type": "code",
   "execution_count": 2,
   "metadata": {},
   "outputs": [
    {
     "name": "stderr",
     "output_type": "stream",
     "text": [
      "Warning message in dir.create(outpath):\n",
      "“'co-occurrence_network_out' already exists”"
     ]
    }
   ],
   "source": [
    "outpath=\"co-occurrence_network_out/\"\n",
    "dir.create(outpath)"
   ]
  },
  {
   "cell_type": "code",
   "execution_count": 3,
   "metadata": {},
   "outputs": [
    {
     "name": "stderr",
     "output_type": "stream",
     "text": [
      "Skipping install of 'ggnet' from a github remote, the SHA1 (da9a7cf2) has not changed since last install.\n",
      "  Use `force = TRUE` to force installation\n",
      "\n",
      "Attaching package: ‘ggnet’\n",
      "\n",
      "The following objects are masked from ‘package:GGally’:\n",
      "\n",
      "    ggnet, ggnet2\n",
      "\n"
     ]
    }
   ],
   "source": [
    "devtools::install_github(\"briatte/ggnet\")\n",
    "library(ggnet)"
   ]
  },
  {
   "cell_type": "markdown",
   "metadata": {},
   "source": [
    "## Data input"
   ]
  },
  {
   "cell_type": "code",
   "execution_count": 4,
   "metadata": {},
   "outputs": [
    {
     "name": "stderr",
     "output_type": "stream",
     "text": [
      "Warning message in dir.create(outputPath):\n",
      "“'./multi-omics_corr' already exists”"
     ]
    },
    {
     "name": "stdout",
     "output_type": "stream",
     "text": [
      "The order of samples in the metabolome data and metadata are equal: TRUE \n",
      "The order of samples in the microbiome data and metadata are equal: TRUE \n",
      "The order of samples in the cytokines data and metadata are equal: TRUE"
     ]
    }
   ],
   "source": [
    "filename1<-\"PlaqueMS275.txt\"\n",
    "prefix1<-\"metabolomics\"\n",
    "metadata.filename1<-\"PlaqueMS275_Map.txt\"\n",
    "filename2=\"SoH261.taxa.genus.Abd.OralCore.xls\"\n",
    "prefix2<-\"microbiome-genus\"\n",
    "metadata.filename2<-\"SoH261_Map.txt\"\n",
    "filename3<-\"SoH192_cytokines.txt\"\n",
    "prefix3<-\"cytokines\"\n",
    "metadata.filename3<-\"SoH192_Map.txt\"\n",
    "\n",
    "outputPath<-\"./multi-omics_corr/\"\n",
    "dir.create(outputPath)\n",
    "f1<-read.table(filename1,header=TRUE,sep=\"\\t\",row.names=1, quote=\"\"); f1<-f1[order(rownames(f1)), ]\n",
    "f2<-read.table(filename2,header=TRUE,sep=\"\\t\",row.names=1); f2<-f2[order(rownames(f2)), ]\n",
    "f3<-read.table(filename3,header=TRUE,sep=\"\\t\",row.names=1); f3<-f3[order(rownames(f3)), ]\n",
    "m1<-read.table(metadata.filename1,header=T,sep=\"\\t\",row.names=1); m1<-m1[order(rownames(m1)), ]\n",
    "m2<-read.table(metadata.filename2,header=T,sep=\"\\t\",row.names=1); m2<-m2[order(rownames(m2)), ]\n",
    "m3<-read.table(metadata.filename3,header=T,sep=\"\\t\",row.names=1); m3<-m3[order(rownames(m3)), ]\n",
    "\n",
    "cat(\"The order of samples in the metabolome data and metadata are equal:\", all.equal(rownames(f1), rownames(m1)), \"\\n\")\n",
    "cat(\"The order of samples in the microbiome data and metadata are equal:\", all.equal(rownames(f2), rownames(m2)), \"\\n\")\n",
    "cat(\"The order of samples in the cytokines data and metadata are equal:\", all.equal(rownames(f3), rownames(m3)))\n"
   ]
  },
  {
   "cell_type": "markdown",
   "metadata": {},
   "source": [
    "## To identify intersected sample IDs between cytokines and microbiomes/metabolomes"
   ]
  },
  {
   "cell_type": "code",
   "execution_count": 5,
   "metadata": {},
   "outputs": [
    {
     "data": {
      "text/html": [
       "192"
      ],
      "text/latex": [
       "192"
      ],
      "text/markdown": [
       "192"
      ],
      "text/plain": [
       "[1] 192"
      ]
     },
     "metadata": {},
     "output_type": "display_data"
    },
    {
     "data": {
      "text/html": [
       "186"
      ],
      "text/latex": [
       "186"
      ],
      "text/markdown": [
       "186"
      ],
      "text/plain": [
       "[1] 186"
      ]
     },
     "metadata": {},
     "output_type": "display_data"
    },
    {
     "name": "stdout",
     "output_type": "stream",
     "text": [
      "# of shared samples across all omics data:  186 \n"
     ]
    }
   ],
   "source": [
    "Shared_SampleIDs_btw_cytokines_and_metabolome<-intersect(rownames(f1), rownames(f3))\n",
    "Shared_SampleIDs_btw_cytokines_and_microbiome<-intersect(rownames(f2), rownames(f3))\n",
    "length(Shared_SampleIDs_btw_cytokines_and_metabolome)\n",
    "length(Shared_SampleIDs_btw_cytokines_and_microbiome)\n",
    "Shared_SampleIDs<-intersect(Shared_SampleIDs_btw_cytokines_and_metabolome, Shared_SampleIDs_btw_cytokines_and_microbiome)\n",
    "cat(\"# of shared samples across all omics data: \", length(Shared_SampleIDs), \"\\n\")"
   ]
  },
  {
   "cell_type": "code",
   "execution_count": 6,
   "metadata": {},
   "outputs": [
    {
     "name": "stdout",
     "output_type": "stream",
     "text": [
      "The order of samples in the metabolome data and metadata are equal: TRUE \n",
      "The order of samples in the microbiome data and metadata are equal: TRUE \n",
      "The order of samples in the cytokine data and metadata are equal: TRUE \n"
     ]
    }
   ],
   "source": [
    "f1_s<-f1[Shared_SampleIDs,]; \n",
    "m1_s<-m1[Shared_SampleIDs,]; \n",
    "cat(\"The order of samples in the metabolome data and metadata are equal:\", all.equal(rownames(f1_s), rownames(m1_s)), \"\\n\")\n",
    "f2_s<-f2[Shared_SampleIDs,]; \n",
    "m2_s<-m2[Shared_SampleIDs,]; \n",
    "cat(\"The order of samples in the microbiome data and metadata are equal:\", all.equal(rownames(f2_s), rownames(m2_s)), \"\\n\")\n",
    "f3_s<-f3[Shared_SampleIDs,]; \n",
    "m3_s<-m3[Shared_SampleIDs,]; \n",
    "cat(\"The order of samples in the cytokine data and metadata are equal:\", all.equal(rownames(f2_s), rownames(m2_s)), \"\\n\")\n"
   ]
  },
  {
   "cell_type": "markdown",
   "metadata": {},
   "source": [
    "## The temporal difference in bleeding"
   ]
  },
  {
   "cell_type": "code",
   "execution_count": 7,
   "metadata": {},
   "outputs": [],
   "source": [
    "md3<-m2[, c(\"Host_ID\", \"Timepoint\", \"Bleeding\")]"
   ]
  },
  {
   "cell_type": "code",
   "execution_count": 8,
   "metadata": {},
   "outputs": [
    {
     "name": "stdout",
     "output_type": "stream",
     "text": [
      "Dataset:  DAY0_VS_DAY_21 \n",
      "unpaired Host IDs:   \n"
     ]
    },
    {
     "name": "stderr",
     "output_type": "stream",
     "text": [
      "Loading required package: lsr\n",
      "Warning message in cohensD(Bleeding ~ Timepoint, data = paired_comp_md3, method = \"paired\"):\n",
      "“calculating paired samples Cohen's d using formula input. Results will be incorrect if cases do not appear in the same order for both levels of the grouping factor”"
     ]
    },
    {
     "name": "stdout",
     "output_type": "stream",
     "text": [
      "Dataset:  DAY0_VS_DAY01 \n",
      "unpaired Host IDs:   \n"
     ]
    },
    {
     "name": "stderr",
     "output_type": "stream",
     "text": [
      "Warning message in cohensD(Bleeding ~ Timepoint, data = paired_comp_md3, method = \"paired\"):\n",
      "“calculating paired samples Cohen's d using formula input. Results will be incorrect if cases do not appear in the same order for both levels of the grouping factor”"
     ]
    },
    {
     "name": "stdout",
     "output_type": "stream",
     "text": [
      "Dataset:  DAY0_VS_DAY03 \n",
      "unpaired Host IDs:  H3034 \n"
     ]
    },
    {
     "name": "stderr",
     "output_type": "stream",
     "text": [
      "Warning message in cohensD(Bleeding ~ Timepoint, data = paired_comp_md3, method = \"paired\"):\n",
      "“calculating paired samples Cohen's d using formula input. Results will be incorrect if cases do not appear in the same order for both levels of the grouping factor”"
     ]
    },
    {
     "name": "stdout",
     "output_type": "stream",
     "text": [
      "Dataset:  DAY0_VS_DAY07 \n",
      "unpaired Host IDs:  H3034 \n"
     ]
    },
    {
     "name": "stderr",
     "output_type": "stream",
     "text": [
      "Warning message in cohensD(Bleeding ~ Timepoint, data = paired_comp_md3, method = \"paired\"):\n",
      "“calculating paired samples Cohen's d using formula input. Results will be incorrect if cases do not appear in the same order for both levels of the grouping factor”"
     ]
    },
    {
     "name": "stdout",
     "output_type": "stream",
     "text": [
      "Dataset:  DAY0_VS_DAY14 \n",
      "unpaired Host IDs:  H8003 L9011 \n"
     ]
    },
    {
     "name": "stderr",
     "output_type": "stream",
     "text": [
      "Warning message in cohensD(Bleeding ~ Timepoint, data = paired_comp_md3, method = \"paired\"):\n",
      "“calculating paired samples Cohen's d using formula input. Results will be incorrect if cases do not appear in the same order for both levels of the grouping factor”"
     ]
    },
    {
     "name": "stdout",
     "output_type": "stream",
     "text": [
      "Dataset:  DAY0_VS_DAY28 \n",
      "unpaired Host IDs:  H8003 \n"
     ]
    },
    {
     "name": "stderr",
     "output_type": "stream",
     "text": [
      "Warning message in cohensD(Bleeding ~ Timepoint, data = paired_comp_md3, method = \"paired\"):\n",
      "“calculating paired samples Cohen's d using formula input. Results will be incorrect if cases do not appear in the same order for both levels of the grouping factor”"
     ]
    },
    {
     "data": {
      "text/html": [
       "<table>\n",
       "<caption>A matrix: 6 × 6 of type dbl</caption>\n",
       "<thead>\n",
       "\t<tr><th></th><th scope=col>mean_diff</th><th scope=col>lower_conf.int</th><th scope=col>upper_conf.int</th><th scope=col>p_value</th><th scope=col>IfSig</th><th scope=col>cohens_d</th></tr>\n",
       "</thead>\n",
       "<tbody>\n",
       "\t<tr><th scope=row>DAY0_VS_DAY_21</th><td>9.0263158</td><td>6.9397935</td><td>11.1128381</td><td>1.465431e-10</td><td>1</td><td>1.4219240</td></tr>\n",
       "\t<tr><th scope=row>DAY0_VS_DAY01</th><td>0.1315789</td><td>0.4292324</td><td> 0.1660745</td><td>3.762104e-01</td><td>0</td><td>0.1452996</td></tr>\n",
       "\t<tr><th scope=row>DAY0_VS_DAY03</th><td>0.2432432</td><td>0.6974560</td><td> 0.2109695</td><td>2.846543e-01</td><td>0</td><td>0.1785536</td></tr>\n",
       "\t<tr><th scope=row>DAY0_VS_DAY07</th><td>0.9189189</td><td>1.4120699</td><td> 0.4257680</td><td>5.713900e-04</td><td>1</td><td>0.6212759</td></tr>\n",
       "\t<tr><th scope=row>DAY0_VS_DAY14</th><td>3.5000000</td><td>4.6622750</td><td> 2.3377250</td><td>5.476767e-07</td><td>1</td><td>1.0188894</td></tr>\n",
       "\t<tr><th scope=row>DAY0_VS_DAY28</th><td>6.8918919</td><td>9.0002870</td><td> 4.7834968</td><td>1.010619e-07</td><td>1</td><td>1.0898674</td></tr>\n",
       "</tbody>\n",
       "</table>\n"
      ],
      "text/latex": [
       "A matrix: 6 × 6 of type dbl\n",
       "\\begin{tabular}{r|llllll}\n",
       "  & mean\\_diff & lower\\_conf.int & upper\\_conf.int & p\\_value & IfSig & cohens\\_d\\\\\n",
       "\\hline\n",
       "\tDAY0\\_VS\\_DAY\\_21 & 9.0263158 & 6.9397935 & 11.1128381 & 1.465431e-10 & 1 & 1.4219240\\\\\n",
       "\tDAY0\\_VS\\_DAY01 & 0.1315789 & 0.4292324 &  0.1660745 & 3.762104e-01 & 0 & 0.1452996\\\\\n",
       "\tDAY0\\_VS\\_DAY03 & 0.2432432 & 0.6974560 &  0.2109695 & 2.846543e-01 & 0 & 0.1785536\\\\\n",
       "\tDAY0\\_VS\\_DAY07 & 0.9189189 & 1.4120699 &  0.4257680 & 5.713900e-04 & 1 & 0.6212759\\\\\n",
       "\tDAY0\\_VS\\_DAY14 & 3.5000000 & 4.6622750 &  2.3377250 & 5.476767e-07 & 1 & 1.0188894\\\\\n",
       "\tDAY0\\_VS\\_DAY28 & 6.8918919 & 9.0002870 &  4.7834968 & 1.010619e-07 & 1 & 1.0898674\\\\\n",
       "\\end{tabular}\n"
      ],
      "text/markdown": [
       "\n",
       "A matrix: 6 × 6 of type dbl\n",
       "\n",
       "| <!--/--> | mean_diff | lower_conf.int | upper_conf.int | p_value | IfSig | cohens_d |\n",
       "|---|---|---|---|---|---|---|\n",
       "| DAY0_VS_DAY_21 | 9.0263158 | 6.9397935 | 11.1128381 | 1.465431e-10 | 1 | 1.4219240 |\n",
       "| DAY0_VS_DAY01 | 0.1315789 | 0.4292324 |  0.1660745 | 3.762104e-01 | 0 | 0.1452996 |\n",
       "| DAY0_VS_DAY03 | 0.2432432 | 0.6974560 |  0.2109695 | 2.846543e-01 | 0 | 0.1785536 |\n",
       "| DAY0_VS_DAY07 | 0.9189189 | 1.4120699 |  0.4257680 | 5.713900e-04 | 1 | 0.6212759 |\n",
       "| DAY0_VS_DAY14 | 3.5000000 | 4.6622750 |  2.3377250 | 5.476767e-07 | 1 | 1.0188894 |\n",
       "| DAY0_VS_DAY28 | 6.8918919 | 9.0002870 |  4.7834968 | 1.010619e-07 | 1 | 1.0898674 |\n",
       "\n"
      ],
      "text/plain": [
       "               mean_diff lower_conf.int upper_conf.int p_value      IfSig\n",
       "DAY0_VS_DAY_21 9.0263158 6.9397935      11.1128381     1.465431e-10 1    \n",
       "DAY0_VS_DAY01  0.1315789 0.4292324       0.1660745     3.762104e-01 0    \n",
       "DAY0_VS_DAY03  0.2432432 0.6974560       0.2109695     2.846543e-01 0    \n",
       "DAY0_VS_DAY07  0.9189189 1.4120699       0.4257680     5.713900e-04 1    \n",
       "DAY0_VS_DAY14  3.5000000 4.6622750       2.3377250     5.476767e-07 1    \n",
       "DAY0_VS_DAY28  6.8918919 9.0002870       4.7834968     1.010619e-07 1    \n",
       "               cohens_d \n",
       "DAY0_VS_DAY_21 1.4219240\n",
       "DAY0_VS_DAY01  0.1452996\n",
       "DAY0_VS_DAY03  0.1785536\n",
       "DAY0_VS_DAY07  0.6212759\n",
       "DAY0_VS_DAY14  1.0188894\n",
       "DAY0_VS_DAY28  1.0898674"
      ]
     },
     "metadata": {},
     "output_type": "display_data"
    }
   ],
   "source": [
    "f=md3[, \"Timepoint\"]\n",
    "comp_group=\"DAY0\"\n",
    "all_other_groups<-levels(f)[which(levels(f)!=comp_group)]\n",
    "L<-length(all_other_groups)\n",
    "#all_groups<-levels(f); L<-length(all_groups)\n",
    "out<-matrix(NA, ncol=6, nrow=L); \n",
    "colnames(out)<-c(\"mean_diff\", \"lower_conf.int\", \"upper_conf.int\", \"p_value\", \"IfSig\", \"cohens_d\")\n",
    "rownames(out)<-paste(comp_group, all_other_groups, sep=\"_VS_\")\n",
    "for(i in 1:L){\n",
    "    dataset<-paste(comp_group, all_other_groups[i], sep=\"_VS_\")\n",
    "    cat(\"Dataset: \", dataset, \"\\n\")\n",
    "    comp_md3<-md3[which(f==comp_group | f==all_other_groups[i]), , drop=TRUE]\n",
    "    comp_md3[, \"Timepoint\"]<-factor(comp_md3[, \"Timepoint\"])\n",
    "    comp_md3[, \"Host_ID\"]<-factor(comp_md3[, \"Host_ID\"]) # xtabs(~ Host_ID + Timepoint, data=comp_md3)\n",
    "    #filter out unpaired hosts\n",
    "    xtable<-table(comp_md3[,c(\"Host_ID\",\"Timepoint\")]) \n",
    "    paired_Host_ID<-names(which(rowSums(xtable)==ncol(xtable)))\n",
    "    unpaired_Host_ID<-names(which(rowSums(xtable)!=ncol(xtable)))\n",
    "    cat(\"unpaired Host IDs: \", unpaired_Host_ID, \"\\n\")\n",
    "    paired_comp_md3<-subset(comp_md3, Host_ID %in% paired_Host_ID ) #xtabs(~ Host_ID + Timepoint, data=paired_comp_md3)\n",
    "    # paired t-test\n",
    "    ttest_out<-t.test(Bleeding ~ Timepoint, data=paired_comp_md3, paired=TRUE)\n",
    "    out[i,1]<-mean_diff<-abs(ttest_out$estimate)\n",
    "    out[i,2]<-lower_conf.int<-abs(ttest_out$conf.int)[1]\n",
    "    out[i,3]<-upper_conf.int<-abs(ttest_out$conf.int)[2]\n",
    "    out[i,4]<-pval<-ttest_out$p.value\n",
    "    out[i,5]<-ifsig<-ttest_out$p.value<0.05\n",
    "    require(lsr)\n",
    "    out[i,6]<-cohens_d<-cohensD(Bleeding ~ Timepoint, data=paired_comp_md3, method = \"paired\")\n",
    "}\n",
    "\n",
    "out"
   ]
  },
  {
   "cell_type": "code",
   "execution_count": null,
   "metadata": {},
   "outputs": [],
   "source": []
  },
  {
   "cell_type": "markdown",
   "metadata": {},
   "source": [
    "### RF modeling across Timepoints (Day 0 VS Day X)"
   ]
  },
  {
   "cell_type": "markdown",
   "metadata": {},
   "source": [
    "### rf_clf.comps"
   ]
  },
  {
   "cell_type": "code",
   "execution_count": 9,
   "metadata": {},
   "outputs": [
    {
     "data": {
      "text/html": [
       "<pre class=language-r><code>function (df, f, comp_group, verbose = FALSE, clr_transform = TRUE, \n",
       "<span style=white-space:pre-wrap>    rf_imp_values = FALSE, ntree = 500, p.adj.method = \"bonferroni\", </span>\n",
       "<span style=white-space:pre-wrap>    q_cutoff = 0.05) </span>\n",
       "NULL</code></pre>"
      ],
      "text/latex": [
       "\\begin{minted}{r}\n",
       "function (df, f, comp\\_group, verbose = FALSE, clr\\_transform = TRUE, \n",
       "    rf\\_imp\\_values = FALSE, ntree = 500, p.adj.method = \"bonferroni\", \n",
       "    q\\_cutoff = 0.05) \n",
       "NULL\n",
       "\\end{minted}"
      ],
      "text/markdown": [
       "```r\n",
       "function (df, f, comp_group, verbose = FALSE, clr_transform = TRUE, \n",
       "    rf_imp_values = FALSE, ntree = 500, p.adj.method = \"bonferroni\", \n",
       "    q_cutoff = 0.05) \n",
       "NULL\n",
       "```"
      ],
      "text/plain": [
       "function (df, f, comp_group, verbose = FALSE, clr_transform = TRUE, \n",
       "    rf_imp_values = FALSE, ntree = 500, p.adj.method = \"bonferroni\", \n",
       "    q_cutoff = 0.05) \n",
       "NULL"
      ]
     },
     "metadata": {},
     "output_type": "display_data"
    }
   ],
   "source": [
    "args(rf_clf.comps)"
   ]
  },
  {
   "cell_type": "code",
   "execution_count": 10,
   "metadata": {},
   "outputs": [],
   "source": [
    "p.adj.method = \"BH\""
   ]
  },
  {
   "cell_type": "code",
   "execution_count": 11,
   "metadata": {},
   "outputs": [
    {
     "name": "stderr",
     "output_type": "stream",
     "text": [
      "Loading required package: foreach\n"
     ]
    }
   ],
   "source": [
    "m1_comps<-rf_clf.comps(df=f1, f=m1[, \"Timepoint\"], comp_group =\"DAY0\", p.adj.method = p.adj.method)"
   ]
  },
  {
   "cell_type": "code",
   "execution_count": 12,
   "metadata": {},
   "outputs": [],
   "source": [
    "m2_comps<-rf_clf.comps(df=f2, f=m2[, \"Timepoint\"], comp_group =\"DAY0\", p.adj.method = p.adj.method)\n",
    "m3_comps<-rf_clf.comps(df=f3, f=m3[, \"Timepoint\"], comp_group =\"DAY0\", p.adj.method = p.adj.method)\n"
   ]
  },
  {
   "cell_type": "markdown",
   "metadata": {},
   "source": [
    "### plot_clf_res_list"
   ]
  },
  {
   "cell_type": "code",
   "execution_count": 13,
   "metadata": {},
   "outputs": [
    {
     "name": "stderr",
     "output_type": "stream",
     "text": [
      "Using Data_sets as id variables\n",
      "Loading required package: gridExtra\n",
      "\n",
      "Attaching package: ‘gridExtra’\n",
      "\n",
      "The following object is masked from ‘package:dplyr’:\n",
      "\n",
      "    combine\n",
      "\n",
      "Warning message:\n",
      "“Removed 6 rows containing missing values (geom_bar).”Using feature, dataset, Enr as id variables\n",
      "Using Data_sets as id variables\n",
      "Warning message:\n",
      "“Removed 6 rows containing missing values (geom_bar).”Warning message:\n",
      "“Removed 4 rows containing missing values (position_stack).”Warning message:\n",
      "“Removed 4 rows containing missing values (geom_point).”Using feature, dataset, Enr as id variables\n",
      "Warning message:\n",
      "“Removed 4 rows containing non-finite values (stat_boxplot).”Warning message:\n",
      "“Removed 4 rows containing missing values (geom_point).”Using Data_sets as id variables\n",
      "Warning message:\n",
      "“Removed 4 rows containing missing values (geom_bar).”Warning message:\n",
      "“Removed 1 rows containing missing values (position_stack).”Warning message:\n",
      "“Removed 1 rows containing missing values (geom_point).”Using feature, dataset, Enr as id variables\n"
     ]
    }
   ],
   "source": [
    "m1_comps.summ<-plot_clf_res_list(m1_comps, p_cutoff=0.05, p.adj.method = p.adj.method, q_cutoff=0.05, outdir=outpath)\n",
    "m2_comps.summ<-plot_clf_res_list(m2_comps, p_cutoff=0.05, p.adj.method = p.adj.method, q_cutoff=0.05, outdir=outpath)\n",
    "m3_comps.summ<-plot_clf_res_list(m3_comps, p_cutoff=0.05, p.adj.method = p.adj.method, q_cutoff=0.05, outdir=outpath)\n"
   ]
  },
  {
   "cell_type": "code",
   "execution_count": 14,
   "metadata": {
    "scrolled": true
   },
   "outputs": [
    {
     "data": {
      "text/plain": [
       "                 Length Class      Mode\n",
       "summ              7     data.frame list\n",
       "summ_plot         4     gtable     list\n",
       "feature_res      60     data.frame list\n",
       "feature_res_plot  9     gg         list"
      ]
     },
     "metadata": {},
     "output_type": "display_data"
    }
   ],
   "source": [
    "summary(m3_comps.summ)"
   ]
  },
  {
   "cell_type": "code",
   "execution_count": 15,
   "metadata": {
    "scrolled": false
   },
   "outputs": [
    {
     "data": {
      "text/plain": [
       "                                      feature               dataset    \n",
       " acetoacetate_pos                         :   6   DAY0_VS_DAY-21:1125  \n",
       " Acetyl.N.formyl.5.methoxykynurenamine_pos:   6   DAY0_VS_DAY01 :1125  \n",
       " Acetylcholine_pos                        :   6   DAY0_VS_DAY03 :1125  \n",
       " Acetylphosphate._neg                     :   6   DAY0_VS_DAY07 :1125  \n",
       " Adenine_neg                              :   6   DAY0_VS_DAY14 :1125  \n",
       " Adenine_pos                              :   6   DAY0_VS_DAY28 :1125  \n",
       " (Other)                                  :6714                        \n",
       "    rf_imps              mean_all            var_all         \n",
       " Min.   :-9.430e-04   Min.   :  0.00001   Min.   :   0.0000  \n",
       " 1st Qu.:-2.153e-05   1st Qu.:  0.00993   1st Qu.:   0.0001  \n",
       " Median : 0.000e+00   Median :  0.03742   Median :   0.0008  \n",
       " Mean   : 1.481e-04   Mean   :  1.06202   Mean   :   5.1992  \n",
       " 3rd Qu.: 1.290e-04   3rd Qu.:  0.21726   3rd Qu.:   0.0240  \n",
       " Max.   : 1.800e-02   Max.   :157.43299   Max.   :1971.5452  \n",
       "                                                             \n",
       "     sd_all          OccRate_all          AUC           clr_mean_all    \n",
       " Min.   : 0.00000   Min.   :0.4125   Min.   :0.03782   Min.   :-8.1282  \n",
       " 1st Qu.: 0.00918   1st Qu.:1.0000   1st Qu.:0.43462   1st Qu.:-1.7123  \n",
       " Median : 0.02796   Median :1.0000   Median :0.50438   Median :-0.1266  \n",
       " Mean   : 0.50042   Mean   :0.9930   Mean   :0.51028   Mean   : 0.0000  \n",
       " 3rd Qu.: 0.15478   3rd Qu.:1.0000   3rd Qu.:0.59434   3rd Qu.: 1.6280  \n",
       " Max.   :44.40209   Max.   :1.0000   Max.   :0.96282   Max.   : 8.5332  \n",
       "                                                                        \n",
       "  clr_var_all         clr_sd_all        clr_AUC        mean__DAY.21    \n",
       " Min.   : 0.05032   Min.   :0.2243   Min.   :0.0750   Min.   :  0.000  \n",
       " 1st Qu.: 0.40051   1st Qu.:0.6329   1st Qu.:0.4131   1st Qu.:  0.011  \n",
       " Median : 0.66764   Median :0.8171   Median :0.4894   Median :  0.038  \n",
       " Mean   : 1.47568   Mean   :1.0438   Mean   :0.4905   Mean   :  1.062  \n",
       " 3rd Qu.: 1.54469   3rd Qu.:1.2429   3rd Qu.:0.5724   3rd Qu.:  0.216  \n",
       " Max.   :16.81780   Max.   :4.1010   Max.   :0.9058   Max.   :139.887  \n",
       "                                                      NA's   :5625     \n",
       "   sd__DAY.21     median__DAY.21    log10_median__DAY.21 OccRate__DAY.21\n",
       " Min.   : 0.000   Min.   :  0.000   Min.   :-5.023       Min.   :0.375  \n",
       " 1st Qu.: 0.011   1st Qu.:  0.007   1st Qu.:-2.181       1st Qu.:1.000  \n",
       " Median : 0.031   Median :  0.029   Median :-1.539       Median :1.000  \n",
       " Mean   : 0.517   Mean   :  0.975   Mean   :   Inf       Mean   :0.995  \n",
       " 3rd Qu.: 0.162   3rd Qu.:  0.160   3rd Qu.:-0.792       3rd Qu.:1.000  \n",
       " Max.   :49.602   Max.   :140.268   Max.   :   Inf       Max.   :1.000  \n",
       " NA's   :5625     NA's   :5625      NA's   :5625         NA's   :5625   \n",
       "   mean__DAY0           sd__DAY0         median__DAY0       log10_median__DAY0\n",
       " Min.   :  0.00001   Min.   : 0.00000   Min.   :  0.00000   Min.   :-4.9270   \n",
       " 1st Qu.:  0.00958   1st Qu.: 0.00903   1st Qu.:  0.00653   1st Qu.:-2.1819   \n",
       " Median :  0.03712   Median : 0.02552   Median :  0.02925   Median :-1.5236   \n",
       " Mean   :  1.06203   Mean   : 0.47651   Mean   :  0.98042   Mean   :    Inf   \n",
       " 3rd Qu.:  0.21189   3rd Qu.: 0.15666   3rd Qu.:  0.16437   3rd Qu.:-0.7837   \n",
       " Max.   :161.87866   Max.   :35.85057   Max.   :159.72446   Max.   :    Inf   \n",
       "                                                                              \n",
       " OccRate__DAY0      mean_logfc        clr_mean__DAY.21 clr_sd__DAY.21 \n",
       " Min.   :0.4250   Min.   :-3.927938   Min.   :-8.105   Min.   :0.392  \n",
       " 1st Qu.:1.0000   1st Qu.:-0.331324   1st Qu.:-1.687   1st Qu.:0.784  \n",
       " Median :1.0000   Median : 0.025622   Median :-0.148   Median :0.996  \n",
       " Mean   :0.9923   Mean   :-0.009504   Mean   : 0.000   Mean   :1.181  \n",
       " 3rd Qu.:1.0000   3rd Qu.: 0.316761   3rd Qu.: 1.600   3rd Qu.:1.371  \n",
       " Max.   :1.0000   Max.   : 2.919062   Max.   : 8.196   Max.   :3.963  \n",
       "                                      NA's   :5625     NA's   :5625   \n",
       " clr_median__DAY.21 clr_mean__DAY0     clr_sd__DAY0    clr_median__DAY0  \n",
       " Min.   :-8.041     Min.   :-7.9489   Min.   :0.2310   Min.   :-7.93192  \n",
       " 1st Qu.:-1.531     1st Qu.:-1.6926   1st Qu.:0.6117   1st Qu.:-1.52296  \n",
       " Median :-0.119     Median :-0.0767   Median :0.7930   Median :-0.01388  \n",
       " Mean   : 0.067     Mean   : 0.0000   Mean   :1.0395   Mean   : 0.07068  \n",
       " 3rd Qu.: 1.601     3rd Qu.: 1.6793   3rd Qu.:1.2575   3rd Qu.: 1.74350  \n",
       " Max.   : 8.382     Max.   : 8.5603   Max.   :4.2765   Max.   : 8.52201  \n",
       " NA's   :5625                                                            \n",
       "    T.test_p       Wilcoxon.test_p    T.test_p.adj    Wilcoxon.test_p.adj\n",
       " Min.   :0.00000   Min.   :0.00000   Min.   :0.0000   Min.   :0.0000     \n",
       " 1st Qu.:0.03378   1st Qu.:0.03023   1st Qu.:0.1277   1st Qu.:0.1133     \n",
       " Median :0.22437   Median :0.21807   Median :0.4868   Median :0.4778     \n",
       " Mean   :0.32354   Mean   :0.32097   Mean   :0.4900   Mean   :0.4818     \n",
       " 3rd Qu.:0.57357   3rd Qu.:0.55722   3rd Qu.:0.8608   3rd Qu.:0.8615     \n",
       " Max.   :0.99998   Max.   :1.00000   Max.   :1.0000   Max.   :1.0000     \n",
       "                                                                         \n",
       "    IfSig                      IfSigEnr               Enr      \n",
       " NotSig:5558   NotSig.DAY0_depleted:2700   Neutral      :5558  \n",
       " Sig   :1192   Sig.DAY0_depleted   : 525   DAY0_depleted: 525  \n",
       "               NotSig.DAY0_enriched:2858   DAY0_enriched: 667  \n",
       "               Sig.DAY0_enriched   : 667                       \n",
       "                                                               \n",
       "                                                               \n",
       "                                                               \n",
       "  mean__DAY01        sd__DAY01      median__DAY01     log10_median__DAY01\n",
       " Min.   :  0.000   Min.   : 0.000   Min.   :  0.000   Min.   :-4.944     \n",
       " 1st Qu.:  0.010   1st Qu.: 0.009   1st Qu.:  0.006   1st Qu.:-2.217     \n",
       " Median :  0.038   Median : 0.028   Median :  0.030   Median :-1.518     \n",
       " Mean   :  1.062   Mean   : 0.472   Mean   :  0.977   Mean   :   Inf     \n",
       " 3rd Qu.:  0.227   3rd Qu.: 0.155   3rd Qu.:  0.165   3rd Qu.:-0.762     \n",
       " Max.   :152.987   Max.   :33.705   Max.   :149.924   Max.   :   Inf     \n",
       " NA's   :5625      NA's   :5625     NA's   :5625      NA's   :5625       \n",
       " OccRate__DAY01  clr_mean__DAY01  clr_sd__DAY01   clr_median__DAY01\n",
       " Min.   :0.400   Min.   :-7.784   Min.   :0.244   Min.   :-7.776   \n",
       " 1st Qu.:1.000   1st Qu.:-1.676   1st Qu.:0.584   1st Qu.:-1.568   \n",
       " Median :1.000   Median :-0.081   Median :0.788   Median :-0.021   \n",
       " Mean   :0.993   Mean   : 0.000   Mean   :1.014   Mean   : 0.068   \n",
       " 3rd Qu.:1.000   3rd Qu.: 1.761   3rd Qu.:1.198   3rd Qu.: 1.740   \n",
       " Max.   :1.000   Max.   : 8.506   Max.   :3.801   Max.   : 8.583   \n",
       " NA's   :5625    NA's   :5625     NA's   :5625    NA's   :5625     \n",
       "  mean__DAY03        sd__DAY03      median__DAY03     log10_median__DAY03\n",
       " Min.   :  0.000   Min.   : 0.000   Min.   :  0.000   Min.   :-4.957     \n",
       " 1st Qu.:  0.010   1st Qu.: 0.009   1st Qu.:  0.006   1st Qu.:-2.203     \n",
       " Median :  0.038   Median : 0.027   Median :  0.030   Median :-1.528     \n",
       " Mean   :  1.062   Mean   : 0.469   Mean   :  0.997   Mean   :-1.462     \n",
       " 3rd Qu.:  0.227   3rd Qu.: 0.141   3rd Qu.:  0.172   3rd Qu.:-0.763     \n",
       " Max.   :142.679   Max.   :35.307   Max.   :142.690   Max.   : 2.154     \n",
       " NA's   :5625      NA's   :5625     NA's   :5625      NA's   :5625       \n",
       " OccRate__DAY03  clr_mean__DAY03  clr_sd__DAY03   clr_median__DAY03\n",
       " Min.   :0.513   Min.   :-7.892   Min.   :0.271   Min.   :-8.075   \n",
       " 1st Qu.:1.000   1st Qu.:-1.704   1st Qu.:0.572   1st Qu.:-1.623   \n",
       " Median :1.000   Median :-0.109   Median :0.731   Median :-0.056   \n",
       " Mean   :0.992   Mean   : 0.000   Mean   :0.976   Mean   : 0.086   \n",
       " 3rd Qu.:1.000   3rd Qu.: 1.684   3rd Qu.:1.176   3rd Qu.: 1.700   \n",
       " Max.   :1.000   Max.   : 8.366   Max.   :3.576   Max.   : 8.338   \n",
       " NA's   :5625    NA's   :5625     NA's   :5625    NA's   :5625     \n",
       "  mean__DAY07        sd__DAY07      median__DAY07     log10_median__DAY07\n",
       " Min.   :  0.000   Min.   : 0.001   Min.   :  0.000   Min.   :-5.037     \n",
       " 1st Qu.:  0.010   1st Qu.: 0.009   1st Qu.:  0.006   1st Qu.:-2.208     \n",
       " Median :  0.039   Median : 0.027   Median :  0.031   Median :-1.502     \n",
       " Mean   :  1.062   Mean   : 0.474   Mean   :  0.986   Mean   :   Inf     \n",
       " 3rd Qu.:  0.231   3rd Qu.: 0.154   3rd Qu.:  0.167   3rd Qu.:-0.775     \n",
       " Max.   :126.517   Max.   :34.378   Max.   :131.003   Max.   :   Inf     \n",
       " NA's   :5625      NA's   :5625     NA's   :5625      NA's   :5625       \n",
       " OccRate__DAY07  clr_mean__DAY07  clr_sd__DAY07   clr_median__DAY07\n",
       " Min.   :0.487   Min.   :-7.950   Min.   :0.229   Min.   :-8.185   \n",
       " 1st Qu.:1.000   1st Qu.:-1.745   1st Qu.:0.554   1st Qu.:-1.609   \n",
       " Median :1.000   Median :-0.106   Median :0.753   Median :-0.042   \n",
       " Mean   :0.993   Mean   : 0.000   Mean   :0.964   Mean   : 0.067   \n",
       " 3rd Qu.:1.000   3rd Qu.: 1.632   3rd Qu.:1.165   3rd Qu.: 1.622   \n",
       " Max.   :1.000   Max.   : 8.220   Max.   :3.878   Max.   : 8.161   \n",
       " NA's   :5625    NA's   :5625     NA's   :5625    NA's   :5625     \n",
       "  mean__DAY14        sd__DAY14      median__DAY14     log10_median__DAY14\n",
       " Min.   :  0.000   Min.   : 0.000   Min.   :  0.000   Min.   :-5.033     \n",
       " 1st Qu.:  0.008   1st Qu.: 0.006   1st Qu.:  0.006   1st Qu.:-2.214     \n",
       " Median :  0.037   Median : 0.022   Median :  0.029   Median :-1.533     \n",
       " Mean   :  1.062   Mean   : 0.433   Mean   :  1.000   Mean   :-1.483     \n",
       " 3rd Qu.:  0.220   3rd Qu.: 0.131   3rd Qu.:  0.166   3rd Qu.:-0.780     \n",
       " Max.   :112.639   Max.   :33.992   Max.   :109.152   Max.   : 2.038     \n",
       " NA's   :5625      NA's   :5625     NA's   :5625      NA's   :5625       \n",
       " OccRate__DAY14  clr_mean__DAY14  clr_sd__DAY14   clr_median__DAY14\n",
       " Min.   :0.553   Min.   :-7.983   Min.   :0.173   Min.   :-8.144   \n",
       " 1st Qu.:1.000   1st Qu.:-1.722   1st Qu.:0.498   1st Qu.:-1.626   \n",
       " Median :1.000   Median :-0.076   Median :0.668   Median :-0.066   \n",
       " Mean   :0.994   Mean   : 0.000   Mean   :0.888   Mean   : 0.061   \n",
       " 3rd Qu.:1.000   3rd Qu.: 1.645   3rd Qu.:1.076   3rd Qu.: 1.657   \n",
       " Max.   :1.000   Max.   : 8.142   Max.   :3.737   Max.   : 8.057   \n",
       " NA's   :5625    NA's   :5625     NA's   :5625    NA's   :5625     \n",
       "  mean__DAY28        sd__DAY28      median__DAY28     log10_median__DAY28\n",
       " Min.   :  0.000   Min.   : 0.000   Min.   :  0.000   Min.   :-5.060     \n",
       " 1st Qu.:  0.011   1st Qu.: 0.008   1st Qu.:  0.008   1st Qu.:-2.112     \n",
       " Median :  0.040   Median : 0.030   Median :  0.030   Median :-1.527     \n",
       " Mean   :  1.062   Mean   : 0.477   Mean   :  0.998   Mean   :   Inf     \n",
       " 3rd Qu.:  0.214   3rd Qu.: 0.149   3rd Qu.:  0.171   3rd Qu.:-0.767     \n",
       " Max.   :125.268   Max.   :34.596   Max.   :126.588   Max.   :   Inf     \n",
       " NA's   :5625      NA's   :5625     NA's   :5625      NA's   :5625       \n",
       " OccRate__DAY28  clr_mean__DAY28  clr_sd__DAY28   clr_median__DAY28\n",
       " Min.   :0.487   Min.   :-8.312   Min.   :0.253   Min.   :-8.362   \n",
       " 1st Qu.:1.000   1st Qu.:-1.689   1st Qu.:0.545   1st Qu.:-1.538   \n",
       " Median :1.000   Median :-0.197   Median :0.740   Median :-0.174   \n",
       " Mean   :0.994   Mean   : 0.000   Mean   :0.970   Mean   : 0.058   \n",
       " 3rd Qu.:1.000   3rd Qu.: 1.558   3rd Qu.:1.174   3rd Qu.: 1.599   \n",
       " Max.   :1.000   Max.   : 8.150   Max.   :3.788   Max.   : 8.062   \n",
       " NA's   :5625    NA's   :5625     NA's   :5625    NA's   :5625     "
      ]
     },
     "metadata": {},
     "output_type": "display_data"
    }
   ],
   "source": [
    "summary(m1_comps.summ$feature_res)"
   ]
  },
  {
   "cell_type": "code",
   "execution_count": 16,
   "metadata": {},
   "outputs": [
    {
     "data": {
      "text/html": [
       "<dl class=dl-horizontal>\n",
       "\t<dt>DAY0_VS_DAY-21</dt>\n",
       "\t\t<dd>1125</dd>\n",
       "\t<dt>DAY0_VS_DAY01</dt>\n",
       "\t\t<dd>1125</dd>\n",
       "\t<dt>DAY0_VS_DAY03</dt>\n",
       "\t\t<dd>1125</dd>\n",
       "\t<dt>DAY0_VS_DAY07</dt>\n",
       "\t\t<dd>1125</dd>\n",
       "\t<dt>DAY0_VS_DAY14</dt>\n",
       "\t\t<dd>1125</dd>\n",
       "\t<dt>DAY0_VS_DAY28</dt>\n",
       "\t\t<dd>1125</dd>\n",
       "</dl>\n"
      ],
      "text/latex": [
       "\\begin{description*}\n",
       "\\item[DAY0\\textbackslash{}\\_VS\\textbackslash{}\\_DAY-21] 1125\n",
       "\\item[DAY0\\textbackslash{}\\_VS\\textbackslash{}\\_DAY01] 1125\n",
       "\\item[DAY0\\textbackslash{}\\_VS\\textbackslash{}\\_DAY03] 1125\n",
       "\\item[DAY0\\textbackslash{}\\_VS\\textbackslash{}\\_DAY07] 1125\n",
       "\\item[DAY0\\textbackslash{}\\_VS\\textbackslash{}\\_DAY14] 1125\n",
       "\\item[DAY0\\textbackslash{}\\_VS\\textbackslash{}\\_DAY28] 1125\n",
       "\\end{description*}\n"
      ],
      "text/markdown": [
       "DAY0_VS_DAY-21\n",
       ":   1125DAY0_VS_DAY01\n",
       ":   1125DAY0_VS_DAY03\n",
       ":   1125DAY0_VS_DAY07\n",
       ":   1125DAY0_VS_DAY14\n",
       ":   1125DAY0_VS_DAY28\n",
       ":   1125\n",
       "\n"
      ],
      "text/plain": [
       "DAY0_VS_DAY-21  DAY0_VS_DAY01  DAY0_VS_DAY03  DAY0_VS_DAY07  DAY0_VS_DAY14 \n",
       "          1125           1125           1125           1125           1125 \n",
       " DAY0_VS_DAY28 \n",
       "          1125 "
      ]
     },
     "metadata": {},
     "output_type": "display_data"
    },
    {
     "data": {
      "text/html": [
       "<dl class=dl-horizontal>\n",
       "\t<dt>DAY0_VS_DAY_21</dt>\n",
       "\t\t<dd>44</dd>\n",
       "\t<dt>DAY0_VS_DAY01</dt>\n",
       "\t\t<dd>44</dd>\n",
       "\t<dt>DAY0_VS_DAY03</dt>\n",
       "\t\t<dd>44</dd>\n",
       "\t<dt>DAY0_VS_DAY07</dt>\n",
       "\t\t<dd>44</dd>\n",
       "\t<dt>DAY0_VS_DAY14</dt>\n",
       "\t\t<dd>44</dd>\n",
       "\t<dt>DAY0_VS_DAY28</dt>\n",
       "\t\t<dd>44</dd>\n",
       "</dl>\n"
      ],
      "text/latex": [
       "\\begin{description*}\n",
       "\\item[DAY0\\textbackslash{}\\_VS\\textbackslash{}\\_DAY\\textbackslash{}\\_21] 44\n",
       "\\item[DAY0\\textbackslash{}\\_VS\\textbackslash{}\\_DAY01] 44\n",
       "\\item[DAY0\\textbackslash{}\\_VS\\textbackslash{}\\_DAY03] 44\n",
       "\\item[DAY0\\textbackslash{}\\_VS\\textbackslash{}\\_DAY07] 44\n",
       "\\item[DAY0\\textbackslash{}\\_VS\\textbackslash{}\\_DAY14] 44\n",
       "\\item[DAY0\\textbackslash{}\\_VS\\textbackslash{}\\_DAY28] 44\n",
       "\\end{description*}\n"
      ],
      "text/markdown": [
       "DAY0_VS_DAY_21\n",
       ":   44DAY0_VS_DAY01\n",
       ":   44DAY0_VS_DAY03\n",
       ":   44DAY0_VS_DAY07\n",
       ":   44DAY0_VS_DAY14\n",
       ":   44DAY0_VS_DAY28\n",
       ":   44\n",
       "\n"
      ],
      "text/plain": [
       "DAY0_VS_DAY_21  DAY0_VS_DAY01  DAY0_VS_DAY03  DAY0_VS_DAY07  DAY0_VS_DAY14 \n",
       "            44             44             44             44             44 \n",
       " DAY0_VS_DAY28 \n",
       "            44 "
      ]
     },
     "metadata": {},
     "output_type": "display_data"
    },
    {
     "data": {
      "text/html": [
       "<dl class=dl-horizontal>\n",
       "\t<dt>DAY0_VS_DAY-21</dt>\n",
       "\t\t<dd>27</dd>\n",
       "\t<dt>DAY0_VS_DAY03</dt>\n",
       "\t\t<dd>27</dd>\n",
       "\t<dt>DAY0_VS_DAY07</dt>\n",
       "\t\t<dd>27</dd>\n",
       "\t<dt>DAY0_VS_DAY28</dt>\n",
       "\t\t<dd>27</dd>\n",
       "</dl>\n"
      ],
      "text/latex": [
       "\\begin{description*}\n",
       "\\item[DAY0\\textbackslash{}\\_VS\\textbackslash{}\\_DAY-21] 27\n",
       "\\item[DAY0\\textbackslash{}\\_VS\\textbackslash{}\\_DAY03] 27\n",
       "\\item[DAY0\\textbackslash{}\\_VS\\textbackslash{}\\_DAY07] 27\n",
       "\\item[DAY0\\textbackslash{}\\_VS\\textbackslash{}\\_DAY28] 27\n",
       "\\end{description*}\n"
      ],
      "text/markdown": [
       "DAY0_VS_DAY-21\n",
       ":   27DAY0_VS_DAY03\n",
       ":   27DAY0_VS_DAY07\n",
       ":   27DAY0_VS_DAY28\n",
       ":   27\n",
       "\n"
      ],
      "text/plain": [
       "DAY0_VS_DAY-21  DAY0_VS_DAY03  DAY0_VS_DAY07  DAY0_VS_DAY28 \n",
       "            27             27             27             27 "
      ]
     },
     "metadata": {},
     "output_type": "display_data"
    }
   ],
   "source": [
    "summary(m1_comps.summ$feature_res$dataset)\n",
    "summary(m2_comps.summ$feature_res$dataset)\n",
    "summary(m3_comps.summ$feature_res$dataset)"
   ]
  },
  {
   "cell_type": "code",
   "execution_count": 17,
   "metadata": {},
   "outputs": [],
   "source": [
    "feature=m1_comps$feature_imps_list[[1]][, \"feature\"]\n"
   ]
  },
  {
   "cell_type": "code",
   "execution_count": 18,
   "metadata": {},
   "outputs": [
    {
     "data": {
      "text/plain": [
       "                            V1          V2     \n",
       " Adenosine.diphosphate.ribose:   3   neg :355  \n",
       " Citrulline                  :   3   neg.: 14  \n",
       " Inosine                     :   3   pos :597  \n",
       " L.Acetylcarnitine           :   3   pos.: 25  \n",
       " L.Phenylalanine             :   3   TSQ :132  \n",
       " L.Tyrosine                  :   3   TSQ.:  2  \n",
       " (Other)                     :1107             "
      ]
     },
     "metadata": {},
     "output_type": "display_data"
    }
   ],
   "source": [
    "tmp<-do.call(rbind, strsplit(as.character(feature), \"_\"))\n",
    "summary(tmp)"
   ]
  },
  {
   "cell_type": "code",
   "execution_count": 19,
   "metadata": {},
   "outputs": [
    {
     "data": {
      "text/html": [
       "<table>\n",
       "<caption>A data.frame: 6 × 8</caption>\n",
       "<thead>\n",
       "\t<tr><th scope=col>feature</th><th scope=col>omics</th><th scope=col>Day0_VS_Day.21</th><th scope=col>Day0_VS_Day01</th><th scope=col>Day0_VS_Day03</th><th scope=col>Day0_VS_Day07</th><th scope=col>Day0_VS_Day14</th><th scope=col>Day0_VS_Day28</th></tr>\n",
       "\t<tr><th scope=col>&lt;fct&gt;</th><th scope=col>&lt;fct&gt;</th><th scope=col>&lt;fct&gt;</th><th scope=col>&lt;fct&gt;</th><th scope=col>&lt;fct&gt;</th><th scope=col>&lt;fct&gt;</th><th scope=col>&lt;fct&gt;</th><th scope=col>&lt;fct&gt;</th></tr>\n",
       "</thead>\n",
       "<tbody>\n",
       "\t<tr><td>Pantothenic.Acid_TSQ       </td><td>metabolites</td><td>DAY0_depleted</td><td>Neutral</td><td>Neutral</td><td>Neutral</td><td>Neutral      </td><td>Neutral      </td></tr>\n",
       "\t<tr><td>Xanthine_neg               </td><td>metabolites</td><td>DAY0_depleted</td><td>Neutral</td><td>Neutral</td><td>Neutral</td><td>DAY0_enriched</td><td>DAY0_enriched</td></tr>\n",
       "\t<tr><td>X2.keto.valeric.acid_neg   </td><td>metabolites</td><td>DAY0_depleted</td><td>Neutral</td><td>Neutral</td><td>Neutral</td><td>Neutral      </td><td>Neutral      </td></tr>\n",
       "\t<tr><td>X3.methyl.2.oxobutyrate_neg</td><td>metabolites</td><td>DAY0_depleted</td><td>Neutral</td><td>Neutral</td><td>Neutral</td><td>Neutral      </td><td>Neutral      </td></tr>\n",
       "\t<tr><td>Acetylphosphate._neg       </td><td>metabolites</td><td>DAY0_enriched</td><td>Neutral</td><td>Neutral</td><td>Neutral</td><td>Neutral      </td><td>Neutral      </td></tr>\n",
       "\t<tr><td>Ketoleucine_neg            </td><td>metabolites</td><td>DAY0_depleted</td><td>Neutral</td><td>Neutral</td><td>Neutral</td><td>Neutral      </td><td>Neutral      </td></tr>\n",
       "</tbody>\n",
       "</table>\n"
      ],
      "text/latex": [
       "A data.frame: 6 × 8\n",
       "\\begin{tabular}{r|llllllll}\n",
       " feature & omics & Day0\\_VS\\_Day.21 & Day0\\_VS\\_Day01 & Day0\\_VS\\_Day03 & Day0\\_VS\\_Day07 & Day0\\_VS\\_Day14 & Day0\\_VS\\_Day28\\\\\n",
       " <fct> & <fct> & <fct> & <fct> & <fct> & <fct> & <fct> & <fct>\\\\\n",
       "\\hline\n",
       "\t Pantothenic.Acid\\_TSQ        & metabolites & DAY0\\_depleted & Neutral & Neutral & Neutral & Neutral       & Neutral      \\\\\n",
       "\t Xanthine\\_neg                & metabolites & DAY0\\_depleted & Neutral & Neutral & Neutral & DAY0\\_enriched & DAY0\\_enriched\\\\\n",
       "\t X2.keto.valeric.acid\\_neg    & metabolites & DAY0\\_depleted & Neutral & Neutral & Neutral & Neutral       & Neutral      \\\\\n",
       "\t X3.methyl.2.oxobutyrate\\_neg & metabolites & DAY0\\_depleted & Neutral & Neutral & Neutral & Neutral       & Neutral      \\\\\n",
       "\t Acetylphosphate.\\_neg        & metabolites & DAY0\\_enriched & Neutral & Neutral & Neutral & Neutral       & Neutral      \\\\\n",
       "\t Ketoleucine\\_neg             & metabolites & DAY0\\_depleted & Neutral & Neutral & Neutral & Neutral       & Neutral      \\\\\n",
       "\\end{tabular}\n"
      ],
      "text/markdown": [
       "\n",
       "A data.frame: 6 × 8\n",
       "\n",
       "| feature &lt;fct&gt; | omics &lt;fct&gt; | Day0_VS_Day.21 &lt;fct&gt; | Day0_VS_Day01 &lt;fct&gt; | Day0_VS_Day03 &lt;fct&gt; | Day0_VS_Day07 &lt;fct&gt; | Day0_VS_Day14 &lt;fct&gt; | Day0_VS_Day28 &lt;fct&gt; |\n",
       "|---|---|---|---|---|---|---|---|\n",
       "| Pantothenic.Acid_TSQ        | metabolites | DAY0_depleted | Neutral | Neutral | Neutral | Neutral       | Neutral       |\n",
       "| Xanthine_neg                | metabolites | DAY0_depleted | Neutral | Neutral | Neutral | DAY0_enriched | DAY0_enriched |\n",
       "| X2.keto.valeric.acid_neg    | metabolites | DAY0_depleted | Neutral | Neutral | Neutral | Neutral       | Neutral       |\n",
       "| X3.methyl.2.oxobutyrate_neg | metabolites | DAY0_depleted | Neutral | Neutral | Neutral | Neutral       | Neutral       |\n",
       "| Acetylphosphate._neg        | metabolites | DAY0_enriched | Neutral | Neutral | Neutral | Neutral       | Neutral       |\n",
       "| Ketoleucine_neg             | metabolites | DAY0_depleted | Neutral | Neutral | Neutral | Neutral       | Neutral       |\n",
       "\n"
      ],
      "text/plain": [
       "  feature                     omics       Day0_VS_Day.21 Day0_VS_Day01\n",
       "1 Pantothenic.Acid_TSQ        metabolites DAY0_depleted  Neutral      \n",
       "2 Xanthine_neg                metabolites DAY0_depleted  Neutral      \n",
       "3 X2.keto.valeric.acid_neg    metabolites DAY0_depleted  Neutral      \n",
       "4 X3.methyl.2.oxobutyrate_neg metabolites DAY0_depleted  Neutral      \n",
       "5 Acetylphosphate._neg        metabolites DAY0_enriched  Neutral      \n",
       "6 Ketoleucine_neg             metabolites DAY0_depleted  Neutral      \n",
       "  Day0_VS_Day03 Day0_VS_Day07 Day0_VS_Day14 Day0_VS_Day28\n",
       "1 Neutral       Neutral       Neutral       Neutral      \n",
       "2 Neutral       Neutral       DAY0_enriched DAY0_enriched\n",
       "3 Neutral       Neutral       Neutral       Neutral      \n",
       "4 Neutral       Neutral       Neutral       Neutral      \n",
       "5 Neutral       Neutral       Neutral       Neutral      \n",
       "6 Neutral       Neutral       Neutral       Neutral      "
      ]
     },
     "metadata": {},
     "output_type": "display_data"
    }
   ],
   "source": [
    "#length(m1_comps$feature_imps_list)\n",
    "m1_Enr<-data.frame(feature=m1_comps$feature_imps_list[[1]][, \"feature\"],\n",
    "                   omics=\"metabolites\",\n",
    "           Day0_VS_Day.21=m1_comps$feature_imps_list[[1]][, \"Enr\"],\n",
    "           Day0_VS_Day01=m1_comps$feature_imps_list[[2]][, \"Enr\"],\n",
    "           Day0_VS_Day03=m1_comps$feature_imps_list[[3]][, \"Enr\"],\n",
    "           Day0_VS_Day07=m1_comps$feature_imps_list[[4]][, \"Enr\"],\n",
    "           Day0_VS_Day14=m1_comps$feature_imps_list[[5]][, \"Enr\"],\n",
    "           Day0_VS_Day28=m1_comps$feature_imps_list[[6]][, \"Enr\"])\n",
    "head(m1_Enr)"
   ]
  },
  {
   "cell_type": "code",
   "execution_count": 20,
   "metadata": {},
   "outputs": [
    {
     "data": {
      "text/plain": [
       "                                      feature             omics     \n",
       " acetoacetate_pos                         :   1   metabolites:1125  \n",
       " Acetyl.N.formyl.5.methoxykynurenamine_pos:   1                     \n",
       " Acetylcholine_pos                        :   1                     \n",
       " Acetylphosphate._neg                     :   1                     \n",
       " Adenine_neg                              :   1                     \n",
       " Adenine_pos                              :   1                     \n",
       " (Other)                                  :1119                     \n",
       "       Day0_VS_Day.21 Day0_VS_Day01        Day0_VS_Day03        Day0_VS_Day07\n",
       " Neutral      :925    Neutral:1125   Neutral      :1090   Neutral      :899  \n",
       " DAY0_depleted:113                   DAY0_depleted:  18   DAY0_depleted: 95  \n",
       " DAY0_enriched: 87                   DAY0_enriched:  17   DAY0_enriched:131  \n",
       "                                                                             \n",
       "                                                                             \n",
       "                                                                             \n",
       "                                                                             \n",
       "       Day0_VS_Day14       Day0_VS_Day28\n",
       " Neutral      :792   Neutral      :727  \n",
       " DAY0_depleted:150   DAY0_depleted:149  \n",
       " DAY0_enriched:183   DAY0_enriched:249  \n",
       "                                        \n",
       "                                        \n",
       "                                        \n",
       "                                        "
      ]
     },
     "metadata": {},
     "output_type": "display_data"
    }
   ],
   "source": [
    "summary(m1_Enr)"
   ]
  },
  {
   "cell_type": "code",
   "execution_count": 21,
   "metadata": {},
   "outputs": [
    {
     "data": {
      "text/html": [
       "<table>\n",
       "<caption>A data.frame: 6 × 8</caption>\n",
       "<thead>\n",
       "\t<tr><th scope=col>feature</th><th scope=col>omics</th><th scope=col>Day0_VS_Day.21</th><th scope=col>Day0_VS_Day01</th><th scope=col>Day0_VS_Day03</th><th scope=col>Day0_VS_Day07</th><th scope=col>Day0_VS_Day14</th><th scope=col>Day0_VS_Day28</th></tr>\n",
       "\t<tr><th scope=col>&lt;fct&gt;</th><th scope=col>&lt;fct&gt;</th><th scope=col>&lt;fct&gt;</th><th scope=col>&lt;fct&gt;</th><th scope=col>&lt;fct&gt;</th><th scope=col>&lt;fct&gt;</th><th scope=col>&lt;fct&gt;</th><th scope=col>&lt;fct&gt;</th></tr>\n",
       "</thead>\n",
       "<tbody>\n",
       "\t<tr><td>Act_Actinobaculum.              </td><td>microbiota</td><td>Neutral      </td><td>Neutral      </td><td>DAY0_enriched</td><td>DAY0_enriched</td><td>DAY0_enriched</td><td>DAY0_enriched</td></tr>\n",
       "\t<tr><td>Act_Actinomyces.                </td><td>microbiota</td><td>DAY0_enriched</td><td>DAY0_enriched</td><td>DAY0_enriched</td><td>DAY0_enriched</td><td>DAY0_enriched</td><td>DAY0_enriched</td></tr>\n",
       "\t<tr><td>Aer_Abiotrophia.                </td><td>microbiota</td><td>Neutral      </td><td>Neutral      </td><td>DAY0_depleted</td><td>DAY0_depleted</td><td>Neutral      </td><td>Neutral      </td></tr>\n",
       "\t<tr><td>Bac_unclassified_Bacteroidaceae.</td><td>microbiota</td><td>DAY0_depleted</td><td>DAY0_enriched</td><td>DAY0_enriched</td><td>Neutral      </td><td>Neutral      </td><td>DAY0_depleted</td></tr>\n",
       "\t<tr><td>Bur_Lautropia.                  </td><td>microbiota</td><td>DAY0_enriched</td><td>Neutral      </td><td>Neutral      </td><td>DAY0_enriched</td><td>DAY0_enriched</td><td>DAY0_enriched</td></tr>\n",
       "\t<tr><td>Cam_Campylobacter.              </td><td>microbiota</td><td>DAY0_depleted</td><td>Neutral      </td><td>Neutral      </td><td>Neutral      </td><td>DAY0_depleted</td><td>DAY0_depleted</td></tr>\n",
       "</tbody>\n",
       "</table>\n"
      ],
      "text/latex": [
       "A data.frame: 6 × 8\n",
       "\\begin{tabular}{r|llllllll}\n",
       " feature & omics & Day0\\_VS\\_Day.21 & Day0\\_VS\\_Day01 & Day0\\_VS\\_Day03 & Day0\\_VS\\_Day07 & Day0\\_VS\\_Day14 & Day0\\_VS\\_Day28\\\\\n",
       " <fct> & <fct> & <fct> & <fct> & <fct> & <fct> & <fct> & <fct>\\\\\n",
       "\\hline\n",
       "\t Act\\_Actinobaculum.               & microbiota & Neutral       & Neutral       & DAY0\\_enriched & DAY0\\_enriched & DAY0\\_enriched & DAY0\\_enriched\\\\\n",
       "\t Act\\_Actinomyces.                 & microbiota & DAY0\\_enriched & DAY0\\_enriched & DAY0\\_enriched & DAY0\\_enriched & DAY0\\_enriched & DAY0\\_enriched\\\\\n",
       "\t Aer\\_Abiotrophia.                 & microbiota & Neutral       & Neutral       & DAY0\\_depleted & DAY0\\_depleted & Neutral       & Neutral      \\\\\n",
       "\t Bac\\_unclassified\\_Bacteroidaceae. & microbiota & DAY0\\_depleted & DAY0\\_enriched & DAY0\\_enriched & Neutral       & Neutral       & DAY0\\_depleted\\\\\n",
       "\t Bur\\_Lautropia.                   & microbiota & DAY0\\_enriched & Neutral       & Neutral       & DAY0\\_enriched & DAY0\\_enriched & DAY0\\_enriched\\\\\n",
       "\t Cam\\_Campylobacter.               & microbiota & DAY0\\_depleted & Neutral       & Neutral       & Neutral       & DAY0\\_depleted & DAY0\\_depleted\\\\\n",
       "\\end{tabular}\n"
      ],
      "text/markdown": [
       "\n",
       "A data.frame: 6 × 8\n",
       "\n",
       "| feature &lt;fct&gt; | omics &lt;fct&gt; | Day0_VS_Day.21 &lt;fct&gt; | Day0_VS_Day01 &lt;fct&gt; | Day0_VS_Day03 &lt;fct&gt; | Day0_VS_Day07 &lt;fct&gt; | Day0_VS_Day14 &lt;fct&gt; | Day0_VS_Day28 &lt;fct&gt; |\n",
       "|---|---|---|---|---|---|---|---|\n",
       "| Act_Actinobaculum.               | microbiota | Neutral       | Neutral       | DAY0_enriched | DAY0_enriched | DAY0_enriched | DAY0_enriched |\n",
       "| Act_Actinomyces.                 | microbiota | DAY0_enriched | DAY0_enriched | DAY0_enriched | DAY0_enriched | DAY0_enriched | DAY0_enriched |\n",
       "| Aer_Abiotrophia.                 | microbiota | Neutral       | Neutral       | DAY0_depleted | DAY0_depleted | Neutral       | Neutral       |\n",
       "| Bac_unclassified_Bacteroidaceae. | microbiota | DAY0_depleted | DAY0_enriched | DAY0_enriched | Neutral       | Neutral       | DAY0_depleted |\n",
       "| Bur_Lautropia.                   | microbiota | DAY0_enriched | Neutral       | Neutral       | DAY0_enriched | DAY0_enriched | DAY0_enriched |\n",
       "| Cam_Campylobacter.               | microbiota | DAY0_depleted | Neutral       | Neutral       | Neutral       | DAY0_depleted | DAY0_depleted |\n",
       "\n"
      ],
      "text/plain": [
       "  feature                          omics      Day0_VS_Day.21 Day0_VS_Day01\n",
       "1 Act_Actinobaculum.               microbiota Neutral        Neutral      \n",
       "2 Act_Actinomyces.                 microbiota DAY0_enriched  DAY0_enriched\n",
       "3 Aer_Abiotrophia.                 microbiota Neutral        Neutral      \n",
       "4 Bac_unclassified_Bacteroidaceae. microbiota DAY0_depleted  DAY0_enriched\n",
       "5 Bur_Lautropia.                   microbiota DAY0_enriched  Neutral      \n",
       "6 Cam_Campylobacter.               microbiota DAY0_depleted  Neutral      \n",
       "  Day0_VS_Day03 Day0_VS_Day07 Day0_VS_Day14 Day0_VS_Day28\n",
       "1 DAY0_enriched DAY0_enriched DAY0_enriched DAY0_enriched\n",
       "2 DAY0_enriched DAY0_enriched DAY0_enriched DAY0_enriched\n",
       "3 DAY0_depleted DAY0_depleted Neutral       Neutral      \n",
       "4 DAY0_enriched Neutral       Neutral       DAY0_depleted\n",
       "5 Neutral       DAY0_enriched DAY0_enriched DAY0_enriched\n",
       "6 Neutral       Neutral       DAY0_depleted DAY0_depleted"
      ]
     },
     "metadata": {},
     "output_type": "display_data"
    }
   ],
   "source": [
    "#length(m2_comps$feature_imps_list)\n",
    "m2_Enr<-data.frame(feature=m2_comps$feature_imps_list[[1]][, \"feature\"],\n",
    "                   omics=\"microbiota\",\n",
    "           Day0_VS_Day.21=m2_comps$feature_imps_list[[1]][, \"Enr\"],\n",
    "           Day0_VS_Day01=m2_comps$feature_imps_list[[2]][, \"Enr\"],\n",
    "           Day0_VS_Day03=m2_comps$feature_imps_list[[3]][, \"Enr\"],\n",
    "           Day0_VS_Day07=m2_comps$feature_imps_list[[4]][, \"Enr\"],\n",
    "           Day0_VS_Day14=m2_comps$feature_imps_list[[5]][, \"Enr\"],\n",
    "           Day0_VS_Day28=m2_comps$feature_imps_list[[6]][, \"Enr\"])\n",
    "head(m2_Enr)"
   ]
  },
  {
   "cell_type": "code",
   "execution_count": 22,
   "metadata": {},
   "outputs": [
    {
     "data": {
      "text/html": [
       "<table>\n",
       "<caption>A data.frame: 6 × 8</caption>\n",
       "<thead>\n",
       "\t<tr><th scope=col>feature</th><th scope=col>omics</th><th scope=col>Day0_VS_Day.21</th><th scope=col>Day0_VS_Day01</th><th scope=col>Day0_VS_Day03</th><th scope=col>Day0_VS_Day07</th><th scope=col>Day0_VS_Day14</th><th scope=col>Day0_VS_Day28</th></tr>\n",
       "\t<tr><th scope=col>&lt;fct&gt;</th><th scope=col>&lt;fct&gt;</th><th scope=col>&lt;fct&gt;</th><th scope=col>&lt;lgl&gt;</th><th scope=col>&lt;fct&gt;</th><th scope=col>&lt;fct&gt;</th><th scope=col>&lt;lgl&gt;</th><th scope=col>&lt;fct&gt;</th></tr>\n",
       "</thead>\n",
       "<tbody>\n",
       "\t<tr><td>MIP.1_beta</td><td>cytokines</td><td>Neutral</td><td>NA</td><td>Neutral      </td><td>Neutral      </td><td>NA</td><td>DAY0_enriched</td></tr>\n",
       "\t<tr><td>IL.6      </td><td>cytokines</td><td>Neutral</td><td>NA</td><td>Neutral      </td><td>Neutral      </td><td>NA</td><td>Neutral      </td></tr>\n",
       "\t<tr><td>IFN.gamma </td><td>cytokines</td><td>Neutral</td><td>NA</td><td>DAY0_depleted</td><td>Neutral      </td><td>NA</td><td>Neutral      </td></tr>\n",
       "\t<tr><td>IL.1ra    </td><td>cytokines</td><td>Neutral</td><td>NA</td><td>Neutral      </td><td>DAY0_depleted</td><td>NA</td><td>Neutral      </td></tr>\n",
       "\t<tr><td>IL.5      </td><td>cytokines</td><td>Neutral</td><td>NA</td><td>Neutral      </td><td>Neutral      </td><td>NA</td><td>Neutral      </td></tr>\n",
       "\t<tr><td>GM.CSF    </td><td>cytokines</td><td>Neutral</td><td>NA</td><td>Neutral      </td><td>Neutral      </td><td>NA</td><td>Neutral      </td></tr>\n",
       "</tbody>\n",
       "</table>\n"
      ],
      "text/latex": [
       "A data.frame: 6 × 8\n",
       "\\begin{tabular}{r|llllllll}\n",
       " feature & omics & Day0\\_VS\\_Day.21 & Day0\\_VS\\_Day01 & Day0\\_VS\\_Day03 & Day0\\_VS\\_Day07 & Day0\\_VS\\_Day14 & Day0\\_VS\\_Day28\\\\\n",
       " <fct> & <fct> & <fct> & <lgl> & <fct> & <fct> & <lgl> & <fct>\\\\\n",
       "\\hline\n",
       "\t MIP.1\\_beta & cytokines & Neutral & NA & Neutral       & Neutral       & NA & DAY0\\_enriched\\\\\n",
       "\t IL.6       & cytokines & Neutral & NA & Neutral       & Neutral       & NA & Neutral      \\\\\n",
       "\t IFN.gamma  & cytokines & Neutral & NA & DAY0\\_depleted & Neutral       & NA & Neutral      \\\\\n",
       "\t IL.1ra     & cytokines & Neutral & NA & Neutral       & DAY0\\_depleted & NA & Neutral      \\\\\n",
       "\t IL.5       & cytokines & Neutral & NA & Neutral       & Neutral       & NA & Neutral      \\\\\n",
       "\t GM.CSF     & cytokines & Neutral & NA & Neutral       & Neutral       & NA & Neutral      \\\\\n",
       "\\end{tabular}\n"
      ],
      "text/markdown": [
       "\n",
       "A data.frame: 6 × 8\n",
       "\n",
       "| feature &lt;fct&gt; | omics &lt;fct&gt; | Day0_VS_Day.21 &lt;fct&gt; | Day0_VS_Day01 &lt;lgl&gt; | Day0_VS_Day03 &lt;fct&gt; | Day0_VS_Day07 &lt;fct&gt; | Day0_VS_Day14 &lt;lgl&gt; | Day0_VS_Day28 &lt;fct&gt; |\n",
       "|---|---|---|---|---|---|---|---|\n",
       "| MIP.1_beta | cytokines | Neutral | NA | Neutral       | Neutral       | NA | DAY0_enriched |\n",
       "| IL.6       | cytokines | Neutral | NA | Neutral       | Neutral       | NA | Neutral       |\n",
       "| IFN.gamma  | cytokines | Neutral | NA | DAY0_depleted | Neutral       | NA | Neutral       |\n",
       "| IL.1ra     | cytokines | Neutral | NA | Neutral       | DAY0_depleted | NA | Neutral       |\n",
       "| IL.5       | cytokines | Neutral | NA | Neutral       | Neutral       | NA | Neutral       |\n",
       "| GM.CSF     | cytokines | Neutral | NA | Neutral       | Neutral       | NA | Neutral       |\n",
       "\n"
      ],
      "text/plain": [
       "  feature    omics     Day0_VS_Day.21 Day0_VS_Day01 Day0_VS_Day03 Day0_VS_Day07\n",
       "1 MIP.1_beta cytokines Neutral        NA            Neutral       Neutral      \n",
       "2 IL.6       cytokines Neutral        NA            Neutral       Neutral      \n",
       "3 IFN.gamma  cytokines Neutral        NA            DAY0_depleted Neutral      \n",
       "4 IL.1ra     cytokines Neutral        NA            Neutral       DAY0_depleted\n",
       "5 IL.5       cytokines Neutral        NA            Neutral       Neutral      \n",
       "6 GM.CSF     cytokines Neutral        NA            Neutral       Neutral      \n",
       "  Day0_VS_Day14 Day0_VS_Day28\n",
       "1 NA            DAY0_enriched\n",
       "2 NA            Neutral      \n",
       "3 NA            Neutral      \n",
       "4 NA            Neutral      \n",
       "5 NA            Neutral      \n",
       "6 NA            Neutral      "
      ]
     },
     "metadata": {},
     "output_type": "display_data"
    }
   ],
   "source": [
    "m3_Enr<-data.frame(feature=m3_comps$feature_imps_list[[1]][, \"feature\"],\n",
    "                   omics=\"cytokines\",\n",
    "           Day0_VS_Day.21=m3_comps$feature_imps_list[[1]][, \"Enr\"],\n",
    "           Day0_VS_Day01=NA,\n",
    "           Day0_VS_Day03=m3_comps$feature_imps_list[[2]][, \"Enr\"],\n",
    "           Day0_VS_Day07=m3_comps$feature_imps_list[[3]][, \"Enr\"],\n",
    "           Day0_VS_Day14=NA,\n",
    "           Day0_VS_Day28=m3_comps$feature_imps_list[[4]][, \"Enr\"])\n",
    "head(m3_Enr)"
   ]
  },
  {
   "cell_type": "code",
   "execution_count": 23,
   "metadata": {},
   "outputs": [],
   "source": [
    "feature_Enr<-rbind(m1_Enr, m2_Enr, m3_Enr)"
   ]
  },
  {
   "cell_type": "code",
   "execution_count": 24,
   "metadata": {},
   "outputs": [],
   "source": [
    "#sink(paste(outpath, \"All_features_Enr.txt\", sep=\"\"))\n",
    "write.table(feature_Enr, paste(outpath, \"All_features_Enr.\", p.adj.method, \".txt\", sep=\"\"), quote=FALSE, sep=\"\\t\", row.names = F)\n",
    "#sink()"
   ]
  },
  {
   "cell_type": "code",
   "execution_count": null,
   "metadata": {},
   "outputs": [],
   "source": []
  },
  {
   "cell_type": "code",
   "execution_count": 25,
   "metadata": {},
   "outputs": [],
   "source": [
    "m1_logfc<-acast(m1_comps.summ$feature_res, feature~dataset, value.var=c(\"mean_logfc\"))\n",
    "m1_logfc<-data.frame(feature=rownames(m1_logfc), omics=\"metabolites\", m1_logfc)"
   ]
  },
  {
   "cell_type": "code",
   "execution_count": 26,
   "metadata": {},
   "outputs": [],
   "source": [
    "m2_logfc<-acast(m2_comps.summ$feature_res, feature~dataset, value.var=c(\"mean_logfc\"))\n",
    "m2_logfc<-data.frame(feature=rownames(m2_logfc), omics=\"microbiota\", m2_logfc)"
   ]
  },
  {
   "cell_type": "code",
   "execution_count": 27,
   "metadata": {},
   "outputs": [
    {
     "data": {
      "text/html": [
       "<table>\n",
       "<caption>A data.frame: 6 × 6</caption>\n",
       "<thead>\n",
       "\t<tr><th></th><th scope=col>feature</th><th scope=col>omics</th><th scope=col>DAY0_VS_DAY.21</th><th scope=col>DAY0_VS_DAY03</th><th scope=col>DAY0_VS_DAY07</th><th scope=col>DAY0_VS_DAY28</th></tr>\n",
       "\t<tr><th></th><th scope=col>&lt;fct&gt;</th><th scope=col>&lt;fct&gt;</th><th scope=col>&lt;dbl&gt;</th><th scope=col>&lt;dbl&gt;</th><th scope=col>&lt;dbl&gt;</th><th scope=col>&lt;dbl&gt;</th></tr>\n",
       "</thead>\n",
       "<tbody>\n",
       "\t<tr><th scope=row>Basic_FGF</th><td>Basic_FGF</td><td>microbiota</td><td> 0.07009202</td><td>-1.1495146</td><td>-1.4707490</td><td>-0.464611086</td></tr>\n",
       "\t<tr><th scope=row>Eotaxin</th><td>Eotaxin  </td><td>microbiota</td><td>-0.18786002</td><td>-0.5689502</td><td>-0.7524275</td><td>-0.274387695</td></tr>\n",
       "\t<tr><th scope=row>G.CSF</th><td>G.CSF    </td><td>microbiota</td><td> 0.16368514</td><td>-0.4926851</td><td>-0.6277333</td><td>-0.044321381</td></tr>\n",
       "\t<tr><th scope=row>GM.CSF</th><td>GM.CSF   </td><td>microbiota</td><td>-0.05481072</td><td>-0.2536215</td><td>-0.1257462</td><td>-0.348635221</td></tr>\n",
       "\t<tr><th scope=row>IFN.gamma</th><td>IFN.gamma</td><td>microbiota</td><td> 0.12964279</td><td>-0.6437000</td><td>-0.6034012</td><td> 0.006858014</td></tr>\n",
       "\t<tr><th scope=row>IL.1_beta</th><td>IL.1_beta</td><td>microbiota</td><td>-0.05080173</td><td> 0.7506268</td><td> 0.2552218</td><td>-0.624074728</td></tr>\n",
       "</tbody>\n",
       "</table>\n"
      ],
      "text/latex": [
       "A data.frame: 6 × 6\n",
       "\\begin{tabular}{r|llllll}\n",
       "  & feature & omics & DAY0\\_VS\\_DAY.21 & DAY0\\_VS\\_DAY03 & DAY0\\_VS\\_DAY07 & DAY0\\_VS\\_DAY28\\\\\n",
       "  & <fct> & <fct> & <dbl> & <dbl> & <dbl> & <dbl>\\\\\n",
       "\\hline\n",
       "\tBasic\\_FGF & Basic\\_FGF & microbiota &  0.07009202 & -1.1495146 & -1.4707490 & -0.464611086\\\\\n",
       "\tEotaxin & Eotaxin   & microbiota & -0.18786002 & -0.5689502 & -0.7524275 & -0.274387695\\\\\n",
       "\tG.CSF & G.CSF     & microbiota &  0.16368514 & -0.4926851 & -0.6277333 & -0.044321381\\\\\n",
       "\tGM.CSF & GM.CSF    & microbiota & -0.05481072 & -0.2536215 & -0.1257462 & -0.348635221\\\\\n",
       "\tIFN.gamma & IFN.gamma & microbiota &  0.12964279 & -0.6437000 & -0.6034012 &  0.006858014\\\\\n",
       "\tIL.1\\_beta & IL.1\\_beta & microbiota & -0.05080173 &  0.7506268 &  0.2552218 & -0.624074728\\\\\n",
       "\\end{tabular}\n"
      ],
      "text/markdown": [
       "\n",
       "A data.frame: 6 × 6\n",
       "\n",
       "| <!--/--> | feature &lt;fct&gt; | omics &lt;fct&gt; | DAY0_VS_DAY.21 &lt;dbl&gt; | DAY0_VS_DAY03 &lt;dbl&gt; | DAY0_VS_DAY07 &lt;dbl&gt; | DAY0_VS_DAY28 &lt;dbl&gt; |\n",
       "|---|---|---|---|---|---|---|\n",
       "| Basic_FGF | Basic_FGF | microbiota |  0.07009202 | -1.1495146 | -1.4707490 | -0.464611086 |\n",
       "| Eotaxin | Eotaxin   | microbiota | -0.18786002 | -0.5689502 | -0.7524275 | -0.274387695 |\n",
       "| G.CSF | G.CSF     | microbiota |  0.16368514 | -0.4926851 | -0.6277333 | -0.044321381 |\n",
       "| GM.CSF | GM.CSF    | microbiota | -0.05481072 | -0.2536215 | -0.1257462 | -0.348635221 |\n",
       "| IFN.gamma | IFN.gamma | microbiota |  0.12964279 | -0.6437000 | -0.6034012 |  0.006858014 |\n",
       "| IL.1_beta | IL.1_beta | microbiota | -0.05080173 |  0.7506268 |  0.2552218 | -0.624074728 |\n",
       "\n"
      ],
      "text/plain": [
       "          feature   omics      DAY0_VS_DAY.21 DAY0_VS_DAY03 DAY0_VS_DAY07\n",
       "Basic_FGF Basic_FGF microbiota  0.07009202    -1.1495146    -1.4707490   \n",
       "Eotaxin   Eotaxin   microbiota -0.18786002    -0.5689502    -0.7524275   \n",
       "G.CSF     G.CSF     microbiota  0.16368514    -0.4926851    -0.6277333   \n",
       "GM.CSF    GM.CSF    microbiota -0.05481072    -0.2536215    -0.1257462   \n",
       "IFN.gamma IFN.gamma microbiota  0.12964279    -0.6437000    -0.6034012   \n",
       "IL.1_beta IL.1_beta microbiota -0.05080173     0.7506268     0.2552218   \n",
       "          DAY0_VS_DAY28\n",
       "Basic_FGF -0.464611086 \n",
       "Eotaxin   -0.274387695 \n",
       "G.CSF     -0.044321381 \n",
       "GM.CSF    -0.348635221 \n",
       "IFN.gamma  0.006858014 \n",
       "IL.1_beta -0.624074728 "
      ]
     },
     "metadata": {},
     "output_type": "display_data"
    }
   ],
   "source": [
    "m3_logfc<-acast(m3_comps.summ$feature_res, feature~dataset, value.var=c(\"mean_logfc\"))\n",
    "m3_logfc<-data.frame(feature=rownames(m3_logfc), omics=\"microbiota\", m3_logfc)\n",
    "head(m3_logfc)"
   ]
  },
  {
   "cell_type": "markdown",
   "metadata": {},
   "source": [
    "### Visualize the AUROC in the RF models to reveal the multi-omics changes over time"
   ]
  },
  {
   "cell_type": "code",
   "execution_count": 28,
   "metadata": {},
   "outputs": [
    {
     "data": {
      "text/html": [
       "<table>\n",
       "<caption>A matrix: 6 × 6 of type dbl</caption>\n",
       "<thead>\n",
       "\t<tr><th></th><th scope=col>mean_diff</th><th scope=col>lower_conf.int</th><th scope=col>upper_conf.int</th><th scope=col>p_value</th><th scope=col>IfSig</th><th scope=col>cohens_d</th></tr>\n",
       "</thead>\n",
       "<tbody>\n",
       "\t<tr><th scope=row>DAY0_VS_DAY_21</th><td>9.0263158</td><td>6.9397935</td><td>11.1128381</td><td>1.465431e-10</td><td>1</td><td>1.4219240</td></tr>\n",
       "\t<tr><th scope=row>DAY0_VS_DAY01</th><td>0.1315789</td><td>0.4292324</td><td> 0.1660745</td><td>3.762104e-01</td><td>0</td><td>0.1452996</td></tr>\n",
       "\t<tr><th scope=row>DAY0_VS_DAY03</th><td>0.2432432</td><td>0.6974560</td><td> 0.2109695</td><td>2.846543e-01</td><td>0</td><td>0.1785536</td></tr>\n",
       "\t<tr><th scope=row>DAY0_VS_DAY07</th><td>0.9189189</td><td>1.4120699</td><td> 0.4257680</td><td>5.713900e-04</td><td>1</td><td>0.6212759</td></tr>\n",
       "\t<tr><th scope=row>DAY0_VS_DAY14</th><td>3.5000000</td><td>4.6622750</td><td> 2.3377250</td><td>5.476767e-07</td><td>1</td><td>1.0188894</td></tr>\n",
       "\t<tr><th scope=row>DAY0_VS_DAY28</th><td>6.8918919</td><td>9.0002870</td><td> 4.7834968</td><td>1.010619e-07</td><td>1</td><td>1.0898674</td></tr>\n",
       "</tbody>\n",
       "</table>\n"
      ],
      "text/latex": [
       "A matrix: 6 × 6 of type dbl\n",
       "\\begin{tabular}{r|llllll}\n",
       "  & mean\\_diff & lower\\_conf.int & upper\\_conf.int & p\\_value & IfSig & cohens\\_d\\\\\n",
       "\\hline\n",
       "\tDAY0\\_VS\\_DAY\\_21 & 9.0263158 & 6.9397935 & 11.1128381 & 1.465431e-10 & 1 & 1.4219240\\\\\n",
       "\tDAY0\\_VS\\_DAY01 & 0.1315789 & 0.4292324 &  0.1660745 & 3.762104e-01 & 0 & 0.1452996\\\\\n",
       "\tDAY0\\_VS\\_DAY03 & 0.2432432 & 0.6974560 &  0.2109695 & 2.846543e-01 & 0 & 0.1785536\\\\\n",
       "\tDAY0\\_VS\\_DAY07 & 0.9189189 & 1.4120699 &  0.4257680 & 5.713900e-04 & 1 & 0.6212759\\\\\n",
       "\tDAY0\\_VS\\_DAY14 & 3.5000000 & 4.6622750 &  2.3377250 & 5.476767e-07 & 1 & 1.0188894\\\\\n",
       "\tDAY0\\_VS\\_DAY28 & 6.8918919 & 9.0002870 &  4.7834968 & 1.010619e-07 & 1 & 1.0898674\\\\\n",
       "\\end{tabular}\n"
      ],
      "text/markdown": [
       "\n",
       "A matrix: 6 × 6 of type dbl\n",
       "\n",
       "| <!--/--> | mean_diff | lower_conf.int | upper_conf.int | p_value | IfSig | cohens_d |\n",
       "|---|---|---|---|---|---|---|\n",
       "| DAY0_VS_DAY_21 | 9.0263158 | 6.9397935 | 11.1128381 | 1.465431e-10 | 1 | 1.4219240 |\n",
       "| DAY0_VS_DAY01 | 0.1315789 | 0.4292324 |  0.1660745 | 3.762104e-01 | 0 | 0.1452996 |\n",
       "| DAY0_VS_DAY03 | 0.2432432 | 0.6974560 |  0.2109695 | 2.846543e-01 | 0 | 0.1785536 |\n",
       "| DAY0_VS_DAY07 | 0.9189189 | 1.4120699 |  0.4257680 | 5.713900e-04 | 1 | 0.6212759 |\n",
       "| DAY0_VS_DAY14 | 3.5000000 | 4.6622750 |  2.3377250 | 5.476767e-07 | 1 | 1.0188894 |\n",
       "| DAY0_VS_DAY28 | 6.8918919 | 9.0002870 |  4.7834968 | 1.010619e-07 | 1 | 1.0898674 |\n",
       "\n"
      ],
      "text/plain": [
       "               mean_diff lower_conf.int upper_conf.int p_value      IfSig\n",
       "DAY0_VS_DAY_21 9.0263158 6.9397935      11.1128381     1.465431e-10 1    \n",
       "DAY0_VS_DAY01  0.1315789 0.4292324       0.1660745     3.762104e-01 0    \n",
       "DAY0_VS_DAY03  0.2432432 0.6974560       0.2109695     2.846543e-01 0    \n",
       "DAY0_VS_DAY07  0.9189189 1.4120699       0.4257680     5.713900e-04 1    \n",
       "DAY0_VS_DAY14  3.5000000 4.6622750       2.3377250     5.476767e-07 1    \n",
       "DAY0_VS_DAY28  6.8918919 9.0002870       4.7834968     1.010619e-07 1    \n",
       "               cohens_d \n",
       "DAY0_VS_DAY_21 1.4219240\n",
       "DAY0_VS_DAY01  0.1452996\n",
       "DAY0_VS_DAY03  0.1785536\n",
       "DAY0_VS_DAY07  0.6212759\n",
       "DAY0_VS_DAY14  1.0188894\n",
       "DAY0_VS_DAY28  1.0898674"
      ]
     },
     "metadata": {},
     "output_type": "display_data"
    }
   ],
   "source": [
    "out"
   ]
  },
  {
   "cell_type": "code",
   "execution_count": 29,
   "metadata": {},
   "outputs": [
    {
     "data": {
      "text/html": [
       "<ol class=list-inline>\n",
       "\t<li>0.653048780487805</li>\n",
       "\t<li>0.999305555555556</li>\n",
       "\t<li>0.999324324324324</li>\n",
       "\t<li>0.892763157894737</li>\n",
       "</ol>\n"
      ],
      "text/latex": [
       "\\begin{enumerate*}\n",
       "\\item 0.653048780487805\n",
       "\\item 0.999305555555556\n",
       "\\item 0.999324324324324\n",
       "\\item 0.892763157894737\n",
       "\\end{enumerate*}\n"
      ],
      "text/markdown": [
       "1. 0.653048780487805\n",
       "2. 0.999305555555556\n",
       "3. 0.999324324324324\n",
       "4. 0.892763157894737\n",
       "\n",
       "\n"
      ],
      "text/plain": [
       "[1] 0.6530488 0.9993056 0.9993243 0.8927632"
      ]
     },
     "metadata": {},
     "output_type": "display_data"
    }
   ],
   "source": [
    "m3_comps$rf_AUC"
   ]
  },
  {
   "cell_type": "code",
   "execution_count": 30,
   "metadata": {},
   "outputs": [
    {
     "data": {
      "text/html": [
       "<ol class=list-inline>\n",
       "\t<li>TRUE</li>\n",
       "\t<li>FALSE</li>\n",
       "\t<li>TRUE</li>\n",
       "\t<li>TRUE</li>\n",
       "\t<li>FALSE</li>\n",
       "\t<li>TRUE</li>\n",
       "</ol>\n"
      ],
      "text/latex": [
       "\\begin{enumerate*}\n",
       "\\item TRUE\n",
       "\\item FALSE\n",
       "\\item TRUE\n",
       "\\item TRUE\n",
       "\\item FALSE\n",
       "\\item TRUE\n",
       "\\end{enumerate*}\n"
      ],
      "text/markdown": [
       "1. TRUE\n",
       "2. FALSE\n",
       "3. TRUE\n",
       "4. TRUE\n",
       "5. FALSE\n",
       "6. TRUE\n",
       "\n",
       "\n"
      ],
      "text/plain": [
       "[1]  TRUE FALSE  TRUE  TRUE FALSE  TRUE"
      ]
     },
     "metadata": {},
     "output_type": "display_data"
    },
    {
     "data": {
      "text/html": [
       "<ol class=list-inline>\n",
       "\t<li>0.653048780487805</li>\n",
       "\t<li>&lt;NA&gt;</li>\n",
       "\t<li>0.999305555555556</li>\n",
       "\t<li>0.999324324324324</li>\n",
       "\t<li>&lt;NA&gt;</li>\n",
       "\t<li>0.892763157894737</li>\n",
       "</ol>\n"
      ],
      "text/latex": [
       "\\begin{enumerate*}\n",
       "\\item 0.653048780487805\n",
       "\\item <NA>\n",
       "\\item 0.999305555555556\n",
       "\\item 0.999324324324324\n",
       "\\item <NA>\n",
       "\\item 0.892763157894737\n",
       "\\end{enumerate*}\n"
      ],
      "text/markdown": [
       "1. 0.653048780487805\n",
       "2. &lt;NA&gt;\n",
       "3. 0.999305555555556\n",
       "4. 0.999324324324324\n",
       "5. &lt;NA&gt;\n",
       "6. 0.892763157894737\n",
       "\n",
       "\n"
      ],
      "text/plain": [
       "[1] 0.6530488        NA 0.9993056 0.9993243        NA 0.8927632"
      ]
     },
     "metadata": {},
     "output_type": "display_data"
    }
   ],
   "source": [
    "probes <- rep(TRUE, length(m3_comps$rf_AUC))\n",
    "probes <- append(probes, FALSE, after=1)\n",
    "probes <- append(probes, FALSE, after=4)\n",
    "cytokines_AUROC=rep(NA, nrow(out))\n",
    "cytokines_AUROC[probes]<-m3_comps$rf_AUC\n",
    "probes\n",
    "cytokines_AUROC "
   ]
  },
  {
   "cell_type": "code",
   "execution_count": 31,
   "metadata": {},
   "outputs": [
    {
     "data": {
      "text/html": [
       "<table>\n",
       "<caption>A data.frame: 6 × 9</caption>\n",
       "<thead>\n",
       "\t<tr><th></th><th scope=col>mean_diff</th><th scope=col>lower_conf.int</th><th scope=col>upper_conf.int</th><th scope=col>p_value</th><th scope=col>IfSig</th><th scope=col>cohens_d</th><th scope=col>metabolome_AUROC</th><th scope=col>microboime_AUROC</th><th scope=col>cytokines_AUROC</th></tr>\n",
       "\t<tr><th></th><th scope=col>&lt;dbl&gt;</th><th scope=col>&lt;dbl&gt;</th><th scope=col>&lt;dbl&gt;</th><th scope=col>&lt;dbl&gt;</th><th scope=col>&lt;dbl&gt;</th><th scope=col>&lt;dbl&gt;</th><th scope=col>&lt;dbl&gt;</th><th scope=col>&lt;dbl&gt;</th><th scope=col>&lt;dbl&gt;</th></tr>\n",
       "</thead>\n",
       "<tbody>\n",
       "\t<tr><th scope=row>DAY0_VS_DAY_21</th><td>9.0263158</td><td>6.9397935</td><td>11.1128381</td><td>1.465431e-10</td><td>1</td><td>1.4219240</td><td>0.8975000</td><td>0.8524931</td><td>0.6530488</td></tr>\n",
       "\t<tr><th scope=row>DAY0_VS_DAY01</th><td>0.1315789</td><td>0.4292324</td><td> 0.1660745</td><td>3.762104e-01</td><td>0</td><td>0.1452996</td><td>0.5806250</td><td>0.7569252</td><td>       NA</td></tr>\n",
       "\t<tr><th scope=row>DAY0_VS_DAY03</th><td>0.2432432</td><td>0.6974560</td><td> 0.2109695</td><td>2.846543e-01</td><td>0</td><td>0.1785536</td><td>0.8307692</td><td>0.8719772</td><td>0.9993056</td></tr>\n",
       "\t<tr><th scope=row>DAY0_VS_DAY07</th><td>0.9189189</td><td>1.4120699</td><td> 0.4257680</td><td>5.713900e-04</td><td>1</td><td>0.6212759</td><td>0.9282051</td><td>0.9260313</td><td>0.9993243</td></tr>\n",
       "\t<tr><th scope=row>DAY0_VS_DAY14</th><td>3.5000000</td><td>4.6622750</td><td> 2.3377250</td><td>5.476767e-07</td><td>1</td><td>1.0188894</td><td>0.9697368</td><td>0.9027778</td><td>       NA</td></tr>\n",
       "\t<tr><th scope=row>DAY0_VS_DAY28</th><td>6.8918919</td><td>9.0002870</td><td> 4.7834968</td><td>1.010619e-07</td><td>1</td><td>1.0898674</td><td>0.9782051</td><td>0.8911807</td><td>0.8927632</td></tr>\n",
       "</tbody>\n",
       "</table>\n"
      ],
      "text/latex": [
       "A data.frame: 6 × 9\n",
       "\\begin{tabular}{r|lllllllll}\n",
       "  & mean\\_diff & lower\\_conf.int & upper\\_conf.int & p\\_value & IfSig & cohens\\_d & metabolome\\_AUROC & microboime\\_AUROC & cytokines\\_AUROC\\\\\n",
       "  & <dbl> & <dbl> & <dbl> & <dbl> & <dbl> & <dbl> & <dbl> & <dbl> & <dbl>\\\\\n",
       "\\hline\n",
       "\tDAY0\\_VS\\_DAY\\_21 & 9.0263158 & 6.9397935 & 11.1128381 & 1.465431e-10 & 1 & 1.4219240 & 0.8975000 & 0.8524931 & 0.6530488\\\\\n",
       "\tDAY0\\_VS\\_DAY01 & 0.1315789 & 0.4292324 &  0.1660745 & 3.762104e-01 & 0 & 0.1452996 & 0.5806250 & 0.7569252 &        NA\\\\\n",
       "\tDAY0\\_VS\\_DAY03 & 0.2432432 & 0.6974560 &  0.2109695 & 2.846543e-01 & 0 & 0.1785536 & 0.8307692 & 0.8719772 & 0.9993056\\\\\n",
       "\tDAY0\\_VS\\_DAY07 & 0.9189189 & 1.4120699 &  0.4257680 & 5.713900e-04 & 1 & 0.6212759 & 0.9282051 & 0.9260313 & 0.9993243\\\\\n",
       "\tDAY0\\_VS\\_DAY14 & 3.5000000 & 4.6622750 &  2.3377250 & 5.476767e-07 & 1 & 1.0188894 & 0.9697368 & 0.9027778 &        NA\\\\\n",
       "\tDAY0\\_VS\\_DAY28 & 6.8918919 & 9.0002870 &  4.7834968 & 1.010619e-07 & 1 & 1.0898674 & 0.9782051 & 0.8911807 & 0.8927632\\\\\n",
       "\\end{tabular}\n"
      ],
      "text/markdown": [
       "\n",
       "A data.frame: 6 × 9\n",
       "\n",
       "| <!--/--> | mean_diff &lt;dbl&gt; | lower_conf.int &lt;dbl&gt; | upper_conf.int &lt;dbl&gt; | p_value &lt;dbl&gt; | IfSig &lt;dbl&gt; | cohens_d &lt;dbl&gt; | metabolome_AUROC &lt;dbl&gt; | microboime_AUROC &lt;dbl&gt; | cytokines_AUROC &lt;dbl&gt; |\n",
       "|---|---|---|---|---|---|---|---|---|---|\n",
       "| DAY0_VS_DAY_21 | 9.0263158 | 6.9397935 | 11.1128381 | 1.465431e-10 | 1 | 1.4219240 | 0.8975000 | 0.8524931 | 0.6530488 |\n",
       "| DAY0_VS_DAY01 | 0.1315789 | 0.4292324 |  0.1660745 | 3.762104e-01 | 0 | 0.1452996 | 0.5806250 | 0.7569252 |        NA |\n",
       "| DAY0_VS_DAY03 | 0.2432432 | 0.6974560 |  0.2109695 | 2.846543e-01 | 0 | 0.1785536 | 0.8307692 | 0.8719772 | 0.9993056 |\n",
       "| DAY0_VS_DAY07 | 0.9189189 | 1.4120699 |  0.4257680 | 5.713900e-04 | 1 | 0.6212759 | 0.9282051 | 0.9260313 | 0.9993243 |\n",
       "| DAY0_VS_DAY14 | 3.5000000 | 4.6622750 |  2.3377250 | 5.476767e-07 | 1 | 1.0188894 | 0.9697368 | 0.9027778 |        NA |\n",
       "| DAY0_VS_DAY28 | 6.8918919 | 9.0002870 |  4.7834968 | 1.010619e-07 | 1 | 1.0898674 | 0.9782051 | 0.8911807 | 0.8927632 |\n",
       "\n"
      ],
      "text/plain": [
       "               mean_diff lower_conf.int upper_conf.int p_value      IfSig\n",
       "DAY0_VS_DAY_21 9.0263158 6.9397935      11.1128381     1.465431e-10 1    \n",
       "DAY0_VS_DAY01  0.1315789 0.4292324       0.1660745     3.762104e-01 0    \n",
       "DAY0_VS_DAY03  0.2432432 0.6974560       0.2109695     2.846543e-01 0    \n",
       "DAY0_VS_DAY07  0.9189189 1.4120699       0.4257680     5.713900e-04 1    \n",
       "DAY0_VS_DAY14  3.5000000 4.6622750       2.3377250     5.476767e-07 1    \n",
       "DAY0_VS_DAY28  6.8918919 9.0002870       4.7834968     1.010619e-07 1    \n",
       "               cohens_d  metabolome_AUROC microboime_AUROC cytokines_AUROC\n",
       "DAY0_VS_DAY_21 1.4219240 0.8975000        0.8524931        0.6530488      \n",
       "DAY0_VS_DAY01  0.1452996 0.5806250        0.7569252               NA      \n",
       "DAY0_VS_DAY03  0.1785536 0.8307692        0.8719772        0.9993056      \n",
       "DAY0_VS_DAY07  0.6212759 0.9282051        0.9260313        0.9993243      \n",
       "DAY0_VS_DAY14  1.0188894 0.9697368        0.9027778               NA      \n",
       "DAY0_VS_DAY28  1.0898674 0.9782051        0.8911807        0.8927632      "
      ]
     },
     "metadata": {},
     "output_type": "display_data"
    }
   ],
   "source": [
    "all_AUROC<-data.frame(out, \n",
    "                      metabolome_AUROC=m1_comps$rf_AUC, microboime_AUROC=m2_comps$rf_AUC, cytokines_AUROC)\n",
    "all_AUROC"
   ]
  },
  {
   "cell_type": "code",
   "execution_count": 32,
   "metadata": {},
   "outputs": [],
   "source": [
    "DAY0_VS_DAY0 <- c(0, 0, 0, 1, 0, 0, 0.5, 0.5, 0.5)\n",
    "all_AUROC<-rbind(DAY0_VS_DAY0, all_AUROC)\n",
    "rownames(all_AUROC)[1]<-\"DAY0_VS_DAY0\"\n"
   ]
  },
  {
   "cell_type": "code",
   "execution_count": 33,
   "metadata": {},
   "outputs": [],
   "source": [
    "all_AUROC<-data.frame(Dataset=rownames(all_AUROC), all_AUROC)\n",
    "all_AUROC<-all_AUROC[order(rownames(all_AUROC)),]"
   ]
  },
  {
   "cell_type": "code",
   "execution_count": 34,
   "metadata": {},
   "outputs": [
    {
     "data": {
      "image/png": "[encoded data removed]",
      "text/plain": [
       "plot without title"
      ]
     },
     "metadata": {},
     "output_type": "display_data"
    }
   ],
   "source": [
    "ylim.prim <- c(0, 10)   # in this example, bleeding\n",
    "ylim.sec <- c(0.5, 1)  # in this example, AUROC\n",
    "b <- diff(ylim.prim)/diff(ylim.sec)\n",
    "a <- b*(ylim.prim[1] - ylim.sec[1])\n",
    "color.sec=\"#DF7800\"\n",
    "p_comb_AUROC_metabolome<- ggplot(all_AUROC, aes(x=Dataset, y=mean_diff, group = 1)) + \n",
    "    xlab(\"\") + ylab(\"Mean difference of gingival bleeding \")+ \n",
    "    geom_bar(aes(x=Dataset, y=mean_diff, fill=IfSig), stat = \"identity\", alpha=0.2, fill=\"#0072B2\")+ #geom_bar(stat = \"identity\", alpha=0.5, width=0.01) +\n",
    "    #geom_errorbar(aes(ymin=mean_diff-lower_conf.int, ymax=mean_diff+upper_conf.int), width=.1, alpha=0.3) +    \n",
    "    #geom_hline(yintercept=0.5, linetype=\"dashed\")+\n",
    "    geom_point(aes(x=Dataset, y= a + metabolome_AUROC*b), size=4, color = color.sec)+ #shape=\"diamond\", shape=16, \n",
    "    geom_path(aes(x=Dataset, y=a + metabolome_AUROC*b), alpha=0.3, color = color.sec)+ #c(\"#D55E00\", \"#0072B2\")\n",
    "    scale_y_continuous(sec.axis = sec_axis(~(. - a)/b, name = \"plaque-metabolome AUROC\"), limits=ylim.prim) +\n",
    "    theme_bw()+ theme(legend.position='none')+theme_minimal()+\n",
    "    theme(axis.text.x = element_text(angle = 45, hjust = 1))+\n",
    "    theme(axis.line.y.right = element_line(color = color.sec),  \n",
    "        axis.ticks.y.right = element_line(color = color.sec),\n",
    "        axis.text.y.right = element_text(color = color.sec), \n",
    "        axis.title.y.right = element_text(color = color.sec)\n",
    "        )\n",
    "\n",
    "p_comb_AUROC_metabolome"
   ]
  },
  {
   "cell_type": "code",
   "execution_count": 35,
   "metadata": {},
   "outputs": [
    {
     "data": {
      "image/png": "[encoded data removed]",
      "text/plain": [
       "plot without title"
      ]
     },
     "metadata": {},
     "output_type": "display_data"
    }
   ],
   "source": [
    "color.sec=\"#2A6E81\"\n",
    "p_comb_AUROC_16S<- ggplot(all_AUROC, aes(x=Dataset, y=mean_diff, group = 1)) + \n",
    "    xlab(\"\") + ylab(\"Mean difference of gingival bleeding\")+ \n",
    "    geom_bar(aes(x=Dataset, y=mean_diff, fill=IfSig), stat = \"identity\", alpha=0.2, fill=\"#0072B2\")+ #geom_bar(stat = \"identity\", alpha=0.5, width=0.01) +\n",
    "    #geom_errorbar(aes(ymin=mean_diff-lower_conf.int, ymax=mean_diff+upper_conf.int), width=.1, alpha=0.3) +    \n",
    "    #geom_hline(yintercept=0.5, linetype=\"dashed\")+\n",
    "    geom_point(aes(x=Dataset, y= a + microboime_AUROC*b), size=4, color = color.sec)+ #shape=\"diamond\", shape=17, \n",
    "    geom_path(aes(x=Dataset, y=a + microboime_AUROC*b), alpha=0.3, color = color.sec)+ #c(color.sec, \"#0072B2\")\n",
    "    #coord_flip()+ # if want to filp coordinate\n",
    "    scale_y_continuous(sec.axis = sec_axis(~(. - a)/b, name = \"plaque-microbiota AUROC\"), limits=ylim.prim) +\n",
    "    theme_bw()+ theme(legend.position='none')+ theme_minimal()+\n",
    "    theme(axis.text.x = element_text(angle = 45, hjust = 1))+\n",
    "    theme(axis.line.y.right = element_line(color = color.sec),  \n",
    "        axis.ticks.y.right = element_line(color = color.sec),\n",
    "        axis.text.y.right = element_text(color = color.sec), \n",
    "        axis.title.y.right = element_text(color = color.sec)\n",
    "        )\n",
    "p_comb_AUROC_16S"
   ]
  },
  {
   "cell_type": "code",
   "execution_count": 36,
   "metadata": {},
   "outputs": [
    {
     "name": "stderr",
     "output_type": "stream",
     "text": [
      "Warning message:\n",
      "“Removed 2 rows containing missing values (geom_point).”"
     ]
    },
    {
     "data": {
      "image/png": "[encoded data removed]",
      "text/plain": [
       "plot without title"
      ]
     },
     "metadata": {},
     "output_type": "display_data"
    }
   ],
   "source": [
    "color.sec=\"#50105A\"##\"#45164B\"\n",
    "p_comb_AUROC_cytokines<- ggplot(all_AUROC, aes(x=Dataset, y=mean_diff, group = 1)) + \n",
    "    xlab(\"\") + ylab(\"Mean difference of gingival bleeding\")+ \n",
    "    geom_bar(aes(x=Dataset, y=mean_diff, fill=IfSig), stat = \"identity\", alpha=0.2, fill=\"#0072B2\")+ #geom_bar(stat = \"identity\", alpha=0.5, width=0.01) +\n",
    "    #geom_errorbar(aes(ymin=mean_diff-lower_conf.int, ymax=mean_diff+upper_conf.int), width=.1, alpha=0.3) +    \n",
    "    #geom_hline(yintercept=0.5, linetype=\"dashed\")+\n",
    "    geom_point(aes(x=Dataset, y= a + cytokines_AUROC*b), size=4, color = color.sec)+  #shape=18, \n",
    "    geom_path(aes(x=Dataset, y=a + cytokines_AUROC*b), alpha=0.3, color = color.sec)+ #c(color.sec, \"#0072B2\")\n",
    "    #coord_flip()+ # if want to filp coordinate\n",
    "    scale_y_continuous(sec.axis = sec_axis(~(. - a)/b, name = \"saliva-cytokines AUROC\"), limits=ylim.prim) +\n",
    "    theme_bw()+ theme(legend.position='none')+ theme_minimal()+\n",
    "    theme(axis.text.x = element_text(angle = 45, hjust = 1))+\n",
    "    theme(axis.line.y.right = element_line(color = color.sec),  \n",
    "        axis.ticks.y.right = element_line(color = color.sec),\n",
    "        axis.text.y.right = element_text(color = color.sec), \n",
    "        axis.title.y.right = element_text(color = color.sec)\n",
    "        )\n",
    "p_comb_AUROC_cytokines"
   ]
  },
  {
   "cell_type": "code",
   "execution_count": 37,
   "metadata": {},
   "outputs": [
    {
     "name": "stderr",
     "output_type": "stream",
     "text": [
      "Warning message:\n",
      "“Removed 2 rows containing missing values (geom_point).”"
     ]
    }
   ],
   "source": [
    "ggsave(filename=paste(outpath, \"/Bleeding.AUROC_microbiota.ggplot.pdf\",sep=\"\"),p_comb_AUROC_16S, width=5, height=5)\n",
    "ggsave(filename=paste(outpath, \"/Bleeding.AUROC_metabolome.ggplot.pdf\",sep=\"\"),p_comb_AUROC_metabolome, width=5, height=5)\n",
    "ggsave(filename=paste(outpath, \"/Bleeding.AUROC_cytokines.ggplot.pdf\",sep=\"\"),p_comb_AUROC_cytokines, width=5, height=5)"
   ]
  },
  {
   "cell_type": "code",
   "execution_count": null,
   "metadata": {},
   "outputs": [],
   "source": []
  },
  {
   "cell_type": "code",
   "execution_count": null,
   "metadata": {},
   "outputs": [],
   "source": []
  },
  {
   "cell_type": "markdown",
   "metadata": {},
   "source": [
    "## The correlation of each pair of measurements\n",
    "-- edge table\n"
   ]
  },
  {
   "cell_type": "markdown",
   "metadata": {},
   "source": [
    "### combine all samples with paired omics data"
   ]
  },
  {
   "cell_type": "code",
   "execution_count": 38,
   "metadata": {},
   "outputs": [
    {
     "data": {
      "text/html": [
       "<ol class=list-inline>\n",
       "\t<li>186</li>\n",
       "\t<li>1196</li>\n",
       "</ol>\n"
      ],
      "text/latex": [
       "\\begin{enumerate*}\n",
       "\\item 186\n",
       "\\item 1196\n",
       "\\end{enumerate*}\n"
      ],
      "text/markdown": [
       "1. 186\n",
       "2. 1196\n",
       "\n",
       "\n"
      ],
      "text/plain": [
       "[1]  186 1196"
      ]
     },
     "metadata": {},
     "output_type": "display_data"
    }
   ],
   "source": [
    "df<-cbind(f1_s, f2_s, f3_s)\n",
    "dim(df)"
   ]
  },
  {
   "cell_type": "code",
   "execution_count": 39,
   "metadata": {},
   "outputs": [
    {
     "data": {
      "text/html": [
       "1125"
      ],
      "text/latex": [
       "1125"
      ],
      "text/markdown": [
       "1125"
      ],
      "text/plain": [
       "[1] 1125"
      ]
     },
     "metadata": {},
     "output_type": "display_data"
    },
    {
     "data": {
      "text/html": [
       "44"
      ],
      "text/latex": [
       "44"
      ],
      "text/markdown": [
       "44"
      ],
      "text/plain": [
       "[1] 44"
      ]
     },
     "metadata": {},
     "output_type": "display_data"
    },
    {
     "data": {
      "text/html": [
       "27"
      ],
      "text/latex": [
       "27"
      ],
      "text/markdown": [
       "27"
      ],
      "text/plain": [
       "[1] 27"
      ]
     },
     "metadata": {},
     "output_type": "display_data"
    }
   ],
   "source": [
    "ncol(f1_s)\n",
    "ncol(f2_s)\n",
    "ncol(f3_s)"
   ]
  },
  {
   "cell_type": "markdown",
   "metadata": {},
   "source": [
    "### feature metadata"
   ]
  },
  {
   "cell_type": "code",
   "execution_count": 40,
   "metadata": {},
   "outputs": [],
   "source": [
    "mtypes<-c(rep(\"metabolite\", ncol(f1_s)), rep(\"microbiota\", ncol(f2_s)), rep(\"cytokine\", ncol(f3_s)))"
   ]
  },
  {
   "cell_type": "code",
   "execution_count": 41,
   "metadata": {},
   "outputs": [],
   "source": [
    "group<-data.frame(features=colnames(df), measurement_types=mtypes)"
   ]
  },
  {
   "cell_type": "markdown",
   "metadata": {},
   "source": [
    "### correlation matrix for the co-occurrence network"
   ]
  },
  {
   "cell_type": "code",
   "execution_count": 42,
   "metadata": {},
   "outputs": [],
   "source": [
    "Corr_mat<-cor(df, method = \"spearman\")"
   ]
  },
  {
   "cell_type": "code",
   "execution_count": 43,
   "metadata": {},
   "outputs": [],
   "source": [
    "vectorize_dm<-function(dm, group=NULL, duplicate=TRUE)\n",
    "{\n",
    "        if(ncol(dm)!=nrow(dm) & any(is.na(dm))==TRUE)\n",
    "        stop('The distance matrix is not squared')\n",
    "        dm<-data.matrix(dm)\n",
    "        require(\"reshape2\")\n",
    "    if(!is.null(group)){\n",
    "        if( length(unique(group))==1)\n",
    "        stop('At least two levels for a given sample category in your metadata file are required.')\n",
    "        if( length(group)!=nrow(dm))\n",
    "        stop('The number of rows in metadata and distance matrix are not equal')\n",
    "        if(is.factor(group) & nlevels(group)>length(group)*0.9)\n",
    "        stop('The number of levels in a certain category can not exceed 90% of total number of samples')\n",
    "        \n",
    "        colnames(dm)<-rownames(dm)<-paste(rownames(dm), group, sep=\"____\")\n",
    "        if(duplicate){ \n",
    "        melt_dm<-subset(melt(dm), value!=0 & value!=1) \n",
    "        }else{ \n",
    "        dm[lower.tri(dm)]<-NA\n",
    "        melt_dm<-subset(melt(dm), ! is.na(value) & value!=0 & value!=1) \n",
    "        }\n",
    "        \n",
    "        Row_Info<-data.frame(do.call(rbind,strsplit(as.character(melt_dm[,1]),\"____\",fixed=TRUE)))\n",
    "        Col_Info<-data.frame(do.call(rbind,strsplit(as.character(melt_dm[,2]),\"____\",fixed=TRUE)))\n",
    "        VS<-paste(Row_Info[,2],\"_VS._\",Col_Info[,2],sep=\"\")\n",
    "        dm_value<-data.frame(VS,Row_Info,Col_Info,d=melt_dm$value)\n",
    "        \n",
    "        colnames(dm_value)<-c(\"GroupPair\",\"Sample_1\",\"Group_1\",\"Sample_2\",\"Group_2\",\"value\")\n",
    "        if(is.factor(group)){\n",
    "        DistType<-as.factor(dm_value$Group_1==dm_value$Group_2)\n",
    "        DistType<-factor(DistType,levels=levels(DistType),labels=c(\"AllBetween\",\"AllWithin\"))\n",
    "        dm_value<-data.frame(DistType,dm_value)}\n",
    "    }else{\n",
    "        if (duplicate) { \n",
    "        dm_value<-subset(melt(dm), value!=0 & value!=1)  \n",
    "        }else{ \n",
    "        dm[lower.tri(dm)] <- NA\n",
    "        dm_value <- subset(melt(dm), ! is.na(value) & value!=0 & value!=1)  }\n",
    "        colnames(dm_value)<-c(\"Sample_1\",\"Sample_2\",\"value\")\n",
    "        }\n",
    "   \n",
    "dm_value\n",
    "\n",
    "}"
   ]
  },
  {
   "cell_type": "code",
   "execution_count": 44,
   "metadata": {},
   "outputs": [],
   "source": [
    "Trim_v_corr_mat<-function(v_Corr_mat, Pos_Edge=TRUE, Neg_Edge=TRUE, Threshold=0.6){\n",
    "                 if (Pos_Edge & Neg_Edge){\n",
    "                               v_Corr_mat <- subset(v_Corr_mat, value > Threshold | value < (-Threshold))\n",
    "                           }else if (Pos_Edge){\n",
    "                               v_Corr_mat <- subset(v_Corr_mat, value > Threshold & value < 1)\n",
    "                           }else if (Neg_Edge){\n",
    "                               v_Corr_mat <- subset(v_Corr_mat, value > -1 & value < (-Threshold))\n",
    "                           }else stop('Please check the pos/neg edges parameters')\n",
    "                  v_Corr_mat \n",
    "                  }  "
   ]
  },
  {
   "cell_type": "code",
   "execution_count": 45,
   "metadata": {},
   "outputs": [
    {
     "data": {
      "text/html": [
       "<ol class=list-inline>\n",
       "\t<li>1196</li>\n",
       "\t<li>1196</li>\n",
       "</ol>\n"
      ],
      "text/latex": [
       "\\begin{enumerate*}\n",
       "\\item 1196\n",
       "\\item 1196\n",
       "\\end{enumerate*}\n"
      ],
      "text/markdown": [
       "1. 1196\n",
       "2. 1196\n",
       "\n",
       "\n"
      ],
      "text/plain": [
       "[1] 1196 1196"
      ]
     },
     "metadata": {},
     "output_type": "display_data"
    },
    {
     "data": {
      "text/html": [
       "<ol class=list-inline>\n",
       "\t<li>1196</li>\n",
       "\t<li>2</li>\n",
       "</ol>\n"
      ],
      "text/latex": [
       "\\begin{enumerate*}\n",
       "\\item 1196\n",
       "\\item 2\n",
       "\\end{enumerate*}\n"
      ],
      "text/markdown": [
       "1. 1196\n",
       "2. 2\n",
       "\n",
       "\n"
      ],
      "text/plain": [
       "[1] 1196    2"
      ]
     },
     "metadata": {},
     "output_type": "display_data"
    }
   ],
   "source": [
    "dim(Corr_mat)\n",
    "dim(group)"
   ]
  },
  {
   "cell_type": "code",
   "execution_count": 46,
   "metadata": {},
   "outputs": [
    {
     "data": {
      "text/html": [
       "<ol class=list-inline>\n",
       "\t<li>714607</li>\n",
       "\t<li>7</li>\n",
       "</ol>\n"
      ],
      "text/latex": [
       "\\begin{enumerate*}\n",
       "\\item 714607\n",
       "\\item 7\n",
       "\\end{enumerate*}\n"
      ],
      "text/markdown": [
       "1. 714607\n",
       "2. 7\n",
       "\n",
       "\n"
      ],
      "text/plain": [
       "[1] 714607      7"
      ]
     },
     "metadata": {},
     "output_type": "display_data"
    }
   ],
   "source": [
    "v_Corr_mat<-vectorize_dm(Corr_mat, group = group$measurement_types, duplicate=FALSE)\n",
    "dim(v_Corr_mat)"
   ]
  },
  {
   "cell_type": "code",
   "execution_count": 47,
   "metadata": {},
   "outputs": [
    {
     "data": {
      "text/html": [
       "<ol class=list-inline>\n",
       "\t<li>27942</li>\n",
       "\t<li>7</li>\n",
       "</ol>\n"
      ],
      "text/latex": [
       "\\begin{enumerate*}\n",
       "\\item 27942\n",
       "\\item 7\n",
       "\\end{enumerate*}\n"
      ],
      "text/markdown": [
       "1. 27942\n",
       "2. 7\n",
       "\n",
       "\n"
      ],
      "text/plain": [
       "[1] 27942     7"
      ]
     },
     "metadata": {},
     "output_type": "display_data"
    }
   ],
   "source": [
    "v_Corr_mat0.6<-Trim_v_corr_mat(v_Corr_mat, Threshold=0.6)\n",
    "dim(v_Corr_mat0.6)\n",
    "#sink(paste(outpath, \"v_Corr_mat_0.6.txt\", sep=\"\")); cat(\"\\t\"); \n",
    "#write.table(v_Corr_mat0.6, sep=\"\\t\", quote=FALSE, row.names = FALSE); sink(NULL)\n",
    "write.table(v_Corr_mat0.6, paste(outpath, \"v_Corr_mat_0.6.txt\", sep=\"\"), sep=\"\\t\", quote=FALSE, row.names = FALSE)"
   ]
  },
  {
   "cell_type": "code",
   "execution_count": 48,
   "metadata": {},
   "outputs": [
    {
     "data": {
      "text/html": [
       "<ol class=list-inline>\n",
       "\t<li>51</li>\n",
       "\t<li>7</li>\n",
       "</ol>\n"
      ],
      "text/latex": [
       "\\begin{enumerate*}\n",
       "\\item 51\n",
       "\\item 7\n",
       "\\end{enumerate*}\n"
      ],
      "text/markdown": [
       "1. 51\n",
       "2. 7\n",
       "\n",
       "\n"
      ],
      "text/plain": [
       "[1] 51  7"
      ]
     },
     "metadata": {},
     "output_type": "display_data"
    },
    {
     "data": {
      "text/html": [
       "<ol class=list-inline>\n",
       "\t<li>27726</li>\n",
       "\t<li>7</li>\n",
       "</ol>\n"
      ],
      "text/latex": [
       "\\begin{enumerate*}\n",
       "\\item 27726\n",
       "\\item 7\n",
       "\\end{enumerate*}\n"
      ],
      "text/markdown": [
       "1. 27726\n",
       "2. 7\n",
       "\n",
       "\n"
      ],
      "text/plain": [
       "[1] 27726     7"
      ]
     },
     "metadata": {},
     "output_type": "display_data"
    }
   ],
   "source": [
    "dim(v_Corr_mat0.6[which(v_Corr_mat0.6$GroupPair==\"metabolite_VS._microbiota\"), ])\n",
    "dim(v_Corr_mat0.6[which(v_Corr_mat0.6$GroupPair==\"metabolite_VS._metabolite\"), ])"
   ]
  },
  {
   "cell_type": "code",
   "execution_count": 49,
   "metadata": {},
   "outputs": [
    {
     "data": {
      "text/html": [
       "0.992269701524587"
      ],
      "text/latex": [
       "0.992269701524587"
      ],
      "text/markdown": [
       "0.992269701524587"
      ],
      "text/plain": [
       "[1] 0.9922697"
      ]
     },
     "metadata": {},
     "output_type": "display_data"
    }
   ],
   "source": [
    "27726/27942"
   ]
  },
  {
   "cell_type": "code",
   "execution_count": 50,
   "metadata": {},
   "outputs": [
    {
     "data": {
      "text/html": [
       "<table>\n",
       "<caption>A data.frame: 51 × 7</caption>\n",
       "<thead>\n",
       "\t<tr><th></th><th scope=col>DistType</th><th scope=col>GroupPair</th><th scope=col>Sample_1</th><th scope=col>Group_1</th><th scope=col>Sample_2</th><th scope=col>Group_2</th><th scope=col>value</th></tr>\n",
       "\t<tr><th></th><th scope=col>&lt;fct&gt;</th><th scope=col>&lt;fct&gt;</th><th scope=col>&lt;fct&gt;</th><th scope=col>&lt;fct&gt;</th><th scope=col>&lt;fct&gt;</th><th scope=col>&lt;fct&gt;</th><th scope=col>&lt;dbl&gt;</th></tr>\n",
       "</thead>\n",
       "<tbody>\n",
       "\t<tr><th scope=row>636779</th><td>AllBetween</td><td>metabolite_VS._microbiota</td><td>X.2.3.Diaminopropionic.acid_TSQ.            </td><td>metabolite</td><td>Bur_Lautropia.         </td><td>microbiota</td><td> 0.6282308</td></tr>\n",
       "\t<tr><th scope=row>636781</th><td>AllBetween</td><td>metabolite_VS._microbiota</td><td>X3.Hydroxycapric.acid_neg                   </td><td>metabolite</td><td>Bur_Lautropia.         </td><td>microbiota</td><td> 0.6282084</td></tr>\n",
       "\t<tr><th scope=row>636845</th><td>AllBetween</td><td>metabolite_VS._microbiota</td><td>X.2.3.dihydroxybenzoate_neg.                </td><td>metabolite</td><td>Bur_Lautropia.         </td><td>microbiota</td><td> 0.6908802</td></tr>\n",
       "\t<tr><th scope=row>644696</th><td>AllBetween</td><td>metabolite_VS._microbiota</td><td>X5..methylthioadenosine_neg                 </td><td>metabolite</td><td>Eub_Eubacterium.       </td><td>microbiota</td><td>-0.6323236</td></tr>\n",
       "\t<tr><th scope=row>652657</th><td>AllBetween</td><td>metabolite_VS._microbiota</td><td>Phenylacetic.acid_neg                       </td><td>metabolite</td><td>Mic_Rothia.            </td><td>microbiota</td><td> 0.6221681</td></tr>\n",
       "\t<tr><th scope=row>652658</th><td>AllBetween</td><td>metabolite_VS._microbiota</td><td>betaine_TSQ                                 </td><td>metabolite</td><td>Mic_Rothia.            </td><td>microbiota</td><td> 0.7024011</td></tr>\n",
       "\t<tr><th scope=row>652683</th><td>AllBetween</td><td>metabolite_VS._microbiota</td><td>Benzenebutanoic.acid_neg                    </td><td>metabolite</td><td>Mic_Rothia.            </td><td>microbiota</td><td> 0.6213466</td></tr>\n",
       "\t<tr><th scope=row>652707</th><td>AllBetween</td><td>metabolite_VS._microbiota</td><td>Leu.Gly_neg                                 </td><td>metabolite</td><td>Mic_Rothia.            </td><td>microbiota</td><td> 0.6770934</td></tr>\n",
       "\t<tr><th scope=row>652732</th><td>AllBetween</td><td>metabolite_VS._microbiota</td><td>Oxalureate_neg                              </td><td>metabolite</td><td>Mic_Rothia.            </td><td>microbiota</td><td> 0.6362090</td></tr>\n",
       "\t<tr><th scope=row>652738</th><td>AllBetween</td><td>metabolite_VS._microbiota</td><td>Tyrosol_neg                                 </td><td>metabolite</td><td>Mic_Rothia.            </td><td>microbiota</td><td> 0.6004765</td></tr>\n",
       "\t<tr><th scope=row>652747</th><td>AllBetween</td><td>metabolite_VS._microbiota</td><td>Azelaic.acid_neg                            </td><td>metabolite</td><td>Mic_Rothia.            </td><td>microbiota</td><td> 0.6062978</td></tr>\n",
       "\t<tr><th scope=row>652813</th><td>AllBetween</td><td>metabolite_VS._microbiota</td><td>X3.Methylphenylacetic.acid_neg              </td><td>metabolite</td><td>Mic_Rothia.            </td><td>microbiota</td><td>-0.6557047</td></tr>\n",
       "\t<tr><th scope=row>652816</th><td>AllBetween</td><td>metabolite_VS._microbiota</td><td>X4.Coumaryl.alcohol_neg                     </td><td>metabolite</td><td>Mic_Rothia.            </td><td>microbiota</td><td>-0.6477714</td></tr>\n",
       "\t<tr><th scope=row>652817</th><td>AllBetween</td><td>metabolite_VS._microbiota</td><td>X2.Phenylpropionate_neg                     </td><td>metabolite</td><td>Mic_Rothia.            </td><td>microbiota</td><td>-0.6457872</td></tr>\n",
       "\t<tr><th scope=row>652840</th><td>AllBetween</td><td>metabolite_VS._microbiota</td><td>X3.phenylpropionate..Hydrocinnamic.acid._neg</td><td>metabolite</td><td>Mic_Rothia.            </td><td>microbiota</td><td>-0.6374492</td></tr>\n",
       "\t<tr><th scope=row>652841</th><td>AllBetween</td><td>metabolite_VS._microbiota</td><td>Hydrocinnamic.acid_neg                      </td><td>metabolite</td><td>Mic_Rothia.            </td><td>microbiota</td><td>-0.6376086</td></tr>\n",
       "\t<tr><th scope=row>653153</th><td>AllBetween</td><td>metabolite_VS._microbiota</td><td>creatinine_neg                              </td><td>metabolite</td><td>Mic_Rothia.            </td><td>microbiota</td><td> 0.6032403</td></tr>\n",
       "\t<tr><th scope=row>653178</th><td>AllBetween</td><td>metabolite_VS._microbiota</td><td>Betaine_pos                                 </td><td>metabolite</td><td>Mic_Rothia.            </td><td>microbiota</td><td> 0.6190332</td></tr>\n",
       "\t<tr><th scope=row>661841</th><td>AllBetween</td><td>metabolite_VS._microbiota</td><td>X5..methylthioadenosine_neg                 </td><td>metabolite</td><td>Pep_Filifactor.        </td><td>microbiota</td><td>-0.7116888</td></tr>\n",
       "\t<tr><th scope=row>662001</th><td>AllBetween</td><td>metabolite_VS._microbiota</td><td>methacholine_TSQ                            </td><td>metabolite</td><td>Pep_Filifactor.        </td><td>microbiota</td><td> 0.6276869</td></tr>\n",
       "\t<tr><th scope=row>662851</th><td>AllBetween</td><td>metabolite_VS._microbiota</td><td>p.Cresol.sulfate_neg                        </td><td>metabolite</td><td>Pep_Filifactor.        </td><td>microbiota</td><td> 0.6310014</td></tr>\n",
       "\t<tr><th scope=row>664133</th><td>AllBetween</td><td>metabolite_VS._microbiota</td><td>betaine_TSQ                                 </td><td>metabolite</td><td>Pep_Peptostreptococcus.</td><td>microbiota</td><td>-0.6143409</td></tr>\n",
       "\t<tr><th scope=row>664291</th><td>AllBetween</td><td>metabolite_VS._microbiota</td><td>X4.Coumaryl.alcohol_neg                     </td><td>metabolite</td><td>Pep_Peptostreptococcus.</td><td>microbiota</td><td> 0.6041811</td></tr>\n",
       "\t<tr><th scope=row>664292</th><td>AllBetween</td><td>metabolite_VS._microbiota</td><td>X2.Phenylpropionate_neg                     </td><td>metabolite</td><td>Pep_Peptostreptococcus.</td><td>microbiota</td><td> 0.6033305</td></tr>\n",
       "\t<tr><th scope=row>664304</th><td>AllBetween</td><td>metabolite_VS._microbiota</td><td>methacholine_TSQ                            </td><td>metabolite</td><td>Pep_Peptostreptococcus.</td><td>microbiota</td><td> 0.6282815</td></tr>\n",
       "\t<tr><th scope=row>667595</th><td>AllBetween</td><td>metabolite_VS._microbiota</td><td>betaine_TSQ                                 </td><td>metabolite</td><td>Pre_Prevotella.        </td><td>microbiota</td><td>-0.6998615</td></tr>\n",
       "\t<tr><th scope=row>667679</th><td>AllBetween</td><td>metabolite_VS._microbiota</td><td>X.2.3.dihydroxybenzoate_neg.                </td><td>metabolite</td><td>Pre_Prevotella.        </td><td>microbiota</td><td>-0.6326786</td></tr>\n",
       "\t<tr><th scope=row>667750</th><td>AllBetween</td><td>metabolite_VS._microbiota</td><td>X3.Methylphenylacetic.acid_neg              </td><td>metabolite</td><td>Pre_Prevotella.        </td><td>microbiota</td><td> 0.6522432</td></tr>\n",
       "\t<tr><th scope=row>667753</th><td>AllBetween</td><td>metabolite_VS._microbiota</td><td>X4.Coumaryl.alcohol_neg                     </td><td>metabolite</td><td>Pre_Prevotella.        </td><td>microbiota</td><td> 0.6442167</td></tr>\n",
       "\t<tr><th scope=row>667754</th><td>AllBetween</td><td>metabolite_VS._microbiota</td><td>X2.Phenylpropionate_neg                     </td><td>metabolite</td><td>Pre_Prevotella.        </td><td>microbiota</td><td> 0.6444237</td></tr>\n",
       "\t<tr><th scope=row>667766</th><td>AllBetween</td><td>metabolite_VS._microbiota</td><td>methacholine_TSQ                            </td><td>metabolite</td><td>Pre_Prevotella.        </td><td>microbiota</td><td> 0.6288406</td></tr>\n",
       "\t<tr><th scope=row>667777</th><td>AllBetween</td><td>metabolite_VS._microbiota</td><td>X3.phenylpropionate..Hydrocinnamic.acid._neg</td><td>metabolite</td><td>Pre_Prevotella.        </td><td>microbiota</td><td> 0.6129070</td></tr>\n",
       "\t<tr><th scope=row>667778</th><td>AllBetween</td><td>metabolite_VS._microbiota</td><td>Hydrocinnamic.acid_neg                      </td><td>metabolite</td><td>Pre_Prevotella.        </td><td>microbiota</td><td> 0.6129163</td></tr>\n",
       "\t<tr><th scope=row>669905</th><td>AllBetween</td><td>metabolite_VS._microbiota</td><td>Acetylphosphate._neg                        </td><td>metabolite</td><td>Spi_Treponema.         </td><td>microbiota</td><td>-0.6197978</td></tr>\n",
       "\t<tr><th scope=row>669908</th><td>AllBetween</td><td>metabolite_VS._microbiota</td><td>betaine_TSQ                                 </td><td>metabolite</td><td>Spi_Treponema.         </td><td>microbiota</td><td>-0.6224451</td></tr>\n",
       "\t<tr><th scope=row>669919</th><td>AllBetween</td><td>metabolite_VS._microbiota</td><td>X5..methylthioadenosine_neg                 </td><td>metabolite</td><td>Spi_Treponema.         </td><td>microbiota</td><td>-0.6591949</td></tr>\n",
       "\t<tr><th scope=row>669928</th><td>AllBetween</td><td>metabolite_VS._microbiota</td><td>X3.Hydroxycapric.acid_neg                   </td><td>metabolite</td><td>Spi_Treponema.         </td><td>microbiota</td><td>-0.6251361</td></tr>\n",
       "\t<tr><th scope=row>669992</th><td>AllBetween</td><td>metabolite_VS._microbiota</td><td>X.2.3.dihydroxybenzoate_neg.                </td><td>metabolite</td><td>Spi_Treponema.         </td><td>microbiota</td><td>-0.6214278</td></tr>\n",
       "\t<tr><th scope=row>670063</th><td>AllBetween</td><td>metabolite_VS._microbiota</td><td>X3.Methylphenylacetic.acid_neg              </td><td>metabolite</td><td>Spi_Treponema.         </td><td>microbiota</td><td> 0.6138945</td></tr>\n",
       "\t<tr><th scope=row>670066</th><td>AllBetween</td><td>metabolite_VS._microbiota</td><td>X4.Coumaryl.alcohol_neg                     </td><td>metabolite</td><td>Spi_Treponema.         </td><td>microbiota</td><td> 0.6071202</td></tr>\n",
       "\t<tr><th scope=row>670067</th><td>AllBetween</td><td>metabolite_VS._microbiota</td><td>X2.Phenylpropionate_neg                     </td><td>metabolite</td><td>Spi_Treponema.         </td><td>microbiota</td><td> 0.6068806</td></tr>\n",
       "\t<tr><th scope=row>670079</th><td>AllBetween</td><td>metabolite_VS._microbiota</td><td>methacholine_TSQ                            </td><td>metabolite</td><td>Spi_Treponema.         </td><td>microbiota</td><td> 0.6955447</td></tr>\n",
       "\t<tr><th scope=row>670929</th><td>AllBetween</td><td>metabolite_VS._microbiota</td><td>p.Cresol.sulfate_neg                        </td><td>metabolite</td><td>Spi_Treponema.         </td><td>microbiota</td><td> 0.6256547</td></tr>\n",
       "\t<tr><th scope=row>674557</th><td>AllBetween</td><td>metabolite_VS._microbiota</td><td>X5..methylthioadenosine_neg                 </td><td>metabolite</td><td>Syn_Synergistes.       </td><td>microbiota</td><td>-0.6934933</td></tr>\n",
       "\t<tr><th scope=row>674717</th><td>AllBetween</td><td>metabolite_VS._microbiota</td><td>methacholine_TSQ                            </td><td>metabolite</td><td>Syn_Synergistes.       </td><td>microbiota</td><td> 0.6443813</td></tr>\n",
       "\t<tr><th scope=row>675567</th><td>AllBetween</td><td>metabolite_VS._microbiota</td><td>p.Cresol.sulfate_neg                        </td><td>metabolite</td><td>Syn_Synergistes.       </td><td>microbiota</td><td> 0.6123233</td></tr>\n",
       "\t<tr><th scope=row>677042</th><td>AllBetween</td><td>metabolite_VS._microbiota</td><td>methacholine_TSQ                            </td><td>metabolite</td><td>Vei_Dialister.         </td><td>microbiota</td><td> 0.6256170</td></tr>\n",
       "\t<tr><th scope=row>679284</th><td>AllBetween</td><td>metabolite_VS._microbiota</td><td>X.2.3.dihydroxybenzoate_neg.                </td><td>metabolite</td><td>Vei_Selenomonas.       </td><td>microbiota</td><td>-0.6097220</td></tr>\n",
       "\t<tr><th scope=row>681553</th><td>AllBetween</td><td>metabolite_VS._microbiota</td><td>X3.Hydroxycapric.acid_neg                   </td><td>metabolite</td><td>Vei_Veillonellaceae.   </td><td>microbiota</td><td>-0.6706059</td></tr>\n",
       "\t<tr><th scope=row>681617</th><td>AllBetween</td><td>metabolite_VS._microbiota</td><td>X.2.3.dihydroxybenzoate_neg.                </td><td>metabolite</td><td>Vei_Veillonellaceae.   </td><td>microbiota</td><td>-0.6237178</td></tr>\n",
       "\t<tr><th scope=row>681704</th><td>AllBetween</td><td>metabolite_VS._microbiota</td><td>methacholine_TSQ                            </td><td>metabolite</td><td>Vei_Veillonellaceae.   </td><td>microbiota</td><td> 0.6082541</td></tr>\n",
       "</tbody>\n",
       "</table>\n"
      ],
      "text/latex": [
       "A data.frame: 51 × 7\n",
       "\\begin{tabular}{r|lllllll}\n",
       "  & DistType & GroupPair & Sample\\_1 & Group\\_1 & Sample\\_2 & Group\\_2 & value\\\\\n",
       "  & <fct> & <fct> & <fct> & <fct> & <fct> & <fct> & <dbl>\\\\\n",
       "\\hline\n",
       "\t636779 & AllBetween & metabolite\\_VS.\\_microbiota & X.2.3.Diaminopropionic.acid\\_TSQ.             & metabolite & Bur\\_Lautropia.          & microbiota &  0.6282308\\\\\n",
       "\t636781 & AllBetween & metabolite\\_VS.\\_microbiota & X3.Hydroxycapric.acid\\_neg                    & metabolite & Bur\\_Lautropia.          & microbiota &  0.6282084\\\\\n",
       "\t636845 & AllBetween & metabolite\\_VS.\\_microbiota & X.2.3.dihydroxybenzoate\\_neg.                 & metabolite & Bur\\_Lautropia.          & microbiota &  0.6908802\\\\\n",
       "\t644696 & AllBetween & metabolite\\_VS.\\_microbiota & X5..methylthioadenosine\\_neg                  & metabolite & Eub\\_Eubacterium.        & microbiota & -0.6323236\\\\\n",
       "\t652657 & AllBetween & metabolite\\_VS.\\_microbiota & Phenylacetic.acid\\_neg                        & metabolite & Mic\\_Rothia.             & microbiota &  0.6221681\\\\\n",
       "\t652658 & AllBetween & metabolite\\_VS.\\_microbiota & betaine\\_TSQ                                  & metabolite & Mic\\_Rothia.             & microbiota &  0.7024011\\\\\n",
       "\t652683 & AllBetween & metabolite\\_VS.\\_microbiota & Benzenebutanoic.acid\\_neg                     & metabolite & Mic\\_Rothia.             & microbiota &  0.6213466\\\\\n",
       "\t652707 & AllBetween & metabolite\\_VS.\\_microbiota & Leu.Gly\\_neg                                  & metabolite & Mic\\_Rothia.             & microbiota &  0.6770934\\\\\n",
       "\t652732 & AllBetween & metabolite\\_VS.\\_microbiota & Oxalureate\\_neg                               & metabolite & Mic\\_Rothia.             & microbiota &  0.6362090\\\\\n",
       "\t652738 & AllBetween & metabolite\\_VS.\\_microbiota & Tyrosol\\_neg                                  & metabolite & Mic\\_Rothia.             & microbiota &  0.6004765\\\\\n",
       "\t652747 & AllBetween & metabolite\\_VS.\\_microbiota & Azelaic.acid\\_neg                             & metabolite & Mic\\_Rothia.             & microbiota &  0.6062978\\\\\n",
       "\t652813 & AllBetween & metabolite\\_VS.\\_microbiota & X3.Methylphenylacetic.acid\\_neg               & metabolite & Mic\\_Rothia.             & microbiota & -0.6557047\\\\\n",
       "\t652816 & AllBetween & metabolite\\_VS.\\_microbiota & X4.Coumaryl.alcohol\\_neg                      & metabolite & Mic\\_Rothia.             & microbiota & -0.6477714\\\\\n",
       "\t652817 & AllBetween & metabolite\\_VS.\\_microbiota & X2.Phenylpropionate\\_neg                      & metabolite & Mic\\_Rothia.             & microbiota & -0.6457872\\\\\n",
       "\t652840 & AllBetween & metabolite\\_VS.\\_microbiota & X3.phenylpropionate..Hydrocinnamic.acid.\\_neg & metabolite & Mic\\_Rothia.             & microbiota & -0.6374492\\\\\n",
       "\t652841 & AllBetween & metabolite\\_VS.\\_microbiota & Hydrocinnamic.acid\\_neg                       & metabolite & Mic\\_Rothia.             & microbiota & -0.6376086\\\\\n",
       "\t653153 & AllBetween & metabolite\\_VS.\\_microbiota & creatinine\\_neg                               & metabolite & Mic\\_Rothia.             & microbiota &  0.6032403\\\\\n",
       "\t653178 & AllBetween & metabolite\\_VS.\\_microbiota & Betaine\\_pos                                  & metabolite & Mic\\_Rothia.             & microbiota &  0.6190332\\\\\n",
       "\t661841 & AllBetween & metabolite\\_VS.\\_microbiota & X5..methylthioadenosine\\_neg                  & metabolite & Pep\\_Filifactor.         & microbiota & -0.7116888\\\\\n",
       "\t662001 & AllBetween & metabolite\\_VS.\\_microbiota & methacholine\\_TSQ                             & metabolite & Pep\\_Filifactor.         & microbiota &  0.6276869\\\\\n",
       "\t662851 & AllBetween & metabolite\\_VS.\\_microbiota & p.Cresol.sulfate\\_neg                         & metabolite & Pep\\_Filifactor.         & microbiota &  0.6310014\\\\\n",
       "\t664133 & AllBetween & metabolite\\_VS.\\_microbiota & betaine\\_TSQ                                  & metabolite & Pep\\_Peptostreptococcus. & microbiota & -0.6143409\\\\\n",
       "\t664291 & AllBetween & metabolite\\_VS.\\_microbiota & X4.Coumaryl.alcohol\\_neg                      & metabolite & Pep\\_Peptostreptococcus. & microbiota &  0.6041811\\\\\n",
       "\t664292 & AllBetween & metabolite\\_VS.\\_microbiota & X2.Phenylpropionate\\_neg                      & metabolite & Pep\\_Peptostreptococcus. & microbiota &  0.6033305\\\\\n",
       "\t664304 & AllBetween & metabolite\\_VS.\\_microbiota & methacholine\\_TSQ                             & metabolite & Pep\\_Peptostreptococcus. & microbiota &  0.6282815\\\\\n",
       "\t667595 & AllBetween & metabolite\\_VS.\\_microbiota & betaine\\_TSQ                                  & metabolite & Pre\\_Prevotella.         & microbiota & -0.6998615\\\\\n",
       "\t667679 & AllBetween & metabolite\\_VS.\\_microbiota & X.2.3.dihydroxybenzoate\\_neg.                 & metabolite & Pre\\_Prevotella.         & microbiota & -0.6326786\\\\\n",
       "\t667750 & AllBetween & metabolite\\_VS.\\_microbiota & X3.Methylphenylacetic.acid\\_neg               & metabolite & Pre\\_Prevotella.         & microbiota &  0.6522432\\\\\n",
       "\t667753 & AllBetween & metabolite\\_VS.\\_microbiota & X4.Coumaryl.alcohol\\_neg                      & metabolite & Pre\\_Prevotella.         & microbiota &  0.6442167\\\\\n",
       "\t667754 & AllBetween & metabolite\\_VS.\\_microbiota & X2.Phenylpropionate\\_neg                      & metabolite & Pre\\_Prevotella.         & microbiota &  0.6444237\\\\\n",
       "\t667766 & AllBetween & metabolite\\_VS.\\_microbiota & methacholine\\_TSQ                             & metabolite & Pre\\_Prevotella.         & microbiota &  0.6288406\\\\\n",
       "\t667777 & AllBetween & metabolite\\_VS.\\_microbiota & X3.phenylpropionate..Hydrocinnamic.acid.\\_neg & metabolite & Pre\\_Prevotella.         & microbiota &  0.6129070\\\\\n",
       "\t667778 & AllBetween & metabolite\\_VS.\\_microbiota & Hydrocinnamic.acid\\_neg                       & metabolite & Pre\\_Prevotella.         & microbiota &  0.6129163\\\\\n",
       "\t669905 & AllBetween & metabolite\\_VS.\\_microbiota & Acetylphosphate.\\_neg                         & metabolite & Spi\\_Treponema.          & microbiota & -0.6197978\\\\\n",
       "\t669908 & AllBetween & metabolite\\_VS.\\_microbiota & betaine\\_TSQ                                  & metabolite & Spi\\_Treponema.          & microbiota & -0.6224451\\\\\n",
       "\t669919 & AllBetween & metabolite\\_VS.\\_microbiota & X5..methylthioadenosine\\_neg                  & metabolite & Spi\\_Treponema.          & microbiota & -0.6591949\\\\\n",
       "\t669928 & AllBetween & metabolite\\_VS.\\_microbiota & X3.Hydroxycapric.acid\\_neg                    & metabolite & Spi\\_Treponema.          & microbiota & -0.6251361\\\\\n",
       "\t669992 & AllBetween & metabolite\\_VS.\\_microbiota & X.2.3.dihydroxybenzoate\\_neg.                 & metabolite & Spi\\_Treponema.          & microbiota & -0.6214278\\\\\n",
       "\t670063 & AllBetween & metabolite\\_VS.\\_microbiota & X3.Methylphenylacetic.acid\\_neg               & metabolite & Spi\\_Treponema.          & microbiota &  0.6138945\\\\\n",
       "\t670066 & AllBetween & metabolite\\_VS.\\_microbiota & X4.Coumaryl.alcohol\\_neg                      & metabolite & Spi\\_Treponema.          & microbiota &  0.6071202\\\\\n",
       "\t670067 & AllBetween & metabolite\\_VS.\\_microbiota & X2.Phenylpropionate\\_neg                      & metabolite & Spi\\_Treponema.          & microbiota &  0.6068806\\\\\n",
       "\t670079 & AllBetween & metabolite\\_VS.\\_microbiota & methacholine\\_TSQ                             & metabolite & Spi\\_Treponema.          & microbiota &  0.6955447\\\\\n",
       "\t670929 & AllBetween & metabolite\\_VS.\\_microbiota & p.Cresol.sulfate\\_neg                         & metabolite & Spi\\_Treponema.          & microbiota &  0.6256547\\\\\n",
       "\t674557 & AllBetween & metabolite\\_VS.\\_microbiota & X5..methylthioadenosine\\_neg                  & metabolite & Syn\\_Synergistes.        & microbiota & -0.6934933\\\\\n",
       "\t674717 & AllBetween & metabolite\\_VS.\\_microbiota & methacholine\\_TSQ                             & metabolite & Syn\\_Synergistes.        & microbiota &  0.6443813\\\\\n",
       "\t675567 & AllBetween & metabolite\\_VS.\\_microbiota & p.Cresol.sulfate\\_neg                         & metabolite & Syn\\_Synergistes.        & microbiota &  0.6123233\\\\\n",
       "\t677042 & AllBetween & metabolite\\_VS.\\_microbiota & methacholine\\_TSQ                             & metabolite & Vei\\_Dialister.          & microbiota &  0.6256170\\\\\n",
       "\t679284 & AllBetween & metabolite\\_VS.\\_microbiota & X.2.3.dihydroxybenzoate\\_neg.                 & metabolite & Vei\\_Selenomonas.        & microbiota & -0.6097220\\\\\n",
       "\t681553 & AllBetween & metabolite\\_VS.\\_microbiota & X3.Hydroxycapric.acid\\_neg                    & metabolite & Vei\\_Veillonellaceae.    & microbiota & -0.6706059\\\\\n",
       "\t681617 & AllBetween & metabolite\\_VS.\\_microbiota & X.2.3.dihydroxybenzoate\\_neg.                 & metabolite & Vei\\_Veillonellaceae.    & microbiota & -0.6237178\\\\\n",
       "\t681704 & AllBetween & metabolite\\_VS.\\_microbiota & methacholine\\_TSQ                             & metabolite & Vei\\_Veillonellaceae.    & microbiota &  0.6082541\\\\\n",
       "\\end{tabular}\n"
      ],
      "text/markdown": [
       "\n",
       "A data.frame: 51 × 7\n",
       "\n",
       "| <!--/--> | DistType &lt;fct&gt; | GroupPair &lt;fct&gt; | Sample_1 &lt;fct&gt; | Group_1 &lt;fct&gt; | Sample_2 &lt;fct&gt; | Group_2 &lt;fct&gt; | value &lt;dbl&gt; |\n",
       "|---|---|---|---|---|---|---|---|\n",
       "| 636779 | AllBetween | metabolite_VS._microbiota | X.2.3.Diaminopropionic.acid_TSQ.             | metabolite | Bur_Lautropia.          | microbiota |  0.6282308 |\n",
       "| 636781 | AllBetween | metabolite_VS._microbiota | X3.Hydroxycapric.acid_neg                    | metabolite | Bur_Lautropia.          | microbiota |  0.6282084 |\n",
       "| 636845 | AllBetween | metabolite_VS._microbiota | X.2.3.dihydroxybenzoate_neg.                 | metabolite | Bur_Lautropia.          | microbiota |  0.6908802 |\n",
       "| 644696 | AllBetween | metabolite_VS._microbiota | X5..methylthioadenosine_neg                  | metabolite | Eub_Eubacterium.        | microbiota | -0.6323236 |\n",
       "| 652657 | AllBetween | metabolite_VS._microbiota | Phenylacetic.acid_neg                        | metabolite | Mic_Rothia.             | microbiota |  0.6221681 |\n",
       "| 652658 | AllBetween | metabolite_VS._microbiota | betaine_TSQ                                  | metabolite | Mic_Rothia.             | microbiota |  0.7024011 |\n",
       "| 652683 | AllBetween | metabolite_VS._microbiota | Benzenebutanoic.acid_neg                     | metabolite | Mic_Rothia.             | microbiota |  0.6213466 |\n",
       "| 652707 | AllBetween | metabolite_VS._microbiota | Leu.Gly_neg                                  | metabolite | Mic_Rothia.             | microbiota |  0.6770934 |\n",
       "| 652732 | AllBetween | metabolite_VS._microbiota | Oxalureate_neg                               | metabolite | Mic_Rothia.             | microbiota |  0.6362090 |\n",
       "| 652738 | AllBetween | metabolite_VS._microbiota | Tyrosol_neg                                  | metabolite | Mic_Rothia.             | microbiota |  0.6004765 |\n",
       "| 652747 | AllBetween | metabolite_VS._microbiota | Azelaic.acid_neg                             | metabolite | Mic_Rothia.             | microbiota |  0.6062978 |\n",
       "| 652813 | AllBetween | metabolite_VS._microbiota | X3.Methylphenylacetic.acid_neg               | metabolite | Mic_Rothia.             | microbiota | -0.6557047 |\n",
       "| 652816 | AllBetween | metabolite_VS._microbiota | X4.Coumaryl.alcohol_neg                      | metabolite | Mic_Rothia.             | microbiota | -0.6477714 |\n",
       "| 652817 | AllBetween | metabolite_VS._microbiota | X2.Phenylpropionate_neg                      | metabolite | Mic_Rothia.             | microbiota | -0.6457872 |\n",
       "| 652840 | AllBetween | metabolite_VS._microbiota | X3.phenylpropionate..Hydrocinnamic.acid._neg | metabolite | Mic_Rothia.             | microbiota | -0.6374492 |\n",
       "| 652841 | AllBetween | metabolite_VS._microbiota | Hydrocinnamic.acid_neg                       | metabolite | Mic_Rothia.             | microbiota | -0.6376086 |\n",
       "| 653153 | AllBetween | metabolite_VS._microbiota | creatinine_neg                               | metabolite | Mic_Rothia.             | microbiota |  0.6032403 |\n",
       "| 653178 | AllBetween | metabolite_VS._microbiota | Betaine_pos                                  | metabolite | Mic_Rothia.             | microbiota |  0.6190332 |\n",
       "| 661841 | AllBetween | metabolite_VS._microbiota | X5..methylthioadenosine_neg                  | metabolite | Pep_Filifactor.         | microbiota | -0.7116888 |\n",
       "| 662001 | AllBetween | metabolite_VS._microbiota | methacholine_TSQ                             | metabolite | Pep_Filifactor.         | microbiota |  0.6276869 |\n",
       "| 662851 | AllBetween | metabolite_VS._microbiota | p.Cresol.sulfate_neg                         | metabolite | Pep_Filifactor.         | microbiota |  0.6310014 |\n",
       "| 664133 | AllBetween | metabolite_VS._microbiota | betaine_TSQ                                  | metabolite | Pep_Peptostreptococcus. | microbiota | -0.6143409 |\n",
       "| 664291 | AllBetween | metabolite_VS._microbiota | X4.Coumaryl.alcohol_neg                      | metabolite | Pep_Peptostreptococcus. | microbiota |  0.6041811 |\n",
       "| 664292 | AllBetween | metabolite_VS._microbiota | X2.Phenylpropionate_neg                      | metabolite | Pep_Peptostreptococcus. | microbiota |  0.6033305 |\n",
       "| 664304 | AllBetween | metabolite_VS._microbiota | methacholine_TSQ                             | metabolite | Pep_Peptostreptococcus. | microbiota |  0.6282815 |\n",
       "| 667595 | AllBetween | metabolite_VS._microbiota | betaine_TSQ                                  | metabolite | Pre_Prevotella.         | microbiota | -0.6998615 |\n",
       "| 667679 | AllBetween | metabolite_VS._microbiota | X.2.3.dihydroxybenzoate_neg.                 | metabolite | Pre_Prevotella.         | microbiota | -0.6326786 |\n",
       "| 667750 | AllBetween | metabolite_VS._microbiota | X3.Methylphenylacetic.acid_neg               | metabolite | Pre_Prevotella.         | microbiota |  0.6522432 |\n",
       "| 667753 | AllBetween | metabolite_VS._microbiota | X4.Coumaryl.alcohol_neg                      | metabolite | Pre_Prevotella.         | microbiota |  0.6442167 |\n",
       "| 667754 | AllBetween | metabolite_VS._microbiota | X2.Phenylpropionate_neg                      | metabolite | Pre_Prevotella.         | microbiota |  0.6444237 |\n",
       "| 667766 | AllBetween | metabolite_VS._microbiota | methacholine_TSQ                             | metabolite | Pre_Prevotella.         | microbiota |  0.6288406 |\n",
       "| 667777 | AllBetween | metabolite_VS._microbiota | X3.phenylpropionate..Hydrocinnamic.acid._neg | metabolite | Pre_Prevotella.         | microbiota |  0.6129070 |\n",
       "| 667778 | AllBetween | metabolite_VS._microbiota | Hydrocinnamic.acid_neg                       | metabolite | Pre_Prevotella.         | microbiota |  0.6129163 |\n",
       "| 669905 | AllBetween | metabolite_VS._microbiota | Acetylphosphate._neg                         | metabolite | Spi_Treponema.          | microbiota | -0.6197978 |\n",
       "| 669908 | AllBetween | metabolite_VS._microbiota | betaine_TSQ                                  | metabolite | Spi_Treponema.          | microbiota | -0.6224451 |\n",
       "| 669919 | AllBetween | metabolite_VS._microbiota | X5..methylthioadenosine_neg                  | metabolite | Spi_Treponema.          | microbiota | -0.6591949 |\n",
       "| 669928 | AllBetween | metabolite_VS._microbiota | X3.Hydroxycapric.acid_neg                    | metabolite | Spi_Treponema.          | microbiota | -0.6251361 |\n",
       "| 669992 | AllBetween | metabolite_VS._microbiota | X.2.3.dihydroxybenzoate_neg.                 | metabolite | Spi_Treponema.          | microbiota | -0.6214278 |\n",
       "| 670063 | AllBetween | metabolite_VS._microbiota | X3.Methylphenylacetic.acid_neg               | metabolite | Spi_Treponema.          | microbiota |  0.6138945 |\n",
       "| 670066 | AllBetween | metabolite_VS._microbiota | X4.Coumaryl.alcohol_neg                      | metabolite | Spi_Treponema.          | microbiota |  0.6071202 |\n",
       "| 670067 | AllBetween | metabolite_VS._microbiota | X2.Phenylpropionate_neg                      | metabolite | Spi_Treponema.          | microbiota |  0.6068806 |\n",
       "| 670079 | AllBetween | metabolite_VS._microbiota | methacholine_TSQ                             | metabolite | Spi_Treponema.          | microbiota |  0.6955447 |\n",
       "| 670929 | AllBetween | metabolite_VS._microbiota | p.Cresol.sulfate_neg                         | metabolite | Spi_Treponema.          | microbiota |  0.6256547 |\n",
       "| 674557 | AllBetween | metabolite_VS._microbiota | X5..methylthioadenosine_neg                  | metabolite | Syn_Synergistes.        | microbiota | -0.6934933 |\n",
       "| 674717 | AllBetween | metabolite_VS._microbiota | methacholine_TSQ                             | metabolite | Syn_Synergistes.        | microbiota |  0.6443813 |\n",
       "| 675567 | AllBetween | metabolite_VS._microbiota | p.Cresol.sulfate_neg                         | metabolite | Syn_Synergistes.        | microbiota |  0.6123233 |\n",
       "| 677042 | AllBetween | metabolite_VS._microbiota | methacholine_TSQ                             | metabolite | Vei_Dialister.          | microbiota |  0.6256170 |\n",
       "| 679284 | AllBetween | metabolite_VS._microbiota | X.2.3.dihydroxybenzoate_neg.                 | metabolite | Vei_Selenomonas.        | microbiota | -0.6097220 |\n",
       "| 681553 | AllBetween | metabolite_VS._microbiota | X3.Hydroxycapric.acid_neg                    | metabolite | Vei_Veillonellaceae.    | microbiota | -0.6706059 |\n",
       "| 681617 | AllBetween | metabolite_VS._microbiota | X.2.3.dihydroxybenzoate_neg.                 | metabolite | Vei_Veillonellaceae.    | microbiota | -0.6237178 |\n",
       "| 681704 | AllBetween | metabolite_VS._microbiota | methacholine_TSQ                             | metabolite | Vei_Veillonellaceae.    | microbiota |  0.6082541 |\n",
       "\n"
      ],
      "text/plain": [
       "       DistType   GroupPair                \n",
       "636779 AllBetween metabolite_VS._microbiota\n",
       "636781 AllBetween metabolite_VS._microbiota\n",
       "636845 AllBetween metabolite_VS._microbiota\n",
       "644696 AllBetween metabolite_VS._microbiota\n",
       "652657 AllBetween metabolite_VS._microbiota\n",
       "652658 AllBetween metabolite_VS._microbiota\n",
       "652683 AllBetween metabolite_VS._microbiota\n",
       "652707 AllBetween metabolite_VS._microbiota\n",
       "652732 AllBetween metabolite_VS._microbiota\n",
       "652738 AllBetween metabolite_VS._microbiota\n",
       "652747 AllBetween metabolite_VS._microbiota\n",
       "652813 AllBetween metabolite_VS._microbiota\n",
       "652816 AllBetween metabolite_VS._microbiota\n",
       "652817 AllBetween metabolite_VS._microbiota\n",
       "652840 AllBetween metabolite_VS._microbiota\n",
       "652841 AllBetween metabolite_VS._microbiota\n",
       "653153 AllBetween metabolite_VS._microbiota\n",
       "653178 AllBetween metabolite_VS._microbiota\n",
       "661841 AllBetween metabolite_VS._microbiota\n",
       "662001 AllBetween metabolite_VS._microbiota\n",
       "662851 AllBetween metabolite_VS._microbiota\n",
       "664133 AllBetween metabolite_VS._microbiota\n",
       "664291 AllBetween metabolite_VS._microbiota\n",
       "664292 AllBetween metabolite_VS._microbiota\n",
       "664304 AllBetween metabolite_VS._microbiota\n",
       "667595 AllBetween metabolite_VS._microbiota\n",
       "667679 AllBetween metabolite_VS._microbiota\n",
       "667750 AllBetween metabolite_VS._microbiota\n",
       "667753 AllBetween metabolite_VS._microbiota\n",
       "667754 AllBetween metabolite_VS._microbiota\n",
       "667766 AllBetween metabolite_VS._microbiota\n",
       "667777 AllBetween metabolite_VS._microbiota\n",
       "667778 AllBetween metabolite_VS._microbiota\n",
       "669905 AllBetween metabolite_VS._microbiota\n",
       "669908 AllBetween metabolite_VS._microbiota\n",
       "669919 AllBetween metabolite_VS._microbiota\n",
       "669928 AllBetween metabolite_VS._microbiota\n",
       "669992 AllBetween metabolite_VS._microbiota\n",
       "670063 AllBetween metabolite_VS._microbiota\n",
       "670066 AllBetween metabolite_VS._microbiota\n",
       "670067 AllBetween metabolite_VS._microbiota\n",
       "670079 AllBetween metabolite_VS._microbiota\n",
       "670929 AllBetween metabolite_VS._microbiota\n",
       "674557 AllBetween metabolite_VS._microbiota\n",
       "674717 AllBetween metabolite_VS._microbiota\n",
       "675567 AllBetween metabolite_VS._microbiota\n",
       "677042 AllBetween metabolite_VS._microbiota\n",
       "679284 AllBetween metabolite_VS._microbiota\n",
       "681553 AllBetween metabolite_VS._microbiota\n",
       "681617 AllBetween metabolite_VS._microbiota\n",
       "681704 AllBetween metabolite_VS._microbiota\n",
       "       Sample_1                                     Group_1   \n",
       "636779 X.2.3.Diaminopropionic.acid_TSQ.             metabolite\n",
       "636781 X3.Hydroxycapric.acid_neg                    metabolite\n",
       "636845 X.2.3.dihydroxybenzoate_neg.                 metabolite\n",
       "644696 X5..methylthioadenosine_neg                  metabolite\n",
       "652657 Phenylacetic.acid_neg                        metabolite\n",
       "652658 betaine_TSQ                                  metabolite\n",
       "652683 Benzenebutanoic.acid_neg                     metabolite\n",
       "652707 Leu.Gly_neg                                  metabolite\n",
       "652732 Oxalureate_neg                               metabolite\n",
       "652738 Tyrosol_neg                                  metabolite\n",
       "652747 Azelaic.acid_neg                             metabolite\n",
       "652813 X3.Methylphenylacetic.acid_neg               metabolite\n",
       "652816 X4.Coumaryl.alcohol_neg                      metabolite\n",
       "652817 X2.Phenylpropionate_neg                      metabolite\n",
       "652840 X3.phenylpropionate..Hydrocinnamic.acid._neg metabolite\n",
       "652841 Hydrocinnamic.acid_neg                       metabolite\n",
       "653153 creatinine_neg                               metabolite\n",
       "653178 Betaine_pos                                  metabolite\n",
       "661841 X5..methylthioadenosine_neg                  metabolite\n",
       "662001 methacholine_TSQ                             metabolite\n",
       "662851 p.Cresol.sulfate_neg                         metabolite\n",
       "664133 betaine_TSQ                                  metabolite\n",
       "664291 X4.Coumaryl.alcohol_neg                      metabolite\n",
       "664292 X2.Phenylpropionate_neg                      metabolite\n",
       "664304 methacholine_TSQ                             metabolite\n",
       "667595 betaine_TSQ                                  metabolite\n",
       "667679 X.2.3.dihydroxybenzoate_neg.                 metabolite\n",
       "667750 X3.Methylphenylacetic.acid_neg               metabolite\n",
       "667753 X4.Coumaryl.alcohol_neg                      metabolite\n",
       "667754 X2.Phenylpropionate_neg                      metabolite\n",
       "667766 methacholine_TSQ                             metabolite\n",
       "667777 X3.phenylpropionate..Hydrocinnamic.acid._neg metabolite\n",
       "667778 Hydrocinnamic.acid_neg                       metabolite\n",
       "669905 Acetylphosphate._neg                         metabolite\n",
       "669908 betaine_TSQ                                  metabolite\n",
       "669919 X5..methylthioadenosine_neg                  metabolite\n",
       "669928 X3.Hydroxycapric.acid_neg                    metabolite\n",
       "669992 X.2.3.dihydroxybenzoate_neg.                 metabolite\n",
       "670063 X3.Methylphenylacetic.acid_neg               metabolite\n",
       "670066 X4.Coumaryl.alcohol_neg                      metabolite\n",
       "670067 X2.Phenylpropionate_neg                      metabolite\n",
       "670079 methacholine_TSQ                             metabolite\n",
       "670929 p.Cresol.sulfate_neg                         metabolite\n",
       "674557 X5..methylthioadenosine_neg                  metabolite\n",
       "674717 methacholine_TSQ                             metabolite\n",
       "675567 p.Cresol.sulfate_neg                         metabolite\n",
       "677042 methacholine_TSQ                             metabolite\n",
       "679284 X.2.3.dihydroxybenzoate_neg.                 metabolite\n",
       "681553 X3.Hydroxycapric.acid_neg                    metabolite\n",
       "681617 X.2.3.dihydroxybenzoate_neg.                 metabolite\n",
       "681704 methacholine_TSQ                             metabolite\n",
       "       Sample_2                Group_2    value     \n",
       "636779 Bur_Lautropia.          microbiota  0.6282308\n",
       "636781 Bur_Lautropia.          microbiota  0.6282084\n",
       "636845 Bur_Lautropia.          microbiota  0.6908802\n",
       "644696 Eub_Eubacterium.        microbiota -0.6323236\n",
       "652657 Mic_Rothia.             microbiota  0.6221681\n",
       "652658 Mic_Rothia.             microbiota  0.7024011\n",
       "652683 Mic_Rothia.             microbiota  0.6213466\n",
       "652707 Mic_Rothia.             microbiota  0.6770934\n",
       "652732 Mic_Rothia.             microbiota  0.6362090\n",
       "652738 Mic_Rothia.             microbiota  0.6004765\n",
       "652747 Mic_Rothia.             microbiota  0.6062978\n",
       "652813 Mic_Rothia.             microbiota -0.6557047\n",
       "652816 Mic_Rothia.             microbiota -0.6477714\n",
       "652817 Mic_Rothia.             microbiota -0.6457872\n",
       "652840 Mic_Rothia.             microbiota -0.6374492\n",
       "652841 Mic_Rothia.             microbiota -0.6376086\n",
       "653153 Mic_Rothia.             microbiota  0.6032403\n",
       "653178 Mic_Rothia.             microbiota  0.6190332\n",
       "661841 Pep_Filifactor.         microbiota -0.7116888\n",
       "662001 Pep_Filifactor.         microbiota  0.6276869\n",
       "662851 Pep_Filifactor.         microbiota  0.6310014\n",
       "664133 Pep_Peptostreptococcus. microbiota -0.6143409\n",
       "664291 Pep_Peptostreptococcus. microbiota  0.6041811\n",
       "664292 Pep_Peptostreptococcus. microbiota  0.6033305\n",
       "664304 Pep_Peptostreptococcus. microbiota  0.6282815\n",
       "667595 Pre_Prevotella.         microbiota -0.6998615\n",
       "667679 Pre_Prevotella.         microbiota -0.6326786\n",
       "667750 Pre_Prevotella.         microbiota  0.6522432\n",
       "667753 Pre_Prevotella.         microbiota  0.6442167\n",
       "667754 Pre_Prevotella.         microbiota  0.6444237\n",
       "667766 Pre_Prevotella.         microbiota  0.6288406\n",
       "667777 Pre_Prevotella.         microbiota  0.6129070\n",
       "667778 Pre_Prevotella.         microbiota  0.6129163\n",
       "669905 Spi_Treponema.          microbiota -0.6197978\n",
       "669908 Spi_Treponema.          microbiota -0.6224451\n",
       "669919 Spi_Treponema.          microbiota -0.6591949\n",
       "669928 Spi_Treponema.          microbiota -0.6251361\n",
       "669992 Spi_Treponema.          microbiota -0.6214278\n",
       "670063 Spi_Treponema.          microbiota  0.6138945\n",
       "670066 Spi_Treponema.          microbiota  0.6071202\n",
       "670067 Spi_Treponema.          microbiota  0.6068806\n",
       "670079 Spi_Treponema.          microbiota  0.6955447\n",
       "670929 Spi_Treponema.          microbiota  0.6256547\n",
       "674557 Syn_Synergistes.        microbiota -0.6934933\n",
       "674717 Syn_Synergistes.        microbiota  0.6443813\n",
       "675567 Syn_Synergistes.        microbiota  0.6123233\n",
       "677042 Vei_Dialister.          microbiota  0.6256170\n",
       "679284 Vei_Selenomonas.        microbiota -0.6097220\n",
       "681553 Vei_Veillonellaceae.    microbiota -0.6706059\n",
       "681617 Vei_Veillonellaceae.    microbiota -0.6237178\n",
       "681704 Vei_Veillonellaceae.    microbiota  0.6082541"
      ]
     },
     "metadata": {},
     "output_type": "display_data"
    }
   ],
   "source": [
    "v_Corr_mat0.6[which(v_Corr_mat0.6$GroupPair==\"metabolite_VS._microbiota\"), ]"
   ]
  },
  {
   "cell_type": "code",
   "execution_count": 51,
   "metadata": {},
   "outputs": [
    {
     "data": {
      "text/html": [
       "<table>\n",
       "<caption>A data.frame: 17 × 7</caption>\n",
       "<thead>\n",
       "\t<tr><th></th><th scope=col>DistType</th><th scope=col>GroupPair</th><th scope=col>Sample_1</th><th scope=col>Group_1</th><th scope=col>Sample_2</th><th scope=col>Group_2</th><th scope=col>value</th></tr>\n",
       "\t<tr><th></th><th scope=col>&lt;fct&gt;</th><th scope=col>&lt;fct&gt;</th><th scope=col>&lt;fct&gt;</th><th scope=col>&lt;fct&gt;</th><th scope=col>&lt;fct&gt;</th><th scope=col>&lt;fct&gt;</th><th scope=col>&lt;dbl&gt;</th></tr>\n",
       "</thead>\n",
       "<tbody>\n",
       "\t<tr><th scope=row>652657</th><td>AllBetween</td><td>metabolite_VS._microbiota</td><td>Phenylacetic.acid_neg                       </td><td>metabolite</td><td>Mic_Rothia.     </td><td>microbiota</td><td> 0.6221681</td></tr>\n",
       "\t<tr><th scope=row>652658</th><td>AllBetween</td><td>metabolite_VS._microbiota</td><td>betaine_TSQ                                 </td><td>metabolite</td><td>Mic_Rothia.     </td><td>microbiota</td><td> 0.7024011</td></tr>\n",
       "\t<tr><th scope=row>652683</th><td>AllBetween</td><td>metabolite_VS._microbiota</td><td>Benzenebutanoic.acid_neg                    </td><td>metabolite</td><td>Mic_Rothia.     </td><td>microbiota</td><td> 0.6213466</td></tr>\n",
       "\t<tr><th scope=row>652707</th><td>AllBetween</td><td>metabolite_VS._microbiota</td><td>Leu.Gly_neg                                 </td><td>metabolite</td><td>Mic_Rothia.     </td><td>microbiota</td><td> 0.6770934</td></tr>\n",
       "\t<tr><th scope=row>652732</th><td>AllBetween</td><td>metabolite_VS._microbiota</td><td>Oxalureate_neg                              </td><td>metabolite</td><td>Mic_Rothia.     </td><td>microbiota</td><td> 0.6362090</td></tr>\n",
       "\t<tr><th scope=row>652738</th><td>AllBetween</td><td>metabolite_VS._microbiota</td><td>Tyrosol_neg                                 </td><td>metabolite</td><td>Mic_Rothia.     </td><td>microbiota</td><td> 0.6004765</td></tr>\n",
       "\t<tr><th scope=row>652747</th><td>AllBetween</td><td>metabolite_VS._microbiota</td><td>Azelaic.acid_neg                            </td><td>metabolite</td><td>Mic_Rothia.     </td><td>microbiota</td><td> 0.6062978</td></tr>\n",
       "\t<tr><th scope=row>652813</th><td>AllBetween</td><td>metabolite_VS._microbiota</td><td>X3.Methylphenylacetic.acid_neg              </td><td>metabolite</td><td>Mic_Rothia.     </td><td>microbiota</td><td>-0.6557047</td></tr>\n",
       "\t<tr><th scope=row>652816</th><td>AllBetween</td><td>metabolite_VS._microbiota</td><td>X4.Coumaryl.alcohol_neg                     </td><td>metabolite</td><td>Mic_Rothia.     </td><td>microbiota</td><td>-0.6477714</td></tr>\n",
       "\t<tr><th scope=row>652817</th><td>AllBetween</td><td>metabolite_VS._microbiota</td><td>X2.Phenylpropionate_neg                     </td><td>metabolite</td><td>Mic_Rothia.     </td><td>microbiota</td><td>-0.6457872</td></tr>\n",
       "\t<tr><th scope=row>652840</th><td>AllBetween</td><td>metabolite_VS._microbiota</td><td>X3.phenylpropionate..Hydrocinnamic.acid._neg</td><td>metabolite</td><td>Mic_Rothia.     </td><td>microbiota</td><td>-0.6374492</td></tr>\n",
       "\t<tr><th scope=row>652841</th><td>AllBetween</td><td>metabolite_VS._microbiota</td><td>Hydrocinnamic.acid_neg                      </td><td>metabolite</td><td>Mic_Rothia.     </td><td>microbiota</td><td>-0.6376086</td></tr>\n",
       "\t<tr><th scope=row>653153</th><td>AllBetween</td><td>metabolite_VS._microbiota</td><td>creatinine_neg                              </td><td>metabolite</td><td>Mic_Rothia.     </td><td>microbiota</td><td> 0.6032403</td></tr>\n",
       "\t<tr><th scope=row>653178</th><td>AllBetween</td><td>metabolite_VS._microbiota</td><td>Betaine_pos                                 </td><td>metabolite</td><td>Mic_Rothia.     </td><td>microbiota</td><td> 0.6190332</td></tr>\n",
       "\t<tr><th scope=row>653780</th><td>AllWithin </td><td>microbiota_VS._microbiota</td><td>Bur_Lautropia.                              </td><td>microbiota</td><td>Mic_Rothia.     </td><td>microbiota</td><td> 0.6063976</td></tr>\n",
       "\t<tr><th scope=row>664117</th><td>AllWithin </td><td>microbiota_VS._microbiota</td><td>Mic_Rothia.                                 </td><td>microbiota</td><td>Pep_Peptococcus.</td><td>microbiota</td><td>-0.6740809</td></tr>\n",
       "\t<tr><th scope=row>668731</th><td>AllWithin </td><td>microbiota_VS._microbiota</td><td>Mic_Rothia.                                 </td><td>microbiota</td><td>Pre_Prevotella. </td><td>microbiota</td><td>-0.6563071</td></tr>\n",
       "</tbody>\n",
       "</table>\n"
      ],
      "text/latex": [
       "A data.frame: 17 × 7\n",
       "\\begin{tabular}{r|lllllll}\n",
       "  & DistType & GroupPair & Sample\\_1 & Group\\_1 & Sample\\_2 & Group\\_2 & value\\\\\n",
       "  & <fct> & <fct> & <fct> & <fct> & <fct> & <fct> & <dbl>\\\\\n",
       "\\hline\n",
       "\t652657 & AllBetween & metabolite\\_VS.\\_microbiota & Phenylacetic.acid\\_neg                        & metabolite & Mic\\_Rothia.      & microbiota &  0.6221681\\\\\n",
       "\t652658 & AllBetween & metabolite\\_VS.\\_microbiota & betaine\\_TSQ                                  & metabolite & Mic\\_Rothia.      & microbiota &  0.7024011\\\\\n",
       "\t652683 & AllBetween & metabolite\\_VS.\\_microbiota & Benzenebutanoic.acid\\_neg                     & metabolite & Mic\\_Rothia.      & microbiota &  0.6213466\\\\\n",
       "\t652707 & AllBetween & metabolite\\_VS.\\_microbiota & Leu.Gly\\_neg                                  & metabolite & Mic\\_Rothia.      & microbiota &  0.6770934\\\\\n",
       "\t652732 & AllBetween & metabolite\\_VS.\\_microbiota & Oxalureate\\_neg                               & metabolite & Mic\\_Rothia.      & microbiota &  0.6362090\\\\\n",
       "\t652738 & AllBetween & metabolite\\_VS.\\_microbiota & Tyrosol\\_neg                                  & metabolite & Mic\\_Rothia.      & microbiota &  0.6004765\\\\\n",
       "\t652747 & AllBetween & metabolite\\_VS.\\_microbiota & Azelaic.acid\\_neg                             & metabolite & Mic\\_Rothia.      & microbiota &  0.6062978\\\\\n",
       "\t652813 & AllBetween & metabolite\\_VS.\\_microbiota & X3.Methylphenylacetic.acid\\_neg               & metabolite & Mic\\_Rothia.      & microbiota & -0.6557047\\\\\n",
       "\t652816 & AllBetween & metabolite\\_VS.\\_microbiota & X4.Coumaryl.alcohol\\_neg                      & metabolite & Mic\\_Rothia.      & microbiota & -0.6477714\\\\\n",
       "\t652817 & AllBetween & metabolite\\_VS.\\_microbiota & X2.Phenylpropionate\\_neg                      & metabolite & Mic\\_Rothia.      & microbiota & -0.6457872\\\\\n",
       "\t652840 & AllBetween & metabolite\\_VS.\\_microbiota & X3.phenylpropionate..Hydrocinnamic.acid.\\_neg & metabolite & Mic\\_Rothia.      & microbiota & -0.6374492\\\\\n",
       "\t652841 & AllBetween & metabolite\\_VS.\\_microbiota & Hydrocinnamic.acid\\_neg                       & metabolite & Mic\\_Rothia.      & microbiota & -0.6376086\\\\\n",
       "\t653153 & AllBetween & metabolite\\_VS.\\_microbiota & creatinine\\_neg                               & metabolite & Mic\\_Rothia.      & microbiota &  0.6032403\\\\\n",
       "\t653178 & AllBetween & metabolite\\_VS.\\_microbiota & Betaine\\_pos                                  & metabolite & Mic\\_Rothia.      & microbiota &  0.6190332\\\\\n",
       "\t653780 & AllWithin  & microbiota\\_VS.\\_microbiota & Bur\\_Lautropia.                               & microbiota & Mic\\_Rothia.      & microbiota &  0.6063976\\\\\n",
       "\t664117 & AllWithin  & microbiota\\_VS.\\_microbiota & Mic\\_Rothia.                                  & microbiota & Pep\\_Peptococcus. & microbiota & -0.6740809\\\\\n",
       "\t668731 & AllWithin  & microbiota\\_VS.\\_microbiota & Mic\\_Rothia.                                  & microbiota & Pre\\_Prevotella.  & microbiota & -0.6563071\\\\\n",
       "\\end{tabular}\n"
      ],
      "text/markdown": [
       "\n",
       "A data.frame: 17 × 7\n",
       "\n",
       "| <!--/--> | DistType &lt;fct&gt; | GroupPair &lt;fct&gt; | Sample_1 &lt;fct&gt; | Group_1 &lt;fct&gt; | Sample_2 &lt;fct&gt; | Group_2 &lt;fct&gt; | value &lt;dbl&gt; |\n",
       "|---|---|---|---|---|---|---|---|\n",
       "| 652657 | AllBetween | metabolite_VS._microbiota | Phenylacetic.acid_neg                        | metabolite | Mic_Rothia.      | microbiota |  0.6221681 |\n",
       "| 652658 | AllBetween | metabolite_VS._microbiota | betaine_TSQ                                  | metabolite | Mic_Rothia.      | microbiota |  0.7024011 |\n",
       "| 652683 | AllBetween | metabolite_VS._microbiota | Benzenebutanoic.acid_neg                     | metabolite | Mic_Rothia.      | microbiota |  0.6213466 |\n",
       "| 652707 | AllBetween | metabolite_VS._microbiota | Leu.Gly_neg                                  | metabolite | Mic_Rothia.      | microbiota |  0.6770934 |\n",
       "| 652732 | AllBetween | metabolite_VS._microbiota | Oxalureate_neg                               | metabolite | Mic_Rothia.      | microbiota |  0.6362090 |\n",
       "| 652738 | AllBetween | metabolite_VS._microbiota | Tyrosol_neg                                  | metabolite | Mic_Rothia.      | microbiota |  0.6004765 |\n",
       "| 652747 | AllBetween | metabolite_VS._microbiota | Azelaic.acid_neg                             | metabolite | Mic_Rothia.      | microbiota |  0.6062978 |\n",
       "| 652813 | AllBetween | metabolite_VS._microbiota | X3.Methylphenylacetic.acid_neg               | metabolite | Mic_Rothia.      | microbiota | -0.6557047 |\n",
       "| 652816 | AllBetween | metabolite_VS._microbiota | X4.Coumaryl.alcohol_neg                      | metabolite | Mic_Rothia.      | microbiota | -0.6477714 |\n",
       "| 652817 | AllBetween | metabolite_VS._microbiota | X2.Phenylpropionate_neg                      | metabolite | Mic_Rothia.      | microbiota | -0.6457872 |\n",
       "| 652840 | AllBetween | metabolite_VS._microbiota | X3.phenylpropionate..Hydrocinnamic.acid._neg | metabolite | Mic_Rothia.      | microbiota | -0.6374492 |\n",
       "| 652841 | AllBetween | metabolite_VS._microbiota | Hydrocinnamic.acid_neg                       | metabolite | Mic_Rothia.      | microbiota | -0.6376086 |\n",
       "| 653153 | AllBetween | metabolite_VS._microbiota | creatinine_neg                               | metabolite | Mic_Rothia.      | microbiota |  0.6032403 |\n",
       "| 653178 | AllBetween | metabolite_VS._microbiota | Betaine_pos                                  | metabolite | Mic_Rothia.      | microbiota |  0.6190332 |\n",
       "| 653780 | AllWithin  | microbiota_VS._microbiota | Bur_Lautropia.                               | microbiota | Mic_Rothia.      | microbiota |  0.6063976 |\n",
       "| 664117 | AllWithin  | microbiota_VS._microbiota | Mic_Rothia.                                  | microbiota | Pep_Peptococcus. | microbiota | -0.6740809 |\n",
       "| 668731 | AllWithin  | microbiota_VS._microbiota | Mic_Rothia.                                  | microbiota | Pre_Prevotella.  | microbiota | -0.6563071 |\n",
       "\n"
      ],
      "text/plain": [
       "       DistType   GroupPair                \n",
       "652657 AllBetween metabolite_VS._microbiota\n",
       "652658 AllBetween metabolite_VS._microbiota\n",
       "652683 AllBetween metabolite_VS._microbiota\n",
       "652707 AllBetween metabolite_VS._microbiota\n",
       "652732 AllBetween metabolite_VS._microbiota\n",
       "652738 AllBetween metabolite_VS._microbiota\n",
       "652747 AllBetween metabolite_VS._microbiota\n",
       "652813 AllBetween metabolite_VS._microbiota\n",
       "652816 AllBetween metabolite_VS._microbiota\n",
       "652817 AllBetween metabolite_VS._microbiota\n",
       "652840 AllBetween metabolite_VS._microbiota\n",
       "652841 AllBetween metabolite_VS._microbiota\n",
       "653153 AllBetween metabolite_VS._microbiota\n",
       "653178 AllBetween metabolite_VS._microbiota\n",
       "653780 AllWithin  microbiota_VS._microbiota\n",
       "664117 AllWithin  microbiota_VS._microbiota\n",
       "668731 AllWithin  microbiota_VS._microbiota\n",
       "       Sample_1                                     Group_1    Sample_2        \n",
       "652657 Phenylacetic.acid_neg                        metabolite Mic_Rothia.     \n",
       "652658 betaine_TSQ                                  metabolite Mic_Rothia.     \n",
       "652683 Benzenebutanoic.acid_neg                     metabolite Mic_Rothia.     \n",
       "652707 Leu.Gly_neg                                  metabolite Mic_Rothia.     \n",
       "652732 Oxalureate_neg                               metabolite Mic_Rothia.     \n",
       "652738 Tyrosol_neg                                  metabolite Mic_Rothia.     \n",
       "652747 Azelaic.acid_neg                             metabolite Mic_Rothia.     \n",
       "652813 X3.Methylphenylacetic.acid_neg               metabolite Mic_Rothia.     \n",
       "652816 X4.Coumaryl.alcohol_neg                      metabolite Mic_Rothia.     \n",
       "652817 X2.Phenylpropionate_neg                      metabolite Mic_Rothia.     \n",
       "652840 X3.phenylpropionate..Hydrocinnamic.acid._neg metabolite Mic_Rothia.     \n",
       "652841 Hydrocinnamic.acid_neg                       metabolite Mic_Rothia.     \n",
       "653153 creatinine_neg                               metabolite Mic_Rothia.     \n",
       "653178 Betaine_pos                                  metabolite Mic_Rothia.     \n",
       "653780 Bur_Lautropia.                               microbiota Mic_Rothia.     \n",
       "664117 Mic_Rothia.                                  microbiota Pep_Peptococcus.\n",
       "668731 Mic_Rothia.                                  microbiota Pre_Prevotella. \n",
       "       Group_2    value     \n",
       "652657 microbiota  0.6221681\n",
       "652658 microbiota  0.7024011\n",
       "652683 microbiota  0.6213466\n",
       "652707 microbiota  0.6770934\n",
       "652732 microbiota  0.6362090\n",
       "652738 microbiota  0.6004765\n",
       "652747 microbiota  0.6062978\n",
       "652813 microbiota -0.6557047\n",
       "652816 microbiota -0.6477714\n",
       "652817 microbiota -0.6457872\n",
       "652840 microbiota -0.6374492\n",
       "652841 microbiota -0.6376086\n",
       "653153 microbiota  0.6032403\n",
       "653178 microbiota  0.6190332\n",
       "653780 microbiota  0.6063976\n",
       "664117 microbiota -0.6740809\n",
       "668731 microbiota -0.6563071"
      ]
     },
     "metadata": {},
     "output_type": "display_data"
    }
   ],
   "source": [
    "subset(v_Corr_mat0.6, Sample_1==\"Mic_Rothia.\" | Sample_2==\"Mic_Rothia.\")"
   ]
  },
  {
   "cell_type": "code",
   "execution_count": 52,
   "metadata": {},
   "outputs": [
    {
     "data": {
      "text/html": [
       "<ol class=list-inline>\n",
       "\t<li>8556</li>\n",
       "\t<li>7</li>\n",
       "</ol>\n"
      ],
      "text/latex": [
       "\\begin{enumerate*}\n",
       "\\item 8556\n",
       "\\item 7\n",
       "\\end{enumerate*}\n"
      ],
      "text/markdown": [
       "1. 8556\n",
       "2. 7\n",
       "\n",
       "\n"
      ],
      "text/plain": [
       "[1] 8556    7"
      ]
     },
     "metadata": {},
     "output_type": "display_data"
    }
   ],
   "source": [
    "v_Corr_mat0.8<-Trim_v_corr_mat(v_Corr_mat, Threshold=0.8)\n",
    "dim(v_Corr_mat0.8)\n",
    "#sink(paste(outpath, \"v_Corr_mat_0.8.txt\", sep=\"\")); cat(\"\\t\"); \n",
    "#write.table(v_Corr_mat0.8, sep=\"\\t\", quote=FALSE, row.names = FALSE); sink(NULL)\n",
    "write.table(v_Corr_mat0.8, paste(outpath, \"v_Corr_mat_0.8.txt\", sep=\"\"), sep=\"\\t\", quote=FALSE, row.names = FALSE)"
   ]
  },
  {
   "cell_type": "code",
   "execution_count": 53,
   "metadata": {},
   "outputs": [],
   "source": [
    "#head(subset(v_Corr_mat0.6, GroupPair==\"microbiota_VS._metabolite\" | GroupPair==\"metabolite_VS._microbiota\"))"
   ]
  },
  {
   "cell_type": "code",
   "execution_count": null,
   "metadata": {},
   "outputs": [],
   "source": []
  },
  {
   "cell_type": "code",
   "execution_count": 54,
   "metadata": {},
   "outputs": [
    {
     "name": "stderr",
     "output_type": "stream",
     "text": [
      "Warning message in centralization.closeness(g):\n",
      "“At centrality.c:2784 :closeness centrality is not well-defined for disconnected graphs”"
     ]
    }
   ],
   "source": [
    "Threshold=0.8\n",
    "g<-Plot_network_graph(Corr_mat, Pos_Edge=TRUE, Neg_Edge=TRUE, \n",
    "                   Threshold=Threshold, Edge_width=\"Corr\", node_size=\"degree\", \n",
    "                   node_color=\"\", \n",
    "                   layout=\"layout.fruchterman.reingold\", \n",
    "                   outdir=paste(outpath,\"/network_\", Threshold=Threshold,\"_out.pdf\", sep=\"\"),\n",
    "                   width=9, height=10)"
   ]
  },
  {
   "cell_type": "code",
   "execution_count": null,
   "metadata": {},
   "outputs": [],
   "source": []
  },
  {
   "cell_type": "markdown",
   "metadata": {},
   "source": [
    "## Co-occurence network at Day 0, 3, and 7"
   ]
  },
  {
   "cell_type": "code",
   "execution_count": 55,
   "metadata": {},
   "outputs": [
    {
     "data": {
      "text/html": [
       "<ol class=list-inline>\n",
       "\t<li>111</li>\n",
       "\t<li>1196</li>\n",
       "</ol>\n"
      ],
      "text/latex": [
       "\\begin{enumerate*}\n",
       "\\item 111\n",
       "\\item 1196\n",
       "\\end{enumerate*}\n"
      ],
      "text/markdown": [
       "1. 111\n",
       "2. 1196\n",
       "\n",
       "\n"
      ],
      "text/plain": [
       "[1]  111 1196"
      ]
     },
     "metadata": {},
     "output_type": "display_data"
    },
    {
     "data": {
      "text/html": [
       "<table>\n",
       "<caption>A data.frame: 6 × 19</caption>\n",
       "<thead>\n",
       "\t<tr><th></th><th scope=col>Host_ID</th><th scope=col>PNO_identity</th><th scope=col>Plaque</th><th scope=col>Timepoint</th><th scope=col>Day</th><th scope=col>Visit</th><th scope=col>Plaque_weight</th><th scope=col>Bleeding</th><th scope=col>Mazza</th><th scope=col>Halimeter</th><th scope=col>Group_short</th><th scope=col>Group</th><th scope=col>Age</th><th scope=col>Gender</th><th scope=col>Smoking</th><th scope=col>Delta_R30</th><th scope=col>Delta_R70</th><th scope=col>Delta_R120</th><th scope=col>sps</th></tr>\n",
       "\t<tr><th></th><th scope=col>&lt;fct&gt;</th><th scope=col>&lt;int&gt;</th><th scope=col>&lt;fct&gt;</th><th scope=col>&lt;fct&gt;</th><th scope=col>&lt;int&gt;</th><th scope=col>&lt;fct&gt;</th><th scope=col>&lt;dbl&gt;</th><th scope=col>&lt;int&gt;</th><th scope=col>&lt;dbl&gt;</th><th scope=col>&lt;int&gt;</th><th scope=col>&lt;fct&gt;</th><th scope=col>&lt;fct&gt;</th><th scope=col>&lt;int&gt;</th><th scope=col>&lt;fct&gt;</th><th scope=col>&lt;fct&gt;</th><th scope=col>&lt;int&gt;</th><th scope=col>&lt;int&gt;</th><th scope=col>&lt;int&gt;</th><th scope=col>&lt;int&gt;</th></tr>\n",
       "</thead>\n",
       "<tbody>\n",
       "\t<tr><th scope=row>H3003_0</th><td>H3003</td><td>3003</td><td>PlaqueA</td><td>DAY0 </td><td>0</td><td>T4</td><td>0.0035</td><td>1</td><td>1.0179</td><td>171</td><td>H</td><td>High_bleeder</td><td>38</td><td>F</td><td>N</td><td> 35</td><td>  1</td><td> 0</td><td>0</td></tr>\n",
       "\t<tr><th scope=row>H3003_3</th><td>H3003</td><td>3003</td><td>PlaqueA</td><td>DAY03</td><td>3</td><td>T6</td><td>0.0048</td><td>1</td><td>1.0357</td><td> 87</td><td>H</td><td>High_bleeder</td><td>38</td><td>F</td><td>N</td><td> 39</td><td>  4</td><td> 0</td><td>0</td></tr>\n",
       "\t<tr><th scope=row>H3003_7</th><td>H3003</td><td>3003</td><td>PlaqueA</td><td>DAY07</td><td>7</td><td>T7</td><td>0.0092</td><td>0</td><td>1.0000</td><td>243</td><td>H</td><td>High_bleeder</td><td>38</td><td>F</td><td>N</td><td> 31</td><td>  2</td><td> 0</td><td>0</td></tr>\n",
       "\t<tr><th scope=row>H3007_0</th><td>H3007</td><td>3007</td><td>PlaqueB</td><td>DAY0 </td><td>0</td><td>T4</td><td>0.0050</td><td>1</td><td>1.0179</td><td> 98</td><td>H</td><td>High_bleeder</td><td>37</td><td>F</td><td>N</td><td>105</td><td> 12</td><td> 1</td><td>1</td></tr>\n",
       "\t<tr><th scope=row>H3007_3</th><td>H3007</td><td>3007</td><td>PlaqueB</td><td>DAY03</td><td>3</td><td>T6</td><td>0.0070</td><td>5</td><td>1.1071</td><td>174</td><td>H</td><td>High_bleeder</td><td>37</td><td>F</td><td>N</td><td>268</td><td> 47</td><td> 4</td><td>2</td></tr>\n",
       "\t<tr><th scope=row>H3007_7</th><td>H3007</td><td>3007</td><td>PlaqueB</td><td>DAY07</td><td>7</td><td>T7</td><td>0.0125</td><td>4</td><td>1.1071</td><td>251</td><td>H</td><td>High_bleeder</td><td>37</td><td>F</td><td>N</td><td>758</td><td>193</td><td>83</td><td>5</td></tr>\n",
       "</tbody>\n",
       "</table>\n"
      ],
      "text/latex": [
       "A data.frame: 6 × 19\n",
       "\\begin{tabular}{r|lllllllllllllllllll}\n",
       "  & Host\\_ID & PNO\\_identity & Plaque & Timepoint & Day & Visit & Plaque\\_weight & Bleeding & Mazza & Halimeter & Group\\_short & Group & Age & Gender & Smoking & Delta\\_R30 & Delta\\_R70 & Delta\\_R120 & sps\\\\\n",
       "  & <fct> & <int> & <fct> & <fct> & <int> & <fct> & <dbl> & <int> & <dbl> & <int> & <fct> & <fct> & <int> & <fct> & <fct> & <int> & <int> & <int> & <int>\\\\\n",
       "\\hline\n",
       "\tH3003\\_0 & H3003 & 3003 & PlaqueA & DAY0  & 0 & T4 & 0.0035 & 1 & 1.0179 & 171 & H & High\\_bleeder & 38 & F & N &  35 &   1 &  0 & 0\\\\\n",
       "\tH3003\\_3 & H3003 & 3003 & PlaqueA & DAY03 & 3 & T6 & 0.0048 & 1 & 1.0357 &  87 & H & High\\_bleeder & 38 & F & N &  39 &   4 &  0 & 0\\\\\n",
       "\tH3003\\_7 & H3003 & 3003 & PlaqueA & DAY07 & 7 & T7 & 0.0092 & 0 & 1.0000 & 243 & H & High\\_bleeder & 38 & F & N &  31 &   2 &  0 & 0\\\\\n",
       "\tH3007\\_0 & H3007 & 3007 & PlaqueB & DAY0  & 0 & T4 & 0.0050 & 1 & 1.0179 &  98 & H & High\\_bleeder & 37 & F & N & 105 &  12 &  1 & 1\\\\\n",
       "\tH3007\\_3 & H3007 & 3007 & PlaqueB & DAY03 & 3 & T6 & 0.0070 & 5 & 1.1071 & 174 & H & High\\_bleeder & 37 & F & N & 268 &  47 &  4 & 2\\\\\n",
       "\tH3007\\_7 & H3007 & 3007 & PlaqueB & DAY07 & 7 & T7 & 0.0125 & 4 & 1.1071 & 251 & H & High\\_bleeder & 37 & F & N & 758 & 193 & 83 & 5\\\\\n",
       "\\end{tabular}\n"
      ],
      "text/markdown": [
       "\n",
       "A data.frame: 6 × 19\n",
       "\n",
       "| <!--/--> | Host_ID &lt;fct&gt; | PNO_identity &lt;int&gt; | Plaque &lt;fct&gt; | Timepoint &lt;fct&gt; | Day &lt;int&gt; | Visit &lt;fct&gt; | Plaque_weight &lt;dbl&gt; | Bleeding &lt;int&gt; | Mazza &lt;dbl&gt; | Halimeter &lt;int&gt; | Group_short &lt;fct&gt; | Group &lt;fct&gt; | Age &lt;int&gt; | Gender &lt;fct&gt; | Smoking &lt;fct&gt; | Delta_R30 &lt;int&gt; | Delta_R70 &lt;int&gt; | Delta_R120 &lt;int&gt; | sps &lt;int&gt; |\n",
       "|---|---|---|---|---|---|---|---|---|---|---|---|---|---|---|---|---|---|---|---|\n",
       "| H3003_0 | H3003 | 3003 | PlaqueA | DAY0  | 0 | T4 | 0.0035 | 1 | 1.0179 | 171 | H | High_bleeder | 38 | F | N |  35 |   1 |  0 | 0 |\n",
       "| H3003_3 | H3003 | 3003 | PlaqueA | DAY03 | 3 | T6 | 0.0048 | 1 | 1.0357 |  87 | H | High_bleeder | 38 | F | N |  39 |   4 |  0 | 0 |\n",
       "| H3003_7 | H3003 | 3003 | PlaqueA | DAY07 | 7 | T7 | 0.0092 | 0 | 1.0000 | 243 | H | High_bleeder | 38 | F | N |  31 |   2 |  0 | 0 |\n",
       "| H3007_0 | H3007 | 3007 | PlaqueB | DAY0  | 0 | T4 | 0.0050 | 1 | 1.0179 |  98 | H | High_bleeder | 37 | F | N | 105 |  12 |  1 | 1 |\n",
       "| H3007_3 | H3007 | 3007 | PlaqueB | DAY03 | 3 | T6 | 0.0070 | 5 | 1.1071 | 174 | H | High_bleeder | 37 | F | N | 268 |  47 |  4 | 2 |\n",
       "| H3007_7 | H3007 | 3007 | PlaqueB | DAY07 | 7 | T7 | 0.0125 | 4 | 1.1071 | 251 | H | High_bleeder | 37 | F | N | 758 | 193 | 83 | 5 |\n",
       "\n"
      ],
      "text/plain": [
       "        Host_ID PNO_identity Plaque  Timepoint Day Visit Plaque_weight Bleeding\n",
       "H3003_0 H3003   3003         PlaqueA DAY0      0   T4    0.0035        1       \n",
       "H3003_3 H3003   3003         PlaqueA DAY03     3   T6    0.0048        1       \n",
       "H3003_7 H3003   3003         PlaqueA DAY07     7   T7    0.0092        0       \n",
       "H3007_0 H3007   3007         PlaqueB DAY0      0   T4    0.0050        1       \n",
       "H3007_3 H3007   3007         PlaqueB DAY03     3   T6    0.0070        5       \n",
       "H3007_7 H3007   3007         PlaqueB DAY07     7   T7    0.0125        4       \n",
       "        Mazza  Halimeter Group_short Group        Age Gender Smoking Delta_R30\n",
       "H3003_0 1.0179 171       H           High_bleeder 38  F      N        35      \n",
       "H3003_3 1.0357  87       H           High_bleeder 38  F      N        39      \n",
       "H3003_7 1.0000 243       H           High_bleeder 38  F      N        31      \n",
       "H3007_0 1.0179  98       H           High_bleeder 37  F      N       105      \n",
       "H3007_3 1.1071 174       H           High_bleeder 37  F      N       268      \n",
       "H3007_7 1.1071 251       H           High_bleeder 37  F      N       758      \n",
       "        Delta_R70 Delta_R120 sps\n",
       "H3003_0   1        0         0  \n",
       "H3003_3   4        0         0  \n",
       "H3003_7   2        0         0  \n",
       "H3007_0  12        1         1  \n",
       "H3007_3  47        4         2  \n",
       "H3007_7 193       83         5  "
      ]
     },
     "metadata": {},
     "output_type": "display_data"
    }
   ],
   "source": [
    "idx<-m2_s$Timepoint %in% c(\"DAY0\", \"DAY03\", \"DAY07\")\n",
    "df_SoH<-df[idx, ]\n",
    "md_SoH<-m2_s[idx,]\n",
    "dim(df_SoH)\n",
    "head(md_SoH)"
   ]
  },
  {
   "cell_type": "code",
   "execution_count": 56,
   "metadata": {},
   "outputs": [
    {
     "data": {
      "text/html": [
       "<ol class=list-inline>\n",
       "\t<li>714346</li>\n",
       "\t<li>7</li>\n",
       "</ol>\n"
      ],
      "text/latex": [
       "\\begin{enumerate*}\n",
       "\\item 714346\n",
       "\\item 7\n",
       "\\end{enumerate*}\n"
      ],
      "text/markdown": [
       "1. 714346\n",
       "2. 7\n",
       "\n",
       "\n"
      ],
      "text/plain": [
       "[1] 714346      7"
      ]
     },
     "metadata": {},
     "output_type": "display_data"
    }
   ],
   "source": [
    "Corr_mat_SoH<-cor(df_SoH, method = \"spearman\")\n",
    "v_Corr_mat_SoH<-vectorize_dm(Corr_mat_SoH, group = group$measurement_types, duplicate=FALSE)\n",
    "dim(v_Corr_mat_SoH)"
   ]
  },
  {
   "cell_type": "code",
   "execution_count": 57,
   "metadata": {},
   "outputs": [
    {
     "data": {
      "text/html": [
       "<ol class=list-inline>\n",
       "\t<li>27820</li>\n",
       "\t<li>7</li>\n",
       "</ol>\n"
      ],
      "text/latex": [
       "\\begin{enumerate*}\n",
       "\\item 27820\n",
       "\\item 7\n",
       "\\end{enumerate*}\n"
      ],
      "text/markdown": [
       "1. 27820\n",
       "2. 7\n",
       "\n",
       "\n"
      ],
      "text/plain": [
       "[1] 27820     7"
      ]
     },
     "metadata": {},
     "output_type": "display_data"
    },
    {
     "name": "stdout",
     "output_type": "stream",
     "text": [
      "'data.frame':\t27820 obs. of  7 variables:\n",
      " $ DistType : Factor w/ 2 levels \"AllBetween\",\"AllWithin\": 2 2 2 2 2 2 2 2 2 2 ...\n",
      " $ GroupPair: Factor w/ 6 levels \"cytokine_VS._cytokine\",..: 3 3 3 3 3 3 3 3 3 3 ...\n",
      " $ Sample_1 : Factor w/ 1195 levels \"acetoacetate_pos\",..: 1101 1101 1128 1101 1128 4 1101 1128 462 1101 ...\n",
      " $ Group_1  : Factor w/ 3 levels \"cytokine\",\"metabolite\",..: 2 2 2 2 2 2 2 2 2 2 ...\n",
      " $ Sample_2 : Factor w/ 1195 levels \"acetoacetate_pos\",..: 1128 4 4 463 463 463 599 599 599 756 ...\n",
      " $ Group_2  : Factor w/ 3 levels \"cytokine\",\"metabolite\",..: 2 2 2 2 2 2 2 2 2 2 ...\n",
      " $ value    : num  0.998 -0.629 -0.623 0.94 0.937 ...\n"
     ]
    }
   ],
   "source": [
    "v_Corr_mat_SoH0.6<-Trim_v_corr_mat(v_Corr_mat_SoH, Threshold=0.6)\n",
    "dim(v_Corr_mat_SoH0.6)\n",
    "str(v_Corr_mat_SoH0.6)"
   ]
  },
  {
   "cell_type": "code",
   "execution_count": 58,
   "metadata": {},
   "outputs": [],
   "source": [
    "#sink(paste(outpath, \"v_Corr_mat_SoH.0.6.txt\", sep=\"\")); \n",
    "write.table(v_Corr_mat_SoH0.6, paste(outpath, \"v_Corr_mat_SoH.0.6.txt\", sep=\"\"), sep=\"\\t\", quote=FALSE, row.names=F)\n",
    "#sink(NULL)"
   ]
  },
  {
   "cell_type": "code",
   "execution_count": 59,
   "metadata": {},
   "outputs": [
    {
     "data": {
      "text/html": [
       "<ol class=list-inline>\n",
       "\t<li>50246</li>\n",
       "\t<li>7</li>\n",
       "</ol>\n"
      ],
      "text/latex": [
       "\\begin{enumerate*}\n",
       "\\item 50246\n",
       "\\item 7\n",
       "\\end{enumerate*}\n"
      ],
      "text/markdown": [
       "1. 50246\n",
       "2. 7\n",
       "\n",
       "\n"
      ],
      "text/plain": [
       "[1] 50246     7"
      ]
     },
     "metadata": {},
     "output_type": "display_data"
    },
    {
     "name": "stdout",
     "output_type": "stream",
     "text": [
      "'data.frame':\t50246 obs. of  7 variables:\n",
      " $ DistType : Factor w/ 2 levels \"AllBetween\",\"AllWithin\": 2 2 2 2 2 2 2 2 2 2 ...\n",
      " $ GroupPair: Factor w/ 6 levels \"cytokine_VS._cytokine\",..: 3 3 3 3 3 3 3 3 3 3 ...\n",
      " $ Sample_1 : Factor w/ 1195 levels \"acetoacetate_pos\",..: 1101 1101 1128 1101 1128 4 1101 1128 4 462 ...\n",
      " $ Group_1  : Factor w/ 3 levels \"cytokine\",\"metabolite\",..: 2 2 2 2 2 2 2 2 2 2 ...\n",
      " $ Sample_2 : Factor w/ 1195 levels \"acetoacetate_pos\",..: 1128 4 4 463 463 463 98 98 98 98 ...\n",
      " $ Group_2  : Factor w/ 3 levels \"cytokine\",\"metabolite\",..: 2 2 2 2 2 2 2 2 2 2 ...\n",
      " $ value    : num  0.998 -0.629 -0.623 0.94 0.937 ...\n"
     ]
    }
   ],
   "source": [
    "v_Corr_mat_SoH0.5<-Trim_v_corr_mat(v_Corr_mat_SoH, Threshold=0.5)\n",
    "dim(v_Corr_mat_SoH0.5)\n",
    "str(v_Corr_mat_SoH0.5)\n",
    "write.table(v_Corr_mat_SoH0.5, paste(outpath, \"v_Corr_mat_SoH.0.5.txt\", sep=\"\"), sep=\"\\t\", quote=FALSE, row.names=F)"
   ]
  },
  {
   "cell_type": "code",
   "execution_count": 60,
   "metadata": {},
   "outputs": [
    {
     "data": {
      "text/html": [
       "<table>\n",
       "<caption>A data.frame: 0 × 7</caption>\n",
       "<thead>\n",
       "\t<tr><th scope=col>DistType</th><th scope=col>GroupPair</th><th scope=col>Sample_1</th><th scope=col>Group_1</th><th scope=col>Sample_2</th><th scope=col>Group_2</th><th scope=col>value</th></tr>\n",
       "\t<tr><th scope=col>&lt;fct&gt;</th><th scope=col>&lt;fct&gt;</th><th scope=col>&lt;fct&gt;</th><th scope=col>&lt;fct&gt;</th><th scope=col>&lt;fct&gt;</th><th scope=col>&lt;fct&gt;</th><th scope=col>&lt;dbl&gt;</th></tr>\n",
       "</thead>\n",
       "<tbody>\n",
       "</tbody>\n",
       "</table>\n"
      ],
      "text/latex": [
       "A data.frame: 0 × 7\n",
       "\\begin{tabular}{r|lllllll}\n",
       " DistType & GroupPair & Sample\\_1 & Group\\_1 & Sample\\_2 & Group\\_2 & value\\\\\n",
       " <fct> & <fct> & <fct> & <fct> & <fct> & <fct> & <dbl>\\\\\n",
       "\\hline\n",
       "\\end{tabular}\n"
      ],
      "text/markdown": [
       "\n",
       "A data.frame: 0 × 7\n",
       "\n",
       "| DistType &lt;fct&gt; | GroupPair &lt;fct&gt; | Sample_1 &lt;fct&gt; | Group_1 &lt;fct&gt; | Sample_2 &lt;fct&gt; | Group_2 &lt;fct&gt; | value &lt;dbl&gt; |\n",
       "|---|---|---|---|---|---|---|\n",
       "\n"
      ],
      "text/plain": [
       "     DistType GroupPair Sample_1 Group_1 Sample_2 Group_2 value"
      ]
     },
     "metadata": {},
     "output_type": "display_data"
    }
   ],
   "source": [
    "subset(v_Corr_mat_SoH0.5, GroupPair==\"cytokine_VS._microbiota\")"
   ]
  },
  {
   "cell_type": "code",
   "execution_count": 61,
   "metadata": {
    "scrolled": true
   },
   "outputs": [
    {
     "data": {
      "text/html": [
       "<table>\n",
       "<caption>A data.frame: 6 × 7</caption>\n",
       "<thead>\n",
       "\t<tr><th></th><th scope=col>DistType</th><th scope=col>GroupPair</th><th scope=col>Sample_1</th><th scope=col>Group_1</th><th scope=col>Sample_2</th><th scope=col>Group_2</th><th scope=col>value</th></tr>\n",
       "\t<tr><th></th><th scope=col>&lt;fct&gt;</th><th scope=col>&lt;fct&gt;</th><th scope=col>&lt;fct&gt;</th><th scope=col>&lt;fct&gt;</th><th scope=col>&lt;fct&gt;</th><th scope=col>&lt;fct&gt;</th><th scope=col>&lt;dbl&gt;</th></tr>\n",
       "</thead>\n",
       "<tbody>\n",
       "\t<tr><th scope=row>634254</th><td>AllWithin</td><td>microbiota_VS._microbiota</td><td>Act_Actinobaculum.              </td><td>microbiota</td><td>Act_Actinomyces.    </td><td>microbiota</td><td> 0.5731648</td></tr>\n",
       "\t<tr><th scope=row>639893</th><td>AllWithin</td><td>microbiota_VS._microbiota</td><td>Act_Actinobaculum.              </td><td>microbiota</td><td>Car_Cardiobacterium.</td><td>microbiota</td><td> 0.5801588</td></tr>\n",
       "\t<tr><th scope=row>639894</th><td>AllWithin</td><td>microbiota_VS._microbiota</td><td>Act_Actinomyces.                </td><td>microbiota</td><td>Car_Cardiobacterium.</td><td>microbiota</td><td> 0.6141541</td></tr>\n",
       "\t<tr><th scope=row>639895</th><td>AllWithin</td><td>microbiota_VS._microbiota</td><td>Aer_Abiotrophia.                </td><td>microbiota</td><td>Car_Cardiobacterium.</td><td>microbiota</td><td>-0.5087543</td></tr>\n",
       "\t<tr><th scope=row>642159</th><td>AllWithin</td><td>microbiota_VS._microbiota</td><td>Bac_unclassified_Bacteroidaceae.</td><td>microbiota</td><td>Clo_Parvimonas.     </td><td>microbiota</td><td> 0.5614666</td></tr>\n",
       "\t<tr><th scope=row>644429</th><td>AllWithin</td><td>microbiota_VS._microbiota</td><td>Car_Cardiobacterium.            </td><td>microbiota</td><td>Cor_Corynebacterium.</td><td>microbiota</td><td> 0.5238241</td></tr>\n",
       "</tbody>\n",
       "</table>\n"
      ],
      "text/latex": [
       "A data.frame: 6 × 7\n",
       "\\begin{tabular}{r|lllllll}\n",
       "  & DistType & GroupPair & Sample\\_1 & Group\\_1 & Sample\\_2 & Group\\_2 & value\\\\\n",
       "  & <fct> & <fct> & <fct> & <fct> & <fct> & <fct> & <dbl>\\\\\n",
       "\\hline\n",
       "\t634254 & AllWithin & microbiota\\_VS.\\_microbiota & Act\\_Actinobaculum.               & microbiota & Act\\_Actinomyces.     & microbiota &  0.5731648\\\\\n",
       "\t639893 & AllWithin & microbiota\\_VS.\\_microbiota & Act\\_Actinobaculum.               & microbiota & Car\\_Cardiobacterium. & microbiota &  0.5801588\\\\\n",
       "\t639894 & AllWithin & microbiota\\_VS.\\_microbiota & Act\\_Actinomyces.                 & microbiota & Car\\_Cardiobacterium. & microbiota &  0.6141541\\\\\n",
       "\t639895 & AllWithin & microbiota\\_VS.\\_microbiota & Aer\\_Abiotrophia.                 & microbiota & Car\\_Cardiobacterium. & microbiota & -0.5087543\\\\\n",
       "\t642159 & AllWithin & microbiota\\_VS.\\_microbiota & Bac\\_unclassified\\_Bacteroidaceae. & microbiota & Clo\\_Parvimonas.      & microbiota &  0.5614666\\\\\n",
       "\t644429 & AllWithin & microbiota\\_VS.\\_microbiota & Car\\_Cardiobacterium.             & microbiota & Cor\\_Corynebacterium. & microbiota &  0.5238241\\\\\n",
       "\\end{tabular}\n"
      ],
      "text/markdown": [
       "\n",
       "A data.frame: 6 × 7\n",
       "\n",
       "| <!--/--> | DistType &lt;fct&gt; | GroupPair &lt;fct&gt; | Sample_1 &lt;fct&gt; | Group_1 &lt;fct&gt; | Sample_2 &lt;fct&gt; | Group_2 &lt;fct&gt; | value &lt;dbl&gt; |\n",
       "|---|---|---|---|---|---|---|---|\n",
       "| 634254 | AllWithin | microbiota_VS._microbiota | Act_Actinobaculum.               | microbiota | Act_Actinomyces.     | microbiota |  0.5731648 |\n",
       "| 639893 | AllWithin | microbiota_VS._microbiota | Act_Actinobaculum.               | microbiota | Car_Cardiobacterium. | microbiota |  0.5801588 |\n",
       "| 639894 | AllWithin | microbiota_VS._microbiota | Act_Actinomyces.                 | microbiota | Car_Cardiobacterium. | microbiota |  0.6141541 |\n",
       "| 639895 | AllWithin | microbiota_VS._microbiota | Aer_Abiotrophia.                 | microbiota | Car_Cardiobacterium. | microbiota | -0.5087543 |\n",
       "| 642159 | AllWithin | microbiota_VS._microbiota | Bac_unclassified_Bacteroidaceae. | microbiota | Clo_Parvimonas.      | microbiota |  0.5614666 |\n",
       "| 644429 | AllWithin | microbiota_VS._microbiota | Car_Cardiobacterium.             | microbiota | Cor_Corynebacterium. | microbiota |  0.5238241 |\n",
       "\n"
      ],
      "text/plain": [
       "       DistType  GroupPair                 Sample_1                        \n",
       "634254 AllWithin microbiota_VS._microbiota Act_Actinobaculum.              \n",
       "639893 AllWithin microbiota_VS._microbiota Act_Actinobaculum.              \n",
       "639894 AllWithin microbiota_VS._microbiota Act_Actinomyces.                \n",
       "639895 AllWithin microbiota_VS._microbiota Aer_Abiotrophia.                \n",
       "642159 AllWithin microbiota_VS._microbiota Bac_unclassified_Bacteroidaceae.\n",
       "644429 AllWithin microbiota_VS._microbiota Car_Cardiobacterium.            \n",
       "       Group_1    Sample_2             Group_2    value     \n",
       "634254 microbiota Act_Actinomyces.     microbiota  0.5731648\n",
       "639893 microbiota Car_Cardiobacterium. microbiota  0.5801588\n",
       "639894 microbiota Car_Cardiobacterium. microbiota  0.6141541\n",
       "639895 microbiota Car_Cardiobacterium. microbiota -0.5087543\n",
       "642159 microbiota Clo_Parvimonas.      microbiota  0.5614666\n",
       "644429 microbiota Cor_Corynebacterium. microbiota  0.5238241"
      ]
     },
     "metadata": {},
     "output_type": "display_data"
    }
   ],
   "source": [
    "head(subset(v_Corr_mat_SoH0.5, GroupPair==\"microbiota_VS._microbiota\"))"
   ]
  },
  {
   "cell_type": "code",
   "execution_count": null,
   "metadata": {},
   "outputs": [],
   "source": []
  },
  {
   "cell_type": "code",
   "execution_count": null,
   "metadata": {},
   "outputs": [],
   "source": []
  },
  {
   "cell_type": "code",
   "execution_count": 62,
   "metadata": {},
   "outputs": [
    {
     "data": {
      "text/plain": [
       "R version 3.5.1 (2018-07-02)\n",
       "Platform: x86_64-apple-darwin13.4.0 (64-bit)\n",
       "Running under: macOS  10.14.6\n",
       "\n",
       "Matrix products: default\n",
       "BLAS/LAPACK: /Users/huangshi/anaconda3/envs/r-env/lib/R/lib/libRblas.dylib\n",
       "\n",
       "locale:\n",
       "[1] en_US.UTF-8/en_US.UTF-8/en_US.UTF-8/C/en_US.UTF-8/en_US.UTF-8\n",
       "\n",
       "attached base packages:\n",
       "[1] grid      stats     graphics  grDevices utils     datasets  methods  \n",
       "[8] base     \n",
       "\n",
       "other attached packages:\n",
       " [1] gridExtra_2.3        foreach_1.4.7        lsr_0.5             \n",
       " [4] ggnet_0.1.0          optparse_1.6.4       plyr_1.8.5          \n",
       " [7] combinat_0.0-8       pROC_1.16.1          reshape_0.8.8       \n",
       "[10] crossRanger_0.1.0    GGally_1.4.0         cowplot_1.0.0       \n",
       "[13] corrplot_0.84        sna_2.5              statnet.common_4.3.0\n",
       "[16] network_1.16.0       igraph_1.2.2         ape_5.3             \n",
       "[19] dplyr_0.8.3          pheatmap_1.0.12      ggplot2_3.3.0       \n",
       "[22] reshape2_1.4.3       ade4_1.7-13          vegan_2.5-6         \n",
       "[25] lattice_0.20-38      permute_0.9-5       \n",
       "\n",
       "loaded via a namespace (and not attached):\n",
       " [1] colorspace_1.4-1     ellipsis_0.3.0       class_7.3-15        \n",
       " [4] rprojroot_1.3-2      IRdisplay_0.7.0      base64enc_0.1-3     \n",
       " [7] fs_1.3.1             farver_2.0.3         remotes_2.1.1       \n",
       "[10] getopt_1.20.3        prodlim_2019.11.13   fansi_0.4.1         \n",
       "[13] lubridate_1.7.4      ranger_0.12.1        codetools_0.2-16    \n",
       "[16] splines_3.5.1        pkgload_1.0.2        IRkernel_1.0.2      \n",
       "[19] jsonlite_1.7.0       doMC_1.3.6           caret_6.0-85        \n",
       "[22] cluster_2.1.0        compiler_3.5.1       backports_1.1.5     \n",
       "[25] assertthat_0.2.1     Matrix_1.2-17        cli_2.0.2           \n",
       "[28] htmltools_0.4.0      prettyunits_1.1.1    tools_3.5.1         \n",
       "[31] coda_0.19-3          gtable_0.3.0         glue_1.4.1          \n",
       "[34] Rcpp_1.0.4           vctrs_0.2.4          nlme_3.1-142        \n",
       "[37] iterators_1.0.12     timeDate_3043.102    gower_0.2.1         \n",
       "[40] stringr_1.4.0        ps_1.3.2             testthat_2.3.2      \n",
       "[43] lifecycle_0.2.0      devtools_2.3.0       MASS_7.3-51.4       \n",
       "[46] scales_1.1.0         ipred_0.9-9          parallel_3.5.1      \n",
       "[49] RColorBrewer_1.1-2   curl_4.2             memoise_1.1.0       \n",
       "[52] rpart_4.1-15         stringi_1.4.5        desc_1.2.0          \n",
       "[55] pkgbuild_1.0.6       lava_1.6.6           repr_1.0.1          \n",
       "[58] rlang_0.4.5          pkgconfig_2.0.3      evaluate_0.14       \n",
       "[61] purrr_0.3.3          recipes_0.1.9        labeling_0.3        \n",
       "[64] tidyselect_0.2.5     processx_3.4.2       magrittr_1.5        \n",
       "[67] R6_2.4.1             generics_0.0.2       pbdZMQ_0.3-3        \n",
       "[70] pillar_1.4.3         withr_2.1.2          mgcv_1.8-31         \n",
       "[73] survival_3.1-7       nnet_7.3-12          tibble_2.1.3        \n",
       "[76] crayon_1.3.4         uuid_0.1-2           usethis_1.6.1       \n",
       "[79] data.table_1.12.8    callr_3.4.3          ModelMetrics_1.2.2.1\n",
       "[82] digest_0.6.25        stats4_3.5.1         munsell_0.5.0       \n",
       "[85] sessioninfo_1.1.1   "
      ]
     },
     "metadata": {},
     "output_type": "display_data"
    }
   ],
   "source": [
    "sessionInfo()"
   ]
  }
 ],
 "metadata": {
  "kernelspec": {
   "display_name": "R [conda env:r-env]",
   "language": "R",
   "name": "conda-env-r-env-r"
  },
  "language_info": {
   "codemirror_mode": "r",
   "file_extension": ".r",
   "mimetype": "text/x-r-source",
   "name": "R",
   "pygments_lexer": "r",
   "version": "3.5.1"
  }
 },
 "nbformat": 4,
 "nbformat_minor": 2
}
